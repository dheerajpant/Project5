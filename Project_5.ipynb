{
 "cells": [
  {
   "cell_type": "markdown",
   "metadata": {},
   "source": [
    "# Starbucks Capstone Challenge \n",
    "\n",
    "## Project Overview\n",
    "\n",
    "Starbucks Corporation is an American multinational chain of coffeehouses and roastery reserves headquartered in Seattle, Washington. As the world's largest coffeehouse chain, Starbucks is seen to be the main representation of the United States' second wave of coffee culture. As of early 2020, the company operates over 30,000 locations worldwide in more than 70 countries. Starbucks locations serve hot and cold drinks, whole-bean coffee, microground instant coffee known as VIA, espresso, caffe latte, full- and loose-leaf teas including Teavana tea products, Evolution Fresh juices, Frappuccino beverages, La Boulange pastries, and snacks including items such as chips and crackers; some offerings (including their annual fall launch of the Pumpkin Spice Latte) are seasonal or specific to the locality of the store.(**TAKEN FROM :**  [WIKIPEDIA](https://en.wikipedia.org/wiki/Starbucks))\n",
    "\n",
    "### In this capstone project i am discussing about three questions :\n",
    "\n",
    "1. How an offer works in starbucks in general? What are the top offers provided by them?\n",
    "2. What is change in market of starbucks when some offer is there?\n",
    "3. How user action parameters(say viewed, offer recieved, transaction done, cancelled, completed) are related to demographic attributes or other attributes that company floats?\n",
    "\n",
    "### Why i took this Project ?\n",
    "\n",
    "I am very curious about how discounts/offers(e.g. buy 1 get1, family pack, veg combo etc) works, how company decides what to select, which parameters are more important, when should these offers be rolled out, for how many days offer should be there. Since i also prefer offers my self and ocassionally buy things from such places during discount month or if there is an offer. So more or less i find it interesting to analyse it and see how these thing works.\n",
    "\n",
    "## Problem Statement\n",
    "\n",
    "> 1. How an offer works in starbucks in general? What are the top offers provided by them?<br>\n",
    "> 2. What is change in market of starbucks when some offer is there?<br>\n",
    "> 3. How user action parameters(say viewed, offer recieved, transaction done, cancelled, completed) are related to demographic attributes or other attributes that company floats?<br>\n",
    "\n",
    "## My strategy to solve the problem\n",
    "\n",
    "So here i will be giving picture about how i will progress in the project as it will give you an idea on what you can expect to read further in your article. I have broken problems majorly in 4 stages. In first stage i am just exploring data using pandas dataframe functions, like df.head(), df.info(), df.describe(), here i will be just looking for any scope of preprocessing the dataset. In second stage i will be doing data cleaning where i will be handling multivalued columns by splitting them, handling large numbers, handling NaNs and typecasting data values to suitable form. After this i will make sure that data is ready for exploratory data analysis. In third stage i will be visualizing the dataset and will be commenting on the plot as per my understanding. For this i will be using matplotlib and seaborn library, and using barplots, histograms, pie-plots for better understanding. Finally for prediction purpose i will be using four machine learning models and evaluate the problem according to each of them. My method for evaluation would be F score and confusion matrix mainly.\n",
    "\n",
    "### Dataset Structure\n",
    "\n",
    "The data provided consists of 3 datasets:\n",
    "- Offer portfolio(contains attributes of each offer)\n",
    "- Demographic data(for each customer)\n",
    "- Transactional records"
   ]
  },
  {
   "cell_type": "markdown",
   "metadata": {},
   "source": [
    "### Imports & load in data"
   ]
  },
  {
   "cell_type": "code",
   "execution_count": 1,
   "metadata": {},
   "outputs": [],
   "source": [
    "import numpy as np\n",
    "import pandas as pd\n",
    "import math\n",
    "import json\n",
    "from sklearn.ensemble import RandomForestClassifier\n",
    "from sklearn.preprocessing import PolynomialFeatures\n",
    "from sklearn.metrics import mean_squared_error\n",
    "from sklearn.model_selection import train_test_split\n",
    "from sklearn.metrics import classification_report\n",
    "from time import time\n",
    "from sklearn.preprocessing import StandardScaler\n",
    "from sklearn.tree import DecisionTreeClassifier\n",
    "from sklearn.model_selection import GridSearchCV\n",
    "import matplotlib.pyplot as plt\n",
    "from sklearn.linear_model import Ridge\n",
    "from sklearn.tree import DecisionTreeRegressor\n",
    "import seaborn as sns"
   ]
  },
  {
   "cell_type": "code",
   "execution_count": 2,
   "metadata": {},
   "outputs": [],
   "source": [
    "# reading jsons\n",
    "portfolio = pd.read_json('portfolio.json', orient='records', lines=True)\n",
    "profile = pd.read_json('profile.json', orient='records', lines=True)\n",
    "transcript = pd.read_json('transcript.json', orient='records', lines=True)"
   ]
  },
  {
   "cell_type": "markdown",
   "metadata": {},
   "source": [
    "# Data Exploration\n",
    "\n",
    "## In this section I will be doing exploration of data, sequentially. Further I will decide the requirement of cleaning and modelling afterwards"
   ]
  },
  {
   "cell_type": "markdown",
   "metadata": {},
   "source": [
    "### portfolio.json\n",
    "\n",
    "**Short summary about dataset**\n",
    "\n",
    "***Columns :***\n",
    "* id (string) - offer id\n",
    "* offer_type (string) - type of offer ie BOGO, discount, informational\n",
    "* difficulty (int) - minimum required spend to complete an offer\n",
    "* reward (int) - reward given for completing an offer\n",
    "* duration (int) - \n",
    "* channels (list of strings)\n",
    "\n",
    "Let's discuss more about data below"
   ]
  },
  {
   "cell_type": "code",
   "execution_count": 3,
   "metadata": {},
   "outputs": [
    {
     "data": {
      "text/plain": [
       "(10, 6)"
      ]
     },
     "execution_count": 3,
     "metadata": {},
     "output_type": "execute_result"
    }
   ],
   "source": [
    "portfolio.shape"
   ]
  },
  {
   "cell_type": "code",
   "execution_count": 4,
   "metadata": {
    "scrolled": true
   },
   "outputs": [
    {
     "data": {
      "text/html": [
       "<div>\n",
       "<style scoped>\n",
       "    .dataframe tbody tr th:only-of-type {\n",
       "        vertical-align: middle;\n",
       "    }\n",
       "\n",
       "    .dataframe tbody tr th {\n",
       "        vertical-align: top;\n",
       "    }\n",
       "\n",
       "    .dataframe thead th {\n",
       "        text-align: right;\n",
       "    }\n",
       "</style>\n",
       "<table border=\"1\" class=\"dataframe\">\n",
       "  <thead>\n",
       "    <tr style=\"text-align: right;\">\n",
       "      <th></th>\n",
       "      <th>reward</th>\n",
       "      <th>channels</th>\n",
       "      <th>difficulty</th>\n",
       "      <th>duration</th>\n",
       "      <th>offer_type</th>\n",
       "      <th>id</th>\n",
       "    </tr>\n",
       "  </thead>\n",
       "  <tbody>\n",
       "    <tr>\n",
       "      <th>0</th>\n",
       "      <td>10</td>\n",
       "      <td>[email, mobile, social]</td>\n",
       "      <td>10</td>\n",
       "      <td>7</td>\n",
       "      <td>bogo</td>\n",
       "      <td>ae264e3637204a6fb9bb56bc8210ddfd</td>\n",
       "    </tr>\n",
       "    <tr>\n",
       "      <th>1</th>\n",
       "      <td>10</td>\n",
       "      <td>[web, email, mobile, social]</td>\n",
       "      <td>10</td>\n",
       "      <td>5</td>\n",
       "      <td>bogo</td>\n",
       "      <td>4d5c57ea9a6940dd891ad53e9dbe8da0</td>\n",
       "    </tr>\n",
       "    <tr>\n",
       "      <th>2</th>\n",
       "      <td>0</td>\n",
       "      <td>[web, email, mobile]</td>\n",
       "      <td>0</td>\n",
       "      <td>4</td>\n",
       "      <td>informational</td>\n",
       "      <td>3f207df678b143eea3cee63160fa8bed</td>\n",
       "    </tr>\n",
       "    <tr>\n",
       "      <th>3</th>\n",
       "      <td>5</td>\n",
       "      <td>[web, email, mobile]</td>\n",
       "      <td>5</td>\n",
       "      <td>7</td>\n",
       "      <td>bogo</td>\n",
       "      <td>9b98b8c7a33c4b65b9aebfe6a799e6d9</td>\n",
       "    </tr>\n",
       "  </tbody>\n",
       "</table>\n",
       "</div>"
      ],
      "text/plain": [
       "   reward                      channels  difficulty  duration     offer_type  \\\n",
       "0      10       [email, mobile, social]          10         7           bogo   \n",
       "1      10  [web, email, mobile, social]          10         5           bogo   \n",
       "2       0          [web, email, mobile]           0         4  informational   \n",
       "3       5          [web, email, mobile]           5         7           bogo   \n",
       "\n",
       "                                 id  \n",
       "0  ae264e3637204a6fb9bb56bc8210ddfd  \n",
       "1  4d5c57ea9a6940dd891ad53e9dbe8da0  \n",
       "2  3f207df678b143eea3cee63160fa8bed  \n",
       "3  9b98b8c7a33c4b65b9aebfe6a799e6d9  "
      ]
     },
     "execution_count": 4,
     "metadata": {},
     "output_type": "execute_result"
    }
   ],
   "source": [
    "portfolio.head(4)"
   ]
  },
  {
   "cell_type": "markdown",
   "metadata": {},
   "source": [
    ">`Channels` column is bit weired need to manage it during cleaning phase. There might also be requirement of standardazation/normalization/scaling of data also. Further other features are straigh-forward. "
   ]
  },
  {
   "cell_type": "code",
   "execution_count": 5,
   "metadata": {},
   "outputs": [
    {
     "name": "stdout",
     "output_type": "stream",
     "text": [
      "<class 'pandas.core.frame.DataFrame'>\n",
      "RangeIndex: 10 entries, 0 to 9\n",
      "Data columns (total 6 columns):\n",
      " #   Column      Non-Null Count  Dtype \n",
      "---  ------      --------------  ----- \n",
      " 0   reward      10 non-null     int64 \n",
      " 1   channels    10 non-null     object\n",
      " 2   difficulty  10 non-null     int64 \n",
      " 3   duration    10 non-null     int64 \n",
      " 4   offer_type  10 non-null     object\n",
      " 5   id          10 non-null     object\n",
      "dtypes: int64(3), object(3)\n",
      "memory usage: 608.0+ bytes\n"
     ]
    }
   ],
   "source": [
    "portfolio.info()"
   ]
  },
  {
   "cell_type": "markdown",
   "metadata": {},
   "source": [
    ">dtypes: int64(3), object(3)"
   ]
  },
  {
   "cell_type": "code",
   "execution_count": 6,
   "metadata": {},
   "outputs": [
    {
     "data": {
      "text/html": [
       "<div>\n",
       "<style scoped>\n",
       "    .dataframe tbody tr th:only-of-type {\n",
       "        vertical-align: middle;\n",
       "    }\n",
       "\n",
       "    .dataframe tbody tr th {\n",
       "        vertical-align: top;\n",
       "    }\n",
       "\n",
       "    .dataframe thead th {\n",
       "        text-align: right;\n",
       "    }\n",
       "</style>\n",
       "<table border=\"1\" class=\"dataframe\">\n",
       "  <thead>\n",
       "    <tr style=\"text-align: right;\">\n",
       "      <th></th>\n",
       "      <th>reward</th>\n",
       "      <th>difficulty</th>\n",
       "      <th>duration</th>\n",
       "    </tr>\n",
       "  </thead>\n",
       "  <tbody>\n",
       "    <tr>\n",
       "      <th>count</th>\n",
       "      <td>10.000000</td>\n",
       "      <td>10.000000</td>\n",
       "      <td>10.000000</td>\n",
       "    </tr>\n",
       "    <tr>\n",
       "      <th>mean</th>\n",
       "      <td>4.200000</td>\n",
       "      <td>7.700000</td>\n",
       "      <td>6.500000</td>\n",
       "    </tr>\n",
       "    <tr>\n",
       "      <th>std</th>\n",
       "      <td>3.583915</td>\n",
       "      <td>5.831905</td>\n",
       "      <td>2.321398</td>\n",
       "    </tr>\n",
       "    <tr>\n",
       "      <th>min</th>\n",
       "      <td>0.000000</td>\n",
       "      <td>0.000000</td>\n",
       "      <td>3.000000</td>\n",
       "    </tr>\n",
       "    <tr>\n",
       "      <th>25%</th>\n",
       "      <td>2.000000</td>\n",
       "      <td>5.000000</td>\n",
       "      <td>5.000000</td>\n",
       "    </tr>\n",
       "    <tr>\n",
       "      <th>50%</th>\n",
       "      <td>4.000000</td>\n",
       "      <td>8.500000</td>\n",
       "      <td>7.000000</td>\n",
       "    </tr>\n",
       "    <tr>\n",
       "      <th>75%</th>\n",
       "      <td>5.000000</td>\n",
       "      <td>10.000000</td>\n",
       "      <td>7.000000</td>\n",
       "    </tr>\n",
       "    <tr>\n",
       "      <th>max</th>\n",
       "      <td>10.000000</td>\n",
       "      <td>20.000000</td>\n",
       "      <td>10.000000</td>\n",
       "    </tr>\n",
       "  </tbody>\n",
       "</table>\n",
       "</div>"
      ],
      "text/plain": [
       "          reward  difficulty   duration\n",
       "count  10.000000   10.000000  10.000000\n",
       "mean    4.200000    7.700000   6.500000\n",
       "std     3.583915    5.831905   2.321398\n",
       "min     0.000000    0.000000   3.000000\n",
       "25%     2.000000    5.000000   5.000000\n",
       "50%     4.000000    8.500000   7.000000\n",
       "75%     5.000000   10.000000   7.000000\n",
       "max    10.000000   20.000000  10.000000"
      ]
     },
     "execution_count": 6,
     "metadata": {},
     "output_type": "execute_result"
    }
   ],
   "source": [
    "portfolio.describe()"
   ]
  },
  {
   "cell_type": "markdown",
   "metadata": {},
   "source": [
    ">Dataset seems ideal as min-max, mean and standard-deviation are normal and iam not seeing any sign of abruptness in terms of statistics(i am saying it loosely, lot to be discuss afterwards)"
   ]
  },
  {
   "cell_type": "code",
   "execution_count": 7,
   "metadata": {},
   "outputs": [
    {
     "data": {
      "text/plain": [
       "reward        0\n",
       "channels      0\n",
       "difficulty    0\n",
       "duration      0\n",
       "offer_type    0\n",
       "id            0\n",
       "dtype: int64"
      ]
     },
     "execution_count": 7,
     "metadata": {},
     "output_type": "execute_result"
    }
   ],
   "source": [
    "#check for null values\n",
    "portfolio.isnull().sum()"
   ]
  },
  {
   "cell_type": "markdown",
   "metadata": {},
   "source": [
    "> No missing value in dataset"
   ]
  },
  {
   "cell_type": "code",
   "execution_count": 8,
   "metadata": {},
   "outputs": [
    {
     "name": "stdout",
     "output_type": "stream",
     "text": [
      "10\n"
     ]
    }
   ],
   "source": [
    "#check no. of unique offers\n",
    "print(len(portfolio.id.unique()))"
   ]
  },
  {
   "cell_type": "markdown",
   "metadata": {},
   "source": [
    "> 10 unique ids are present in dataset"
   ]
  },
  {
   "cell_type": "markdown",
   "metadata": {},
   "source": [
    "### profile.json\n",
    "\n",
    "**Short summary about dataset**\n",
    "\n",
    "***Columns :***\n",
    "\n",
    "* age (int) - age of the customer \n",
    "* became_member_on (int) - date when customer created an app account\n",
    "* gender (str) - gender of the customer (note some entries contain 'O' for other rather than M or F)\n",
    "* id (str) - customer id\n",
    "* income (float) - customer's income\n",
    "\n",
    "Let's discuss more about data below"
   ]
  },
  {
   "cell_type": "code",
   "execution_count": 9,
   "metadata": {},
   "outputs": [
    {
     "data": {
      "text/plain": [
       "(17000, 5)"
      ]
     },
     "execution_count": 9,
     "metadata": {},
     "output_type": "execute_result"
    }
   ],
   "source": [
    "profile.shape"
   ]
  },
  {
   "cell_type": "code",
   "execution_count": 10,
   "metadata": {
    "scrolled": true
   },
   "outputs": [
    {
     "data": {
      "text/html": [
       "<div>\n",
       "<style scoped>\n",
       "    .dataframe tbody tr th:only-of-type {\n",
       "        vertical-align: middle;\n",
       "    }\n",
       "\n",
       "    .dataframe tbody tr th {\n",
       "        vertical-align: top;\n",
       "    }\n",
       "\n",
       "    .dataframe thead th {\n",
       "        text-align: right;\n",
       "    }\n",
       "</style>\n",
       "<table border=\"1\" class=\"dataframe\">\n",
       "  <thead>\n",
       "    <tr style=\"text-align: right;\">\n",
       "      <th></th>\n",
       "      <th>gender</th>\n",
       "      <th>age</th>\n",
       "      <th>id</th>\n",
       "      <th>became_member_on</th>\n",
       "      <th>income</th>\n",
       "    </tr>\n",
       "  </thead>\n",
       "  <tbody>\n",
       "    <tr>\n",
       "      <th>0</th>\n",
       "      <td>None</td>\n",
       "      <td>118</td>\n",
       "      <td>68be06ca386d4c31939f3a4f0e3dd783</td>\n",
       "      <td>20170212</td>\n",
       "      <td>NaN</td>\n",
       "    </tr>\n",
       "    <tr>\n",
       "      <th>1</th>\n",
       "      <td>F</td>\n",
       "      <td>55</td>\n",
       "      <td>0610b486422d4921ae7d2bf64640c50b</td>\n",
       "      <td>20170715</td>\n",
       "      <td>112000.0</td>\n",
       "    </tr>\n",
       "    <tr>\n",
       "      <th>2</th>\n",
       "      <td>None</td>\n",
       "      <td>118</td>\n",
       "      <td>38fe809add3b4fcf9315a9694bb96ff5</td>\n",
       "      <td>20180712</td>\n",
       "      <td>NaN</td>\n",
       "    </tr>\n",
       "    <tr>\n",
       "      <th>3</th>\n",
       "      <td>F</td>\n",
       "      <td>75</td>\n",
       "      <td>78afa995795e4d85b5d9ceeca43f5fef</td>\n",
       "      <td>20170509</td>\n",
       "      <td>100000.0</td>\n",
       "    </tr>\n",
       "  </tbody>\n",
       "</table>\n",
       "</div>"
      ],
      "text/plain": [
       "  gender  age                                id  became_member_on    income\n",
       "0   None  118  68be06ca386d4c31939f3a4f0e3dd783          20170212       NaN\n",
       "1      F   55  0610b486422d4921ae7d2bf64640c50b          20170715  112000.0\n",
       "2   None  118  38fe809add3b4fcf9315a9694bb96ff5          20180712       NaN\n",
       "3      F   75  78afa995795e4d85b5d9ceeca43f5fef          20170509  100000.0"
      ]
     },
     "execution_count": 10,
     "metadata": {},
     "output_type": "execute_result"
    }
   ],
   "source": [
    "profile.head(4)"
   ]
  },
  {
   "cell_type": "markdown",
   "metadata": {},
   "source": [
    "> 1. Null values in `gender` and `income` \n",
    "> 2. `age` has some absurd values(e.g. 118)."
   ]
  },
  {
   "cell_type": "code",
   "execution_count": 11,
   "metadata": {},
   "outputs": [
    {
     "data": {
      "text/plain": [
       "<AxesSubplot:>"
      ]
     },
     "execution_count": 11,
     "metadata": {},
     "output_type": "execute_result"
    },
    {
     "data": {
      "image/png": "[encoded data removed]",
      "text/plain": [
       "<Figure size 432x288 with 1 Axes>"
      ]
     },
     "metadata": {
      "needs_background": "light"
     },
     "output_type": "display_data"
    }
   ],
   "source": [
    "#check distribution of age column\n",
    "profile.age.hist()"
   ]
  },
  {
   "cell_type": "markdown",
   "metadata": {},
   "source": [
    "> Something wrong with ages, as we can't say them as outlier too as they are in large amount"
   ]
  },
  {
   "cell_type": "code",
   "execution_count": 12,
   "metadata": {
    "scrolled": true
   },
   "outputs": [
    {
     "name": "stdout",
     "output_type": "stream",
     "text": [
      "<class 'pandas.core.frame.DataFrame'>\n",
      "RangeIndex: 17000 entries, 0 to 16999\n",
      "Data columns (total 5 columns):\n",
      " #   Column            Non-Null Count  Dtype  \n",
      "---  ------            --------------  -----  \n",
      " 0   gender            14825 non-null  object \n",
      " 1   age               17000 non-null  int64  \n",
      " 2   id                17000 non-null  object \n",
      " 3   became_member_on  17000 non-null  int64  \n",
      " 4   income            14825 non-null  float64\n",
      "dtypes: float64(1), int64(2), object(2)\n",
      "memory usage: 664.2+ KB\n"
     ]
    }
   ],
   "source": [
    "profile.info()"
   ]
  },
  {
   "cell_type": "markdown",
   "metadata": {},
   "source": [
    "> dtypes: float64(1), int64(2), object(2)"
   ]
  },
  {
   "cell_type": "code",
   "execution_count": 13,
   "metadata": {},
   "outputs": [
    {
     "data": {
      "text/html": [
       "<div>\n",
       "<style scoped>\n",
       "    .dataframe tbody tr th:only-of-type {\n",
       "        vertical-align: middle;\n",
       "    }\n",
       "\n",
       "    .dataframe tbody tr th {\n",
       "        vertical-align: top;\n",
       "    }\n",
       "\n",
       "    .dataframe thead th {\n",
       "        text-align: right;\n",
       "    }\n",
       "</style>\n",
       "<table border=\"1\" class=\"dataframe\">\n",
       "  <thead>\n",
       "    <tr style=\"text-align: right;\">\n",
       "      <th></th>\n",
       "      <th>age</th>\n",
       "      <th>became_member_on</th>\n",
       "      <th>income</th>\n",
       "    </tr>\n",
       "  </thead>\n",
       "  <tbody>\n",
       "    <tr>\n",
       "      <th>count</th>\n",
       "      <td>17000.000000</td>\n",
       "      <td>1.700000e+04</td>\n",
       "      <td>14825.000000</td>\n",
       "    </tr>\n",
       "    <tr>\n",
       "      <th>mean</th>\n",
       "      <td>62.531412</td>\n",
       "      <td>2.016703e+07</td>\n",
       "      <td>65404.991568</td>\n",
       "    </tr>\n",
       "    <tr>\n",
       "      <th>std</th>\n",
       "      <td>26.738580</td>\n",
       "      <td>1.167750e+04</td>\n",
       "      <td>21598.299410</td>\n",
       "    </tr>\n",
       "    <tr>\n",
       "      <th>min</th>\n",
       "      <td>18.000000</td>\n",
       "      <td>2.013073e+07</td>\n",
       "      <td>30000.000000</td>\n",
       "    </tr>\n",
       "    <tr>\n",
       "      <th>25%</th>\n",
       "      <td>45.000000</td>\n",
       "      <td>2.016053e+07</td>\n",
       "      <td>49000.000000</td>\n",
       "    </tr>\n",
       "    <tr>\n",
       "      <th>50%</th>\n",
       "      <td>58.000000</td>\n",
       "      <td>2.017080e+07</td>\n",
       "      <td>64000.000000</td>\n",
       "    </tr>\n",
       "    <tr>\n",
       "      <th>75%</th>\n",
       "      <td>73.000000</td>\n",
       "      <td>2.017123e+07</td>\n",
       "      <td>80000.000000</td>\n",
       "    </tr>\n",
       "    <tr>\n",
       "      <th>max</th>\n",
       "      <td>118.000000</td>\n",
       "      <td>2.018073e+07</td>\n",
       "      <td>120000.000000</td>\n",
       "    </tr>\n",
       "  </tbody>\n",
       "</table>\n",
       "</div>"
      ],
      "text/plain": [
       "                age  became_member_on         income\n",
       "count  17000.000000      1.700000e+04   14825.000000\n",
       "mean      62.531412      2.016703e+07   65404.991568\n",
       "std       26.738580      1.167750e+04   21598.299410\n",
       "min       18.000000      2.013073e+07   30000.000000\n",
       "25%       45.000000      2.016053e+07   49000.000000\n",
       "50%       58.000000      2.017080e+07   64000.000000\n",
       "75%       73.000000      2.017123e+07   80000.000000\n",
       "max      118.000000      2.018073e+07  120000.000000"
      ]
     },
     "execution_count": 13,
     "metadata": {},
     "output_type": "execute_result"
    }
   ],
   "source": [
    "profile.describe()"
   ]
  },
  {
   "cell_type": "markdown",
   "metadata": {},
   "source": [
    "> This dataset is really weired, exactly opposite to the previous one, we need to do lot of work in this."
   ]
  },
  {
   "cell_type": "code",
   "execution_count": 14,
   "metadata": {},
   "outputs": [
    {
     "data": {
      "text/plain": [
       "gender              2175\n",
       "age                    0\n",
       "id                     0\n",
       "became_member_on       0\n",
       "income              2175\n",
       "dtype: int64"
      ]
     },
     "execution_count": 14,
     "metadata": {},
     "output_type": "execute_result"
    }
   ],
   "source": [
    "#check for null values\n",
    "profile.isnull().sum()"
   ]
  },
  {
   "cell_type": "code",
   "execution_count": 15,
   "metadata": {},
   "outputs": [
    {
     "name": "stdout",
     "output_type": "stream",
     "text": [
      "17000\n"
     ]
    }
   ],
   "source": [
    "#check how many unique people are in dataset\n",
    "print(len(profile.id.unique()))"
   ]
  },
  {
   "cell_type": "markdown",
   "metadata": {},
   "source": [
    ">17000 unique ids are present in dataset"
   ]
  },
  {
   "cell_type": "markdown",
   "metadata": {},
   "source": [
    "### transcript.json\n",
    "\n",
    "**Short summary about dataset**\n",
    "\n",
    "***Columns :***\n",
    "\n",
    "* event (str) - record description (ie transaction, offer received, offer viewed, etc.)\n",
    "* person (str) - customer id\n",
    "* time (int) - time in hours. The data begins at time t=0\n",
    "* value - (dict of strings) - either an offer id or transaction amount depending on the record\n",
    "\n",
    "Let's discuss more about data below"
   ]
  },
  {
   "cell_type": "code",
   "execution_count": 16,
   "metadata": {},
   "outputs": [
    {
     "data": {
      "text/plain": [
       "(306534, 4)"
      ]
     },
     "execution_count": 16,
     "metadata": {},
     "output_type": "execute_result"
    }
   ],
   "source": [
    "transcript.shape"
   ]
  },
  {
   "cell_type": "code",
   "execution_count": 17,
   "metadata": {},
   "outputs": [
    {
     "data": {
      "text/html": [
       "<div>\n",
       "<style scoped>\n",
       "    .dataframe tbody tr th:only-of-type {\n",
       "        vertical-align: middle;\n",
       "    }\n",
       "\n",
       "    .dataframe tbody tr th {\n",
       "        vertical-align: top;\n",
       "    }\n",
       "\n",
       "    .dataframe thead th {\n",
       "        text-align: right;\n",
       "    }\n",
       "</style>\n",
       "<table border=\"1\" class=\"dataframe\">\n",
       "  <thead>\n",
       "    <tr style=\"text-align: right;\">\n",
       "      <th></th>\n",
       "      <th>person</th>\n",
       "      <th>event</th>\n",
       "      <th>value</th>\n",
       "      <th>time</th>\n",
       "    </tr>\n",
       "  </thead>\n",
       "  <tbody>\n",
       "    <tr>\n",
       "      <th>0</th>\n",
       "      <td>78afa995795e4d85b5d9ceeca43f5fef</td>\n",
       "      <td>offer received</td>\n",
       "      <td>{'offer id': '9b98b8c7a33c4b65b9aebfe6a799e6d9'}</td>\n",
       "      <td>0</td>\n",
       "    </tr>\n",
       "    <tr>\n",
       "      <th>1</th>\n",
       "      <td>a03223e636434f42ac4c3df47e8bac43</td>\n",
       "      <td>offer received</td>\n",
       "      <td>{'offer id': '0b1e1539f2cc45b7b9fa7c272da2e1d7'}</td>\n",
       "      <td>0</td>\n",
       "    </tr>\n",
       "    <tr>\n",
       "      <th>2</th>\n",
       "      <td>e2127556f4f64592b11af22de27a7932</td>\n",
       "      <td>offer received</td>\n",
       "      <td>{'offer id': '2906b810c7d4411798c6938adc9daaa5'}</td>\n",
       "      <td>0</td>\n",
       "    </tr>\n",
       "    <tr>\n",
       "      <th>3</th>\n",
       "      <td>8ec6ce2a7e7949b1bf142def7d0e0586</td>\n",
       "      <td>offer received</td>\n",
       "      <td>{'offer id': 'fafdcd668e3743c1bb461111dcafc2a4'}</td>\n",
       "      <td>0</td>\n",
       "    </tr>\n",
       "  </tbody>\n",
       "</table>\n",
       "</div>"
      ],
      "text/plain": [
       "                             person           event  \\\n",
       "0  78afa995795e4d85b5d9ceeca43f5fef  offer received   \n",
       "1  a03223e636434f42ac4c3df47e8bac43  offer received   \n",
       "2  e2127556f4f64592b11af22de27a7932  offer received   \n",
       "3  8ec6ce2a7e7949b1bf142def7d0e0586  offer received   \n",
       "\n",
       "                                              value  time  \n",
       "0  {'offer id': '9b98b8c7a33c4b65b9aebfe6a799e6d9'}     0  \n",
       "1  {'offer id': '0b1e1539f2cc45b7b9fa7c272da2e1d7'}     0  \n",
       "2  {'offer id': '2906b810c7d4411798c6938adc9daaa5'}     0  \n",
       "3  {'offer id': 'fafdcd668e3743c1bb461111dcafc2a4'}     0  "
      ]
     },
     "execution_count": 17,
     "metadata": {},
     "output_type": "execute_result"
    }
   ],
   "source": [
    "transcript.head(4)"
   ]
  },
  {
   "cell_type": "markdown",
   "metadata": {},
   "source": [
    "> value is in dictionary form so we will take care of that"
   ]
  },
  {
   "cell_type": "code",
   "execution_count": 18,
   "metadata": {},
   "outputs": [
    {
     "name": "stdout",
     "output_type": "stream",
     "text": [
      "<class 'pandas.core.frame.DataFrame'>\n",
      "RangeIndex: 306534 entries, 0 to 306533\n",
      "Data columns (total 4 columns):\n",
      " #   Column  Non-Null Count   Dtype \n",
      "---  ------  --------------   ----- \n",
      " 0   person  306534 non-null  object\n",
      " 1   event   306534 non-null  object\n",
      " 2   value   306534 non-null  object\n",
      " 3   time    306534 non-null  int64 \n",
      "dtypes: int64(1), object(3)\n",
      "memory usage: 9.4+ MB\n"
     ]
    }
   ],
   "source": [
    "transcript.info()"
   ]
  },
  {
   "cell_type": "markdown",
   "metadata": {},
   "source": [
    "> dtypes: int64(1), object(3)"
   ]
  },
  {
   "cell_type": "code",
   "execution_count": 19,
   "metadata": {},
   "outputs": [
    {
     "data": {
      "text/html": [
       "<div>\n",
       "<style scoped>\n",
       "    .dataframe tbody tr th:only-of-type {\n",
       "        vertical-align: middle;\n",
       "    }\n",
       "\n",
       "    .dataframe tbody tr th {\n",
       "        vertical-align: top;\n",
       "    }\n",
       "\n",
       "    .dataframe thead th {\n",
       "        text-align: right;\n",
       "    }\n",
       "</style>\n",
       "<table border=\"1\" class=\"dataframe\">\n",
       "  <thead>\n",
       "    <tr style=\"text-align: right;\">\n",
       "      <th></th>\n",
       "      <th>time</th>\n",
       "    </tr>\n",
       "  </thead>\n",
       "  <tbody>\n",
       "    <tr>\n",
       "      <th>count</th>\n",
       "      <td>306534.000000</td>\n",
       "    </tr>\n",
       "    <tr>\n",
       "      <th>mean</th>\n",
       "      <td>366.382940</td>\n",
       "    </tr>\n",
       "    <tr>\n",
       "      <th>std</th>\n",
       "      <td>200.326314</td>\n",
       "    </tr>\n",
       "    <tr>\n",
       "      <th>min</th>\n",
       "      <td>0.000000</td>\n",
       "    </tr>\n",
       "    <tr>\n",
       "      <th>25%</th>\n",
       "      <td>186.000000</td>\n",
       "    </tr>\n",
       "    <tr>\n",
       "      <th>50%</th>\n",
       "      <td>408.000000</td>\n",
       "    </tr>\n",
       "    <tr>\n",
       "      <th>75%</th>\n",
       "      <td>528.000000</td>\n",
       "    </tr>\n",
       "    <tr>\n",
       "      <th>max</th>\n",
       "      <td>714.000000</td>\n",
       "    </tr>\n",
       "  </tbody>\n",
       "</table>\n",
       "</div>"
      ],
      "text/plain": [
       "                time\n",
       "count  306534.000000\n",
       "mean      366.382940\n",
       "std       200.326314\n",
       "min         0.000000\n",
       "25%       186.000000\n",
       "50%       408.000000\n",
       "75%       528.000000\n",
       "max       714.000000"
      ]
     },
     "execution_count": 19,
     "metadata": {},
     "output_type": "execute_result"
    }
   ],
   "source": [
    "transcript.describe()"
   ]
  },
  {
   "cell_type": "markdown",
   "metadata": {},
   "source": [
    "> Variance of this dataset is very high, we might need some normalization"
   ]
  },
  {
   "cell_type": "code",
   "execution_count": 20,
   "metadata": {},
   "outputs": [
    {
     "data": {
      "text/plain": [
       "person    0\n",
       "event     0\n",
       "value     0\n",
       "time      0\n",
       "dtype: int64"
      ]
     },
     "execution_count": 20,
     "metadata": {},
     "output_type": "execute_result"
    }
   ],
   "source": [
    "#check for null values\n",
    "transcript.isnull().sum()"
   ]
  },
  {
   "cell_type": "markdown",
   "metadata": {},
   "source": [
    "> No null values in dataset"
   ]
  },
  {
   "cell_type": "code",
   "execution_count": 21,
   "metadata": {},
   "outputs": [
    {
     "data": {
      "text/plain": [
       "array(['offer received', 'offer viewed', 'transaction', 'offer completed'],\n",
       "      dtype=object)"
      ]
     },
     "execution_count": 21,
     "metadata": {},
     "output_type": "execute_result"
    }
   ],
   "source": [
    "transcript.event.unique()"
   ]
  },
  {
   "cell_type": "markdown",
   "metadata": {},
   "source": [
    "> These are the parameters which we are discussing."
   ]
  },
  {
   "cell_type": "code",
   "execution_count": 22,
   "metadata": {},
   "outputs": [
    {
     "name": "stdout",
     "output_type": "stream",
     "text": [
      "17000\n"
     ]
    }
   ],
   "source": [
    "#check number of unique people represented\n",
    "print(transcript['person'].nunique())"
   ]
  },
  {
   "cell_type": "markdown",
   "metadata": {},
   "source": [
    "> 17000 unique persons are there in the dataset"
   ]
  },
  {
   "cell_type": "markdown",
   "metadata": {},
   "source": [
    "# Data Cleaning"
   ]
  },
  {
   "cell_type": "markdown",
   "metadata": {},
   "source": [
    "## Portfolio Dataset\n",
    "\n",
    "> Portfolio dataset itself was fine so we need just few touchups in this case:<br><br>\n",
    "    1.Creating a copy of the original dataframe.<br>\n",
    "    2.Convert the column 'Channels' into 4 different channel on the basis of different types of channel.\n"
   ]
  },
  {
   "cell_type": "code",
   "execution_count": 23,
   "metadata": {},
   "outputs": [],
   "source": [
    "portfolio_clean = portfolio.copy()"
   ]
  },
  {
   "cell_type": "markdown",
   "metadata": {},
   "source": [
    "> Dataset copied in case something went wrong"
   ]
  },
  {
   "cell_type": "code",
   "execution_count": 24,
   "metadata": {},
   "outputs": [],
   "source": [
    "temp = pd.get_dummies(portfolio_clean.channels.apply(pd.Series).stack())\n",
    "temp = temp.sum(level=0)\n",
    "portfolio_clean = pd.concat([portfolio_clean, temp], axis=1)"
   ]
  },
  {
   "cell_type": "markdown",
   "metadata": {},
   "source": [
    "> `channel` column being multivalues is converted to single columns for analysis"
   ]
  },
  {
   "cell_type": "code",
   "execution_count": 25,
   "metadata": {},
   "outputs": [],
   "source": [
    "portfolio_clean = portfolio_clean.drop(columns='channels')"
   ]
  },
  {
   "cell_type": "markdown",
   "metadata": {},
   "source": [
    "> dropping old columns(multivalued)"
   ]
  },
  {
   "cell_type": "code",
   "execution_count": 26,
   "metadata": {},
   "outputs": [
    {
     "data": {
      "text/html": [
       "<div>\n",
       "<style scoped>\n",
       "    .dataframe tbody tr th:only-of-type {\n",
       "        vertical-align: middle;\n",
       "    }\n",
       "\n",
       "    .dataframe tbody tr th {\n",
       "        vertical-align: top;\n",
       "    }\n",
       "\n",
       "    .dataframe thead th {\n",
       "        text-align: right;\n",
       "    }\n",
       "</style>\n",
       "<table border=\"1\" class=\"dataframe\">\n",
       "  <thead>\n",
       "    <tr style=\"text-align: right;\">\n",
       "      <th></th>\n",
       "      <th>reward</th>\n",
       "      <th>difficulty</th>\n",
       "      <th>duration</th>\n",
       "      <th>offer_type</th>\n",
       "      <th>id</th>\n",
       "      <th>email</th>\n",
       "      <th>mobile</th>\n",
       "      <th>social</th>\n",
       "      <th>web</th>\n",
       "    </tr>\n",
       "  </thead>\n",
       "  <tbody>\n",
       "    <tr>\n",
       "      <th>0</th>\n",
       "      <td>10</td>\n",
       "      <td>10</td>\n",
       "      <td>7</td>\n",
       "      <td>bogo</td>\n",
       "      <td>ae264e3637204a6fb9bb56bc8210ddfd</td>\n",
       "      <td>1</td>\n",
       "      <td>1</td>\n",
       "      <td>1</td>\n",
       "      <td>0</td>\n",
       "    </tr>\n",
       "    <tr>\n",
       "      <th>1</th>\n",
       "      <td>10</td>\n",
       "      <td>10</td>\n",
       "      <td>5</td>\n",
       "      <td>bogo</td>\n",
       "      <td>4d5c57ea9a6940dd891ad53e9dbe8da0</td>\n",
       "      <td>1</td>\n",
       "      <td>1</td>\n",
       "      <td>1</td>\n",
       "      <td>1</td>\n",
       "    </tr>\n",
       "    <tr>\n",
       "      <th>2</th>\n",
       "      <td>0</td>\n",
       "      <td>0</td>\n",
       "      <td>4</td>\n",
       "      <td>informational</td>\n",
       "      <td>3f207df678b143eea3cee63160fa8bed</td>\n",
       "      <td>1</td>\n",
       "      <td>1</td>\n",
       "      <td>0</td>\n",
       "      <td>1</td>\n",
       "    </tr>\n",
       "    <tr>\n",
       "      <th>3</th>\n",
       "      <td>5</td>\n",
       "      <td>5</td>\n",
       "      <td>7</td>\n",
       "      <td>bogo</td>\n",
       "      <td>9b98b8c7a33c4b65b9aebfe6a799e6d9</td>\n",
       "      <td>1</td>\n",
       "      <td>1</td>\n",
       "      <td>0</td>\n",
       "      <td>1</td>\n",
       "    </tr>\n",
       "  </tbody>\n",
       "</table>\n",
       "</div>"
      ],
      "text/plain": [
       "   reward  difficulty  duration     offer_type  \\\n",
       "0      10          10         7           bogo   \n",
       "1      10          10         5           bogo   \n",
       "2       0           0         4  informational   \n",
       "3       5           5         7           bogo   \n",
       "\n",
       "                                 id  email  mobile  social  web  \n",
       "0  ae264e3637204a6fb9bb56bc8210ddfd      1       1       1    0  \n",
       "1  4d5c57ea9a6940dd891ad53e9dbe8da0      1       1       1    1  \n",
       "2  3f207df678b143eea3cee63160fa8bed      1       1       0    1  \n",
       "3  9b98b8c7a33c4b65b9aebfe6a799e6d9      1       1       0    1  "
      ]
     },
     "execution_count": 26,
     "metadata": {},
     "output_type": "execute_result"
    }
   ],
   "source": [
    "portfolio_clean.head(4)"
   ]
  },
  {
   "cell_type": "markdown",
   "metadata": {},
   "source": [
    "> We can see changes are reflecting in the dataset"
   ]
  },
  {
   "cell_type": "code",
   "execution_count": 27,
   "metadata": {},
   "outputs": [
    {
     "name": "stdout",
     "output_type": "stream",
     "text": [
      "<class 'pandas.core.frame.DataFrame'>\n",
      "RangeIndex: 10 entries, 0 to 9\n",
      "Data columns (total 9 columns):\n",
      " #   Column      Non-Null Count  Dtype \n",
      "---  ------      --------------  ----- \n",
      " 0   reward      10 non-null     int64 \n",
      " 1   difficulty  10 non-null     int64 \n",
      " 2   duration    10 non-null     int64 \n",
      " 3   offer_type  10 non-null     object\n",
      " 4   id          10 non-null     object\n",
      " 5   email       10 non-null     uint8 \n",
      " 6   mobile      10 non-null     uint8 \n",
      " 7   social      10 non-null     uint8 \n",
      " 8   web         10 non-null     uint8 \n",
      "dtypes: int64(3), object(2), uint8(4)\n",
      "memory usage: 568.0+ bytes\n",
      "<class 'pandas.core.frame.DataFrame'>\n",
      "RangeIndex: 10 entries, 0 to 9\n",
      "Data columns (total 6 columns):\n",
      " #   Column      Non-Null Count  Dtype \n",
      "---  ------      --------------  ----- \n",
      " 0   reward      10 non-null     int64 \n",
      " 1   channels    10 non-null     object\n",
      " 2   difficulty  10 non-null     int64 \n",
      " 3   duration    10 non-null     int64 \n",
      " 4   offer_type  10 non-null     object\n",
      " 5   id          10 non-null     object\n",
      "dtypes: int64(3), object(3)\n",
      "memory usage: 608.0+ bytes\n"
     ]
    }
   ],
   "source": [
    "portfolio_clean.info()\n",
    "portfolio.info()"
   ]
  },
  {
   "cell_type": "markdown",
   "metadata": {},
   "source": [
    "> `Comparision` between previous dataset and our brand new dataset"
   ]
  },
  {
   "cell_type": "markdown",
   "metadata": {},
   "source": [
    "## Profile Dataset\n",
    "\n",
    "> According to initial analysis following cleaning steps are must needed:<br><br>\n",
    "    1. Creating a copy of the original dataframe.<br>\n",
    "    2. Gender and income has missing values.<br>\n",
    "    3. Age has 118 as encoding for NaNs.<br>\n",
    "    4. became_member_on can/should be changed to datetime i.e., convert the datatype of 'became_member_on' column and sort the date into proper format.<br>"
   ]
  },
  {
   "cell_type": "code",
   "execution_count": 28,
   "metadata": {},
   "outputs": [],
   "source": [
    "profile_clean = profile.copy()"
   ]
  },
  {
   "cell_type": "code",
   "execution_count": 29,
   "metadata": {},
   "outputs": [
    {
     "data": {
      "text/plain": [
       "M      0.499059\n",
       "F      0.360529\n",
       "NaN    0.127941\n",
       "O      0.012471\n",
       "Name: gender, dtype: float64"
      ]
     },
     "execution_count": 29,
     "metadata": {},
     "output_type": "execute_result"
    }
   ],
   "source": [
    "profile_clean.gender.value_counts(dropna=False) / profile_clean.shape[0]"
   ]
  },
  {
   "cell_type": "markdown",
   "metadata": {},
   "source": [
    "> We can see how much fractions are NaN we will fix it at last"
   ]
  },
  {
   "cell_type": "code",
   "execution_count": 30,
   "metadata": {},
   "outputs": [],
   "source": [
    "# Age above 118 is irrelevant\n",
    "profile_clean.loc[profile_clean[\"age\"] == 118, \"age\"] = None"
   ]
  },
  {
   "cell_type": "markdown",
   "metadata": {},
   "source": [
    "> Fixing age issue, as age above 118 is irrelavant further it is encoded as NaN so converting it to None, so that it makes more sense"
   ]
  },
  {
   "cell_type": "code",
   "execution_count": 31,
   "metadata": {},
   "outputs": [],
   "source": [
    "# Fixing date-time\n",
    "profile_clean['became_member_on'] = pd.to_datetime(profile_clean['became_member_on'], format='%Y%m%d')"
   ]
  },
  {
   "cell_type": "markdown",
   "metadata": {},
   "source": [
    "> Date is converted to correct format for easy analysis in future"
   ]
  },
  {
   "cell_type": "code",
   "execution_count": 32,
   "metadata": {},
   "outputs": [
    {
     "data": {
      "text/plain": [
       "True"
      ]
     },
     "execution_count": 32,
     "metadata": {},
     "output_type": "execute_result"
    }
   ],
   "source": [
    "bool1 = profile_clean[\"gender\"].notna()\n",
    "bool2 = profile_clean[\"age\"].notna()\n",
    "bool3 = profile_clean[\"income\"].notna()\n",
    "profile_clean[bool1 | bool2 | bool3].isna().any(axis=1).sum() == 0"
   ]
  },
  {
   "cell_type": "markdown",
   "metadata": {},
   "source": [
    "> Great! NaN values are overlapping completely, this was much needed at this time :), now my work is little bit easy"
   ]
  },
  {
   "cell_type": "code",
   "execution_count": 33,
   "metadata": {},
   "outputs": [
    {
     "data": {
      "image/png": "[encoded data removed]",
      "text/plain": [
       "<Figure size 432x288 with 1 Axes>"
      ]
     },
     "metadata": {
      "needs_background": "light"
     },
     "output_type": "display_data"
    }
   ],
   "source": [
    "# ... for not having NaNs in gender, age, income\n",
    "sns.barplot(\n",
    "    data=(\n",
    "        profile_clean[profile_clean[\"age\"].notna()]\n",
    "        [[\"became_member_on\", \"id\"]]\n",
    "        .set_index(\"became_member_on\")\n",
    "        .resample(\"M\")\n",
    "        .count()\n",
    "        .reset_index()\n",
    "    ),\n",
    "    x=\"became_member_on\",\n",
    "    y=\"id\",\n",
    "    color=\"grey\"\n",
    ")\n",
    "# ... for having NaNs in gender, age, income\n",
    "sns.barplot(\n",
    "    data=(\n",
    "        profile_clean[profile_clean[\"age\"].isna()]\n",
    "        [[\"became_member_on\", \"id\"]]\n",
    "        .set_index(\"became_member_on\")\n",
    "        .resample(\"M\")\n",
    "        .count()\n",
    "        .reset_index()\n",
    "    ),\n",
    "    x=\"became_member_on\",\n",
    "    y=\"id\",\n",
    "    color=\"blue\"\n",
    ")\n",
    "# Set title\n",
    "plt.title(\"Plot clearly showing overlap\");"
   ]
  },
  {
   "cell_type": "markdown",
   "metadata": {},
   "source": [
    "> Since frequency of NaN values are very high, so dopping them is not a good choice, so currently i am not dropping them as they are highly aligned(highly overlapping), further i when it is required i will take decision at that point(like replacing it with mean, median or mode of whole column, but this is highly specific to analysis)"
   ]
  },
  {
   "cell_type": "code",
   "execution_count": 34,
   "metadata": {},
   "outputs": [],
   "source": [
    "# Fixing Datatype issues\n",
    "profile_clean[\"id\"] = profile_clean[\"id\"].astype(str)\n",
    "profile_clean[\"age\"] = profile_clean[\"age\"].astype(float)\n",
    "profile_clean[\"income\"] = profile_clean[\"income\"].astype(float)\n",
    "profile_clean[\"became_member_on\"] = profile_clean[\"became_member_on\"].astype('datetime64[ns]')\n",
    "profile_clean[\"gender\"] = profile_clean[\"gender\"].astype(object)"
   ]
  },
  {
   "cell_type": "markdown",
   "metadata": {},
   "source": [
    "> Dataset dtype is converted, this will double check and ensure buglessness in future"
   ]
  },
  {
   "cell_type": "code",
   "execution_count": 35,
   "metadata": {},
   "outputs": [
    {
     "name": "stdout",
     "output_type": "stream",
     "text": [
      "Old\n",
      "  gender  age                                id  became_member_on    income\n",
      "0   None  118  68be06ca386d4c31939f3a4f0e3dd783          20170212       NaN\n",
      "1      F   55  0610b486422d4921ae7d2bf64640c50b          20170715  112000.0\n",
      "New\n",
      "  gender   age                                id became_member_on    income\n",
      "0   None   NaN  68be06ca386d4c31939f3a4f0e3dd783       2017-02-12       NaN\n",
      "1      F  55.0  0610b486422d4921ae7d2bf64640c50b       2017-07-15  112000.0\n"
     ]
    }
   ],
   "source": [
    "print(\"Old\")\n",
    "print(profile.head(2))\n",
    "print(\"New\")\n",
    "print(profile_clean.head(2))"
   ]
  },
  {
   "cell_type": "markdown",
   "metadata": {},
   "source": [
    "> See the change in old and new"
   ]
  },
  {
   "cell_type": "code",
   "execution_count": 36,
   "metadata": {},
   "outputs": [
    {
     "name": "stdout",
     "output_type": "stream",
     "text": [
      "<class 'pandas.core.frame.DataFrame'>\n",
      "RangeIndex: 17000 entries, 0 to 16999\n",
      "Data columns (total 5 columns):\n",
      " #   Column            Non-Null Count  Dtype         \n",
      "---  ------            --------------  -----         \n",
      " 0   gender            14825 non-null  object        \n",
      " 1   age               14825 non-null  float64       \n",
      " 2   id                17000 non-null  object        \n",
      " 3   became_member_on  17000 non-null  datetime64[ns]\n",
      " 4   income            14825 non-null  float64       \n",
      "dtypes: datetime64[ns](1), float64(2), object(2)\n",
      "memory usage: 664.2+ KB\n"
     ]
    }
   ],
   "source": [
    "profile_clean.info()"
   ]
  },
  {
   "cell_type": "markdown",
   "metadata": {},
   "source": [
    "## Transcript Dataset\n",
    "\n",
    "> According to initial analysis following cleaning steps are must needed:<br><br>\n",
    "    1. Copy the dataset<br>\n",
    "    2. Name change from 'person' to 'id'.(helpful in merging)<br>\n",
    "    3. 'Event' splits into 4 different columns on the basis of different types of event.<br>\n",
    "    4. 'Values' splits into 2 different column.<br>\n"
   ]
  },
  {
   "cell_type": "code",
   "execution_count": 37,
   "metadata": {},
   "outputs": [],
   "source": [
    "transcript_clean = transcript.copy()"
   ]
  },
  {
   "cell_type": "code",
   "execution_count": 38,
   "metadata": {},
   "outputs": [],
   "source": [
    "transcript_clean = transcript_clean.rename(columns={'person':'id'})"
   ]
  },
  {
   "cell_type": "markdown",
   "metadata": {},
   "source": [
    "> Name changing occured!"
   ]
  },
  {
   "cell_type": "code",
   "execution_count": 39,
   "metadata": {},
   "outputs": [
    {
     "data": {
      "text/plain": [
       "transaction        138953\n",
       "offer-received      76277\n",
       "offer-viewed        57725\n",
       "offer-completed     33579\n",
       "Name: event, dtype: int64"
      ]
     },
     "execution_count": 39,
     "metadata": {},
     "output_type": "execute_result"
    }
   ],
   "source": [
    "transcript_clean['event'] = transcript_clean['event'].str.replace(' ', '-')\n",
    "transcript_clean['event'].value_counts()"
   ]
  },
  {
   "cell_type": "markdown",
   "metadata": {},
   "source": [
    "> We can see the change above, note dtype is int which is good thing"
   ]
  },
  {
   "cell_type": "code",
   "execution_count": 40,
   "metadata": {},
   "outputs": [],
   "source": [
    "temp = pd.get_dummies(transcript_clean['event'])\n",
    "transcript_clean = pd.concat([transcript_clean, temp], axis=1 )"
   ]
  },
  {
   "cell_type": "markdown",
   "metadata": {},
   "source": [
    "> Splitting the event and then appending it to original dataframe `transcript_clean`"
   ]
  },
  {
   "cell_type": "code",
   "execution_count": 41,
   "metadata": {},
   "outputs": [
    {
     "data": {
      "text/plain": [
       "(306534, 9)"
      ]
     },
     "execution_count": 41,
     "metadata": {},
     "output_type": "execute_result"
    }
   ],
   "source": [
    "transcript_clean['offer_id'] = [[*i.values()][0] if \n",
    "                                [*i.keys()][0] in ['offer id','offer_id'] \n",
    "                                                 else None for i in transcript_clean.value]\n",
    "transcript_clean.shape"
   ]
  },
  {
   "cell_type": "markdown",
   "metadata": {},
   "source": [
    "> Fixing offer_id column especially when it's not null, please see the shape also"
   ]
  },
  {
   "cell_type": "code",
   "execution_count": 42,
   "metadata": {},
   "outputs": [
    {
     "data": {
      "text/plain": [
       "(306534, 10)"
      ]
     },
     "execution_count": 42,
     "metadata": {},
     "output_type": "execute_result"
    }
   ],
   "source": [
    "transcript_clean['amount'] = [np.round([*i.values()][0], 2) if [*i.keys()][0] == 'amount' \n",
    "                                                             else None for i in transcript_clean.value]\n",
    "transcript_clean.shape"
   ]
  },
  {
   "cell_type": "markdown",
   "metadata": {},
   "source": [
    "> Fixing amount column similar to above when it's not null(splitting into two), please see the change in shape also."
   ]
  },
  {
   "cell_type": "code",
   "execution_count": 43,
   "metadata": {},
   "outputs": [],
   "source": [
    "transcript_clean = transcript_clean.drop(columns='value')"
   ]
  },
  {
   "cell_type": "markdown",
   "metadata": {},
   "source": [
    "> Dropping redundant column"
   ]
  },
  {
   "cell_type": "code",
   "execution_count": 44,
   "metadata": {},
   "outputs": [
    {
     "name": "stdout",
     "output_type": "stream",
     "text": [
      "Old\n",
      "                             person           event  \\\n",
      "0  78afa995795e4d85b5d9ceeca43f5fef  offer received   \n",
      "1  a03223e636434f42ac4c3df47e8bac43  offer received   \n",
      "\n",
      "                                              value  time  \n",
      "0  {'offer id': '9b98b8c7a33c4b65b9aebfe6a799e6d9'}     0  \n",
      "1  {'offer id': '0b1e1539f2cc45b7b9fa7c272da2e1d7'}     0  \n",
      "\n",
      "\n",
      "New\n",
      "                                 id           event  time  offer-completed  \\\n",
      "0  78afa995795e4d85b5d9ceeca43f5fef  offer-received     0                0   \n",
      "1  a03223e636434f42ac4c3df47e8bac43  offer-received     0                0   \n",
      "\n",
      "   offer-received  offer-viewed  transaction  \\\n",
      "0               1             0            0   \n",
      "1               1             0            0   \n",
      "\n",
      "                           offer_id  amount  \n",
      "0  9b98b8c7a33c4b65b9aebfe6a799e6d9     NaN  \n",
      "1  0b1e1539f2cc45b7b9fa7c272da2e1d7     NaN  \n"
     ]
    }
   ],
   "source": [
    "print(\"Old\")\n",
    "print(transcript.head(2))\n",
    "print(\"\\n\\nNew\")\n",
    "print(transcript_clean.head(2))"
   ]
  },
  {
   "cell_type": "code",
   "execution_count": 45,
   "metadata": {},
   "outputs": [
    {
     "name": "stdout",
     "output_type": "stream",
     "text": [
      "<class 'pandas.core.frame.DataFrame'>\n",
      "RangeIndex: 306534 entries, 0 to 306533\n",
      "Data columns (total 9 columns):\n",
      " #   Column           Non-Null Count   Dtype  \n",
      "---  ------           --------------   -----  \n",
      " 0   id               306534 non-null  object \n",
      " 1   event            306534 non-null  object \n",
      " 2   time             306534 non-null  int64  \n",
      " 3   offer-completed  306534 non-null  uint8  \n",
      " 4   offer-received   306534 non-null  uint8  \n",
      " 5   offer-viewed     306534 non-null  uint8  \n",
      " 6   transaction      306534 non-null  uint8  \n",
      " 7   offer_id         167581 non-null  object \n",
      " 8   amount           138953 non-null  float64\n",
      "dtypes: float64(1), int64(1), object(3), uint8(4)\n",
      "memory usage: 12.9+ MB\n"
     ]
    }
   ],
   "source": [
    "transcript_clean.info()"
   ]
  },
  {
   "cell_type": "markdown",
   "metadata": {},
   "source": [
    "> Above is the information about the latest cleaned dataset"
   ]
  },
  {
   "cell_type": "markdown",
   "metadata": {},
   "source": [
    "## Merging and storing final dataset"
   ]
  },
  {
   "cell_type": "markdown",
   "metadata": {},
   "source": [
    "##### Lets look at all the datasets which we are having, for merging"
   ]
  },
  {
   "cell_type": "code",
   "execution_count": 46,
   "metadata": {},
   "outputs": [
    {
     "data": {
      "text/html": [
       "<div>\n",
       "<style scoped>\n",
       "    .dataframe tbody tr th:only-of-type {\n",
       "        vertical-align: middle;\n",
       "    }\n",
       "\n",
       "    .dataframe tbody tr th {\n",
       "        vertical-align: top;\n",
       "    }\n",
       "\n",
       "    .dataframe thead th {\n",
       "        text-align: right;\n",
       "    }\n",
       "</style>\n",
       "<table border=\"1\" class=\"dataframe\">\n",
       "  <thead>\n",
       "    <tr style=\"text-align: right;\">\n",
       "      <th></th>\n",
       "      <th>reward</th>\n",
       "      <th>difficulty</th>\n",
       "      <th>duration</th>\n",
       "      <th>offer_type</th>\n",
       "      <th>id</th>\n",
       "      <th>email</th>\n",
       "      <th>mobile</th>\n",
       "      <th>social</th>\n",
       "      <th>web</th>\n",
       "    </tr>\n",
       "  </thead>\n",
       "  <tbody>\n",
       "    <tr>\n",
       "      <th>0</th>\n",
       "      <td>10</td>\n",
       "      <td>10</td>\n",
       "      <td>7</td>\n",
       "      <td>bogo</td>\n",
       "      <td>ae264e3637204a6fb9bb56bc8210ddfd</td>\n",
       "      <td>1</td>\n",
       "      <td>1</td>\n",
       "      <td>1</td>\n",
       "      <td>0</td>\n",
       "    </tr>\n",
       "    <tr>\n",
       "      <th>1</th>\n",
       "      <td>10</td>\n",
       "      <td>10</td>\n",
       "      <td>5</td>\n",
       "      <td>bogo</td>\n",
       "      <td>4d5c57ea9a6940dd891ad53e9dbe8da0</td>\n",
       "      <td>1</td>\n",
       "      <td>1</td>\n",
       "      <td>1</td>\n",
       "      <td>1</td>\n",
       "    </tr>\n",
       "  </tbody>\n",
       "</table>\n",
       "</div>"
      ],
      "text/plain": [
       "   reward  difficulty  duration offer_type                                id  \\\n",
       "0      10          10         7       bogo  ae264e3637204a6fb9bb56bc8210ddfd   \n",
       "1      10          10         5       bogo  4d5c57ea9a6940dd891ad53e9dbe8da0   \n",
       "\n",
       "   email  mobile  social  web  \n",
       "0      1       1       1    0  \n",
       "1      1       1       1    1  "
      ]
     },
     "execution_count": 46,
     "metadata": {},
     "output_type": "execute_result"
    }
   ],
   "source": [
    "portfolio_clean.head(2)"
   ]
  },
  {
   "cell_type": "code",
   "execution_count": 47,
   "metadata": {},
   "outputs": [],
   "source": [
    "portfolio_clean = portfolio_clean.rename(columns={'id':'offer_id'})"
   ]
  },
  {
   "cell_type": "markdown",
   "metadata": {},
   "source": [
    "> Column name change is required for merging"
   ]
  },
  {
   "cell_type": "code",
   "execution_count": 48,
   "metadata": {},
   "outputs": [
    {
     "data": {
      "text/html": [
       "<div>\n",
       "<style scoped>\n",
       "    .dataframe tbody tr th:only-of-type {\n",
       "        vertical-align: middle;\n",
       "    }\n",
       "\n",
       "    .dataframe tbody tr th {\n",
       "        vertical-align: top;\n",
       "    }\n",
       "\n",
       "    .dataframe thead th {\n",
       "        text-align: right;\n",
       "    }\n",
       "</style>\n",
       "<table border=\"1\" class=\"dataframe\">\n",
       "  <thead>\n",
       "    <tr style=\"text-align: right;\">\n",
       "      <th></th>\n",
       "      <th>reward</th>\n",
       "      <th>difficulty</th>\n",
       "      <th>duration</th>\n",
       "      <th>offer_type</th>\n",
       "      <th>offer_id</th>\n",
       "      <th>email</th>\n",
       "      <th>mobile</th>\n",
       "      <th>social</th>\n",
       "      <th>web</th>\n",
       "    </tr>\n",
       "  </thead>\n",
       "  <tbody>\n",
       "    <tr>\n",
       "      <th>0</th>\n",
       "      <td>10</td>\n",
       "      <td>10</td>\n",
       "      <td>7</td>\n",
       "      <td>bogo</td>\n",
       "      <td>ae264e3637204a6fb9bb56bc8210ddfd</td>\n",
       "      <td>1</td>\n",
       "      <td>1</td>\n",
       "      <td>1</td>\n",
       "      <td>0</td>\n",
       "    </tr>\n",
       "    <tr>\n",
       "      <th>1</th>\n",
       "      <td>10</td>\n",
       "      <td>10</td>\n",
       "      <td>5</td>\n",
       "      <td>bogo</td>\n",
       "      <td>4d5c57ea9a6940dd891ad53e9dbe8da0</td>\n",
       "      <td>1</td>\n",
       "      <td>1</td>\n",
       "      <td>1</td>\n",
       "      <td>1</td>\n",
       "    </tr>\n",
       "  </tbody>\n",
       "</table>\n",
       "</div>"
      ],
      "text/plain": [
       "   reward  difficulty  duration offer_type                          offer_id  \\\n",
       "0      10          10         7       bogo  ae264e3637204a6fb9bb56bc8210ddfd   \n",
       "1      10          10         5       bogo  4d5c57ea9a6940dd891ad53e9dbe8da0   \n",
       "\n",
       "   email  mobile  social  web  \n",
       "0      1       1       1    0  \n",
       "1      1       1       1    1  "
      ]
     },
     "execution_count": 48,
     "metadata": {},
     "output_type": "execute_result"
    }
   ],
   "source": [
    "portfolio_clean.head(2)"
   ]
  },
  {
   "cell_type": "code",
   "execution_count": 49,
   "metadata": {},
   "outputs": [
    {
     "data": {
      "text/html": [
       "<div>\n",
       "<style scoped>\n",
       "    .dataframe tbody tr th:only-of-type {\n",
       "        vertical-align: middle;\n",
       "    }\n",
       "\n",
       "    .dataframe tbody tr th {\n",
       "        vertical-align: top;\n",
       "    }\n",
       "\n",
       "    .dataframe thead th {\n",
       "        text-align: right;\n",
       "    }\n",
       "</style>\n",
       "<table border=\"1\" class=\"dataframe\">\n",
       "  <thead>\n",
       "    <tr style=\"text-align: right;\">\n",
       "      <th></th>\n",
       "      <th>gender</th>\n",
       "      <th>age</th>\n",
       "      <th>id</th>\n",
       "      <th>became_member_on</th>\n",
       "      <th>income</th>\n",
       "    </tr>\n",
       "  </thead>\n",
       "  <tbody>\n",
       "    <tr>\n",
       "      <th>0</th>\n",
       "      <td>None</td>\n",
       "      <td>NaN</td>\n",
       "      <td>68be06ca386d4c31939f3a4f0e3dd783</td>\n",
       "      <td>2017-02-12</td>\n",
       "      <td>NaN</td>\n",
       "    </tr>\n",
       "    <tr>\n",
       "      <th>1</th>\n",
       "      <td>F</td>\n",
       "      <td>55.0</td>\n",
       "      <td>0610b486422d4921ae7d2bf64640c50b</td>\n",
       "      <td>2017-07-15</td>\n",
       "      <td>112000.0</td>\n",
       "    </tr>\n",
       "  </tbody>\n",
       "</table>\n",
       "</div>"
      ],
      "text/plain": [
       "  gender   age                                id became_member_on    income\n",
       "0   None   NaN  68be06ca386d4c31939f3a4f0e3dd783       2017-02-12       NaN\n",
       "1      F  55.0  0610b486422d4921ae7d2bf64640c50b       2017-07-15  112000.0"
      ]
     },
     "execution_count": 49,
     "metadata": {},
     "output_type": "execute_result"
    }
   ],
   "source": [
    "profile_clean.head(2)"
   ]
  },
  {
   "cell_type": "code",
   "execution_count": 50,
   "metadata": {},
   "outputs": [
    {
     "data": {
      "text/html": [
       "<div>\n",
       "<style scoped>\n",
       "    .dataframe tbody tr th:only-of-type {\n",
       "        vertical-align: middle;\n",
       "    }\n",
       "\n",
       "    .dataframe tbody tr th {\n",
       "        vertical-align: top;\n",
       "    }\n",
       "\n",
       "    .dataframe thead th {\n",
       "        text-align: right;\n",
       "    }\n",
       "</style>\n",
       "<table border=\"1\" class=\"dataframe\">\n",
       "  <thead>\n",
       "    <tr style=\"text-align: right;\">\n",
       "      <th></th>\n",
       "      <th>id</th>\n",
       "      <th>event</th>\n",
       "      <th>time</th>\n",
       "      <th>offer-completed</th>\n",
       "      <th>offer-received</th>\n",
       "      <th>offer-viewed</th>\n",
       "      <th>transaction</th>\n",
       "      <th>offer_id</th>\n",
       "      <th>amount</th>\n",
       "    </tr>\n",
       "  </thead>\n",
       "  <tbody>\n",
       "    <tr>\n",
       "      <th>0</th>\n",
       "      <td>78afa995795e4d85b5d9ceeca43f5fef</td>\n",
       "      <td>offer-received</td>\n",
       "      <td>0</td>\n",
       "      <td>0</td>\n",
       "      <td>1</td>\n",
       "      <td>0</td>\n",
       "      <td>0</td>\n",
       "      <td>9b98b8c7a33c4b65b9aebfe6a799e6d9</td>\n",
       "      <td>NaN</td>\n",
       "    </tr>\n",
       "    <tr>\n",
       "      <th>1</th>\n",
       "      <td>a03223e636434f42ac4c3df47e8bac43</td>\n",
       "      <td>offer-received</td>\n",
       "      <td>0</td>\n",
       "      <td>0</td>\n",
       "      <td>1</td>\n",
       "      <td>0</td>\n",
       "      <td>0</td>\n",
       "      <td>0b1e1539f2cc45b7b9fa7c272da2e1d7</td>\n",
       "      <td>NaN</td>\n",
       "    </tr>\n",
       "  </tbody>\n",
       "</table>\n",
       "</div>"
      ],
      "text/plain": [
       "                                 id           event  time  offer-completed  \\\n",
       "0  78afa995795e4d85b5d9ceeca43f5fef  offer-received     0                0   \n",
       "1  a03223e636434f42ac4c3df47e8bac43  offer-received     0                0   \n",
       "\n",
       "   offer-received  offer-viewed  transaction  \\\n",
       "0               1             0            0   \n",
       "1               1             0            0   \n",
       "\n",
       "                           offer_id  amount  \n",
       "0  9b98b8c7a33c4b65b9aebfe6a799e6d9     NaN  \n",
       "1  0b1e1539f2cc45b7b9fa7c272da2e1d7     NaN  "
      ]
     },
     "execution_count": 50,
     "metadata": {},
     "output_type": "execute_result"
    }
   ],
   "source": [
    "transcript_clean.head(2)"
   ]
  },
  {
   "cell_type": "markdown",
   "metadata": {},
   "source": [
    "> It is clearly visible that we can join these table based on id(that's why i changed name), after merging we will use offer_id also for joining factor, the final dataset will be the combination of all."
   ]
  },
  {
   "cell_type": "code",
   "execution_count": 51,
   "metadata": {},
   "outputs": [],
   "source": [
    "temp = pd.merge(transcript_clean, profile_clean, on='id')"
   ]
  },
  {
   "cell_type": "code",
   "execution_count": 52,
   "metadata": {},
   "outputs": [],
   "source": [
    "df_cleaned = pd.merge(temp, portfolio_clean, on='offer_id', how='left')"
   ]
  },
  {
   "cell_type": "markdown",
   "metadata": {},
   "source": [
    "> Final merged dataframe is `df_cleaned`"
   ]
  },
  {
   "cell_type": "code",
   "execution_count": 53,
   "metadata": {},
   "outputs": [
    {
     "data": {
      "text/html": [
       "<div>\n",
       "<style scoped>\n",
       "    .dataframe tbody tr th:only-of-type {\n",
       "        vertical-align: middle;\n",
       "    }\n",
       "\n",
       "    .dataframe tbody tr th {\n",
       "        vertical-align: top;\n",
       "    }\n",
       "\n",
       "    .dataframe thead th {\n",
       "        text-align: right;\n",
       "    }\n",
       "</style>\n",
       "<table border=\"1\" class=\"dataframe\">\n",
       "  <thead>\n",
       "    <tr style=\"text-align: right;\">\n",
       "      <th></th>\n",
       "      <th>id</th>\n",
       "      <th>event</th>\n",
       "      <th>time</th>\n",
       "      <th>offer-completed</th>\n",
       "      <th>offer-received</th>\n",
       "      <th>offer-viewed</th>\n",
       "      <th>transaction</th>\n",
       "      <th>offer_id</th>\n",
       "      <th>amount</th>\n",
       "      <th>gender</th>\n",
       "      <th>...</th>\n",
       "      <th>became_member_on</th>\n",
       "      <th>income</th>\n",
       "      <th>reward</th>\n",
       "      <th>difficulty</th>\n",
       "      <th>duration</th>\n",
       "      <th>offer_type</th>\n",
       "      <th>email</th>\n",
       "      <th>mobile</th>\n",
       "      <th>social</th>\n",
       "      <th>web</th>\n",
       "    </tr>\n",
       "  </thead>\n",
       "  <tbody>\n",
       "    <tr>\n",
       "      <th>0</th>\n",
       "      <td>78afa995795e4d85b5d9ceeca43f5fef</td>\n",
       "      <td>offer-received</td>\n",
       "      <td>0</td>\n",
       "      <td>0</td>\n",
       "      <td>1</td>\n",
       "      <td>0</td>\n",
       "      <td>0</td>\n",
       "      <td>9b98b8c7a33c4b65b9aebfe6a799e6d9</td>\n",
       "      <td>NaN</td>\n",
       "      <td>F</td>\n",
       "      <td>...</td>\n",
       "      <td>2017-05-09</td>\n",
       "      <td>100000.0</td>\n",
       "      <td>5.0</td>\n",
       "      <td>5.0</td>\n",
       "      <td>7.0</td>\n",
       "      <td>bogo</td>\n",
       "      <td>1.0</td>\n",
       "      <td>1.0</td>\n",
       "      <td>0.0</td>\n",
       "      <td>1.0</td>\n",
       "    </tr>\n",
       "    <tr>\n",
       "      <th>1</th>\n",
       "      <td>78afa995795e4d85b5d9ceeca43f5fef</td>\n",
       "      <td>offer-viewed</td>\n",
       "      <td>6</td>\n",
       "      <td>0</td>\n",
       "      <td>0</td>\n",
       "      <td>1</td>\n",
       "      <td>0</td>\n",
       "      <td>9b98b8c7a33c4b65b9aebfe6a799e6d9</td>\n",
       "      <td>NaN</td>\n",
       "      <td>F</td>\n",
       "      <td>...</td>\n",
       "      <td>2017-05-09</td>\n",
       "      <td>100000.0</td>\n",
       "      <td>5.0</td>\n",
       "      <td>5.0</td>\n",
       "      <td>7.0</td>\n",
       "      <td>bogo</td>\n",
       "      <td>1.0</td>\n",
       "      <td>1.0</td>\n",
       "      <td>0.0</td>\n",
       "      <td>1.0</td>\n",
       "    </tr>\n",
       "  </tbody>\n",
       "</table>\n",
       "<p>2 rows × 21 columns</p>\n",
       "</div>"
      ],
      "text/plain": [
       "                                 id           event  time  offer-completed  \\\n",
       "0  78afa995795e4d85b5d9ceeca43f5fef  offer-received     0                0   \n",
       "1  78afa995795e4d85b5d9ceeca43f5fef    offer-viewed     6                0   \n",
       "\n",
       "   offer-received  offer-viewed  transaction  \\\n",
       "0               1             0            0   \n",
       "1               0             1            0   \n",
       "\n",
       "                           offer_id  amount gender  ...  became_member_on  \\\n",
       "0  9b98b8c7a33c4b65b9aebfe6a799e6d9     NaN      F  ...        2017-05-09   \n",
       "1  9b98b8c7a33c4b65b9aebfe6a799e6d9     NaN      F  ...        2017-05-09   \n",
       "\n",
       "     income  reward  difficulty  duration  offer_type email  mobile  social  \\\n",
       "0  100000.0     5.0         5.0       7.0        bogo   1.0     1.0     0.0   \n",
       "1  100000.0     5.0         5.0       7.0        bogo   1.0     1.0     0.0   \n",
       "\n",
       "   web  \n",
       "0  1.0  \n",
       "1  1.0  \n",
       "\n",
       "[2 rows x 21 columns]"
      ]
     },
     "execution_count": 53,
     "metadata": {},
     "output_type": "execute_result"
    }
   ],
   "source": [
    "df_cleaned.head(2)"
   ]
  },
  {
   "cell_type": "code",
   "execution_count": 54,
   "metadata": {},
   "outputs": [
    {
     "data": {
      "text/html": [
       "<div>\n",
       "<style scoped>\n",
       "    .dataframe tbody tr th:only-of-type {\n",
       "        vertical-align: middle;\n",
       "    }\n",
       "\n",
       "    .dataframe tbody tr th {\n",
       "        vertical-align: top;\n",
       "    }\n",
       "\n",
       "    .dataframe thead th {\n",
       "        text-align: right;\n",
       "    }\n",
       "</style>\n",
       "<table border=\"1\" class=\"dataframe\">\n",
       "  <thead>\n",
       "    <tr style=\"text-align: right;\">\n",
       "      <th></th>\n",
       "      <th>id</th>\n",
       "      <th>event</th>\n",
       "      <th>time</th>\n",
       "      <th>offer-completed</th>\n",
       "      <th>offer-received</th>\n",
       "      <th>offer-viewed</th>\n",
       "      <th>transaction</th>\n",
       "      <th>offer_id</th>\n",
       "      <th>amount</th>\n",
       "      <th>gender</th>\n",
       "      <th>...</th>\n",
       "      <th>became_member_on</th>\n",
       "      <th>income</th>\n",
       "      <th>reward</th>\n",
       "      <th>difficulty</th>\n",
       "      <th>duration</th>\n",
       "      <th>offer_type</th>\n",
       "      <th>email</th>\n",
       "      <th>mobile</th>\n",
       "      <th>social</th>\n",
       "      <th>web</th>\n",
       "    </tr>\n",
       "  </thead>\n",
       "  <tbody>\n",
       "    <tr>\n",
       "      <th>306532</th>\n",
       "      <td>3045af4e98794a04a5542d3eac939b1f</td>\n",
       "      <td>offer-viewed</td>\n",
       "      <td>576</td>\n",
       "      <td>0</td>\n",
       "      <td>0</td>\n",
       "      <td>1</td>\n",
       "      <td>0</td>\n",
       "      <td>4d5c57ea9a6940dd891ad53e9dbe8da0</td>\n",
       "      <td>NaN</td>\n",
       "      <td>F</td>\n",
       "      <td>...</td>\n",
       "      <td>2016-10-20</td>\n",
       "      <td>78000.0</td>\n",
       "      <td>10.0</td>\n",
       "      <td>10.0</td>\n",
       "      <td>5.0</td>\n",
       "      <td>bogo</td>\n",
       "      <td>1.0</td>\n",
       "      <td>1.0</td>\n",
       "      <td>1.0</td>\n",
       "      <td>1.0</td>\n",
       "    </tr>\n",
       "    <tr>\n",
       "      <th>306533</th>\n",
       "      <td>da7a7c0dcfcb41a8acc7864a53cf60fb</td>\n",
       "      <td>transaction</td>\n",
       "      <td>582</td>\n",
       "      <td>0</td>\n",
       "      <td>0</td>\n",
       "      <td>0</td>\n",
       "      <td>1</td>\n",
       "      <td>None</td>\n",
       "      <td>0.35</td>\n",
       "      <td>None</td>\n",
       "      <td>...</td>\n",
       "      <td>2017-08-01</td>\n",
       "      <td>NaN</td>\n",
       "      <td>NaN</td>\n",
       "      <td>NaN</td>\n",
       "      <td>NaN</td>\n",
       "      <td>NaN</td>\n",
       "      <td>NaN</td>\n",
       "      <td>NaN</td>\n",
       "      <td>NaN</td>\n",
       "      <td>NaN</td>\n",
       "    </tr>\n",
       "  </tbody>\n",
       "</table>\n",
       "<p>2 rows × 21 columns</p>\n",
       "</div>"
      ],
      "text/plain": [
       "                                      id         event  time  offer-completed  \\\n",
       "306532  3045af4e98794a04a5542d3eac939b1f  offer-viewed   576                0   \n",
       "306533  da7a7c0dcfcb41a8acc7864a53cf60fb   transaction   582                0   \n",
       "\n",
       "        offer-received  offer-viewed  transaction  \\\n",
       "306532               0             1            0   \n",
       "306533               0             0            1   \n",
       "\n",
       "                                offer_id  amount gender  ...  \\\n",
       "306532  4d5c57ea9a6940dd891ad53e9dbe8da0     NaN      F  ...   \n",
       "306533                              None    0.35   None  ...   \n",
       "\n",
       "        became_member_on   income  reward  difficulty  duration  offer_type  \\\n",
       "306532        2016-10-20  78000.0    10.0        10.0       5.0        bogo   \n",
       "306533        2017-08-01      NaN     NaN         NaN       NaN         NaN   \n",
       "\n",
       "       email  mobile  social  web  \n",
       "306532   1.0     1.0     1.0  1.0  \n",
       "306533   NaN     NaN     NaN  NaN  \n",
       "\n",
       "[2 rows x 21 columns]"
      ]
     },
     "execution_count": 54,
     "metadata": {},
     "output_type": "execute_result"
    }
   ],
   "source": [
    "df_cleaned.tail(2)"
   ]
  },
  {
   "cell_type": "code",
   "execution_count": 55,
   "metadata": {},
   "outputs": [
    {
     "data": {
      "text/html": [
       "<div>\n",
       "<style scoped>\n",
       "    .dataframe tbody tr th:only-of-type {\n",
       "        vertical-align: middle;\n",
       "    }\n",
       "\n",
       "    .dataframe tbody tr th {\n",
       "        vertical-align: top;\n",
       "    }\n",
       "\n",
       "    .dataframe thead th {\n",
       "        text-align: right;\n",
       "    }\n",
       "</style>\n",
       "<table border=\"1\" class=\"dataframe\">\n",
       "  <thead>\n",
       "    <tr style=\"text-align: right;\">\n",
       "      <th></th>\n",
       "      <th>time</th>\n",
       "      <th>offer-completed</th>\n",
       "      <th>offer-received</th>\n",
       "      <th>offer-viewed</th>\n",
       "      <th>transaction</th>\n",
       "      <th>amount</th>\n",
       "      <th>age</th>\n",
       "      <th>income</th>\n",
       "      <th>reward</th>\n",
       "      <th>difficulty</th>\n",
       "      <th>duration</th>\n",
       "      <th>email</th>\n",
       "      <th>mobile</th>\n",
       "      <th>social</th>\n",
       "      <th>web</th>\n",
       "    </tr>\n",
       "  </thead>\n",
       "  <tbody>\n",
       "    <tr>\n",
       "      <th>count</th>\n",
       "      <td>306534.000000</td>\n",
       "      <td>306534.000000</td>\n",
       "      <td>306534.000000</td>\n",
       "      <td>306534.000000</td>\n",
       "      <td>306534.000000</td>\n",
       "      <td>138953.000000</td>\n",
       "      <td>272762.000000</td>\n",
       "      <td>272762.000000</td>\n",
       "      <td>167581.00000</td>\n",
       "      <td>167581.000000</td>\n",
       "      <td>167581.000000</td>\n",
       "      <td>167581.0</td>\n",
       "      <td>167581.000000</td>\n",
       "      <td>167581.000000</td>\n",
       "      <td>167581.000000</td>\n",
       "    </tr>\n",
       "    <tr>\n",
       "      <th>mean</th>\n",
       "      <td>366.382940</td>\n",
       "      <td>0.109544</td>\n",
       "      <td>0.248837</td>\n",
       "      <td>0.188315</td>\n",
       "      <td>0.453304</td>\n",
       "      <td>12.777356</td>\n",
       "      <td>53.840696</td>\n",
       "      <td>64337.000755</td>\n",
       "      <td>4.41991</td>\n",
       "      <td>7.850401</td>\n",
       "      <td>6.610737</td>\n",
       "      <td>1.0</td>\n",
       "      <td>0.917944</td>\n",
       "      <td>0.656996</td>\n",
       "      <td>0.806858</td>\n",
       "    </tr>\n",
       "    <tr>\n",
       "      <th>std</th>\n",
       "      <td>200.326314</td>\n",
       "      <td>0.312321</td>\n",
       "      <td>0.432340</td>\n",
       "      <td>0.390964</td>\n",
       "      <td>0.497815</td>\n",
       "      <td>30.250529</td>\n",
       "      <td>17.551337</td>\n",
       "      <td>21243.762941</td>\n",
       "      <td>3.37336</td>\n",
       "      <td>5.048944</td>\n",
       "      <td>2.136130</td>\n",
       "      <td>0.0</td>\n",
       "      <td>0.274451</td>\n",
       "      <td>0.474714</td>\n",
       "      <td>0.394765</td>\n",
       "    </tr>\n",
       "    <tr>\n",
       "      <th>min</th>\n",
       "      <td>0.000000</td>\n",
       "      <td>0.000000</td>\n",
       "      <td>0.000000</td>\n",
       "      <td>0.000000</td>\n",
       "      <td>0.000000</td>\n",
       "      <td>0.050000</td>\n",
       "      <td>18.000000</td>\n",
       "      <td>30000.000000</td>\n",
       "      <td>0.00000</td>\n",
       "      <td>0.000000</td>\n",
       "      <td>3.000000</td>\n",
       "      <td>1.0</td>\n",
       "      <td>0.000000</td>\n",
       "      <td>0.000000</td>\n",
       "      <td>0.000000</td>\n",
       "    </tr>\n",
       "    <tr>\n",
       "      <th>25%</th>\n",
       "      <td>186.000000</td>\n",
       "      <td>0.000000</td>\n",
       "      <td>0.000000</td>\n",
       "      <td>0.000000</td>\n",
       "      <td>0.000000</td>\n",
       "      <td>2.780000</td>\n",
       "      <td>41.000000</td>\n",
       "      <td>48000.000000</td>\n",
       "      <td>2.00000</td>\n",
       "      <td>5.000000</td>\n",
       "      <td>5.000000</td>\n",
       "      <td>1.0</td>\n",
       "      <td>1.000000</td>\n",
       "      <td>0.000000</td>\n",
       "      <td>1.000000</td>\n",
       "    </tr>\n",
       "    <tr>\n",
       "      <th>50%</th>\n",
       "      <td>408.000000</td>\n",
       "      <td>0.000000</td>\n",
       "      <td>0.000000</td>\n",
       "      <td>0.000000</td>\n",
       "      <td>0.000000</td>\n",
       "      <td>8.890000</td>\n",
       "      <td>55.000000</td>\n",
       "      <td>62000.000000</td>\n",
       "      <td>5.00000</td>\n",
       "      <td>10.000000</td>\n",
       "      <td>7.000000</td>\n",
       "      <td>1.0</td>\n",
       "      <td>1.000000</td>\n",
       "      <td>1.000000</td>\n",
       "      <td>1.000000</td>\n",
       "    </tr>\n",
       "    <tr>\n",
       "      <th>75%</th>\n",
       "      <td>528.000000</td>\n",
       "      <td>0.000000</td>\n",
       "      <td>0.000000</td>\n",
       "      <td>0.000000</td>\n",
       "      <td>1.000000</td>\n",
       "      <td>18.070000</td>\n",
       "      <td>66.000000</td>\n",
       "      <td>78000.000000</td>\n",
       "      <td>5.00000</td>\n",
       "      <td>10.000000</td>\n",
       "      <td>7.000000</td>\n",
       "      <td>1.0</td>\n",
       "      <td>1.000000</td>\n",
       "      <td>1.000000</td>\n",
       "      <td>1.000000</td>\n",
       "    </tr>\n",
       "    <tr>\n",
       "      <th>max</th>\n",
       "      <td>714.000000</td>\n",
       "      <td>1.000000</td>\n",
       "      <td>1.000000</td>\n",
       "      <td>1.000000</td>\n",
       "      <td>1.000000</td>\n",
       "      <td>1062.280000</td>\n",
       "      <td>101.000000</td>\n",
       "      <td>120000.000000</td>\n",
       "      <td>10.00000</td>\n",
       "      <td>20.000000</td>\n",
       "      <td>10.000000</td>\n",
       "      <td>1.0</td>\n",
       "      <td>1.000000</td>\n",
       "      <td>1.000000</td>\n",
       "      <td>1.000000</td>\n",
       "    </tr>\n",
       "  </tbody>\n",
       "</table>\n",
       "</div>"
      ],
      "text/plain": [
       "                time  offer-completed  offer-received   offer-viewed  \\\n",
       "count  306534.000000    306534.000000   306534.000000  306534.000000   \n",
       "mean      366.382940         0.109544        0.248837       0.188315   \n",
       "std       200.326314         0.312321        0.432340       0.390964   \n",
       "min         0.000000         0.000000        0.000000       0.000000   \n",
       "25%       186.000000         0.000000        0.000000       0.000000   \n",
       "50%       408.000000         0.000000        0.000000       0.000000   \n",
       "75%       528.000000         0.000000        0.000000       0.000000   \n",
       "max       714.000000         1.000000        1.000000       1.000000   \n",
       "\n",
       "         transaction         amount            age         income  \\\n",
       "count  306534.000000  138953.000000  272762.000000  272762.000000   \n",
       "mean        0.453304      12.777356      53.840696   64337.000755   \n",
       "std         0.497815      30.250529      17.551337   21243.762941   \n",
       "min         0.000000       0.050000      18.000000   30000.000000   \n",
       "25%         0.000000       2.780000      41.000000   48000.000000   \n",
       "50%         0.000000       8.890000      55.000000   62000.000000   \n",
       "75%         1.000000      18.070000      66.000000   78000.000000   \n",
       "max         1.000000    1062.280000     101.000000  120000.000000   \n",
       "\n",
       "             reward     difficulty       duration     email         mobile  \\\n",
       "count  167581.00000  167581.000000  167581.000000  167581.0  167581.000000   \n",
       "mean        4.41991       7.850401       6.610737       1.0       0.917944   \n",
       "std         3.37336       5.048944       2.136130       0.0       0.274451   \n",
       "min         0.00000       0.000000       3.000000       1.0       0.000000   \n",
       "25%         2.00000       5.000000       5.000000       1.0       1.000000   \n",
       "50%         5.00000      10.000000       7.000000       1.0       1.000000   \n",
       "75%         5.00000      10.000000       7.000000       1.0       1.000000   \n",
       "max        10.00000      20.000000      10.000000       1.0       1.000000   \n",
       "\n",
       "              social            web  \n",
       "count  167581.000000  167581.000000  \n",
       "mean        0.656996       0.806858  \n",
       "std         0.474714       0.394765  \n",
       "min         0.000000       0.000000  \n",
       "25%         0.000000       1.000000  \n",
       "50%         1.000000       1.000000  \n",
       "75%         1.000000       1.000000  \n",
       "max         1.000000       1.000000  "
      ]
     },
     "execution_count": 55,
     "metadata": {},
     "output_type": "execute_result"
    }
   ],
   "source": [
    "df_cleaned.describe()"
   ]
  },
  {
   "cell_type": "code",
   "execution_count": 56,
   "metadata": {},
   "outputs": [
    {
     "name": "stdout",
     "output_type": "stream",
     "text": [
      "<class 'pandas.core.frame.DataFrame'>\n",
      "Int64Index: 306534 entries, 0 to 306533\n",
      "Data columns (total 21 columns):\n",
      " #   Column            Non-Null Count   Dtype         \n",
      "---  ------            --------------   -----         \n",
      " 0   id                306534 non-null  object        \n",
      " 1   event             306534 non-null  object        \n",
      " 2   time              306534 non-null  int64         \n",
      " 3   offer-completed   306534 non-null  uint8         \n",
      " 4   offer-received    306534 non-null  uint8         \n",
      " 5   offer-viewed      306534 non-null  uint8         \n",
      " 6   transaction       306534 non-null  uint8         \n",
      " 7   offer_id          167581 non-null  object        \n",
      " 8   amount            138953 non-null  float64       \n",
      " 9   gender            272762 non-null  object        \n",
      " 10  age               272762 non-null  float64       \n",
      " 11  became_member_on  306534 non-null  datetime64[ns]\n",
      " 12  income            272762 non-null  float64       \n",
      " 13  reward            167581 non-null  float64       \n",
      " 14  difficulty        167581 non-null  float64       \n",
      " 15  duration          167581 non-null  float64       \n",
      " 16  offer_type        167581 non-null  object        \n",
      " 17  email             167581 non-null  float64       \n",
      " 18  mobile            167581 non-null  float64       \n",
      " 19  social            167581 non-null  float64       \n",
      " 20  web               167581 non-null  float64       \n",
      "dtypes: datetime64[ns](1), float64(10), int64(1), object(5), uint8(4)\n",
      "memory usage: 43.3+ MB\n"
     ]
    }
   ],
   "source": [
    "df_cleaned.info()"
   ]
  },
  {
   "cell_type": "markdown",
   "metadata": {},
   "source": [
    "## More cleaning steps for final dataframe"
   ]
  },
  {
   "cell_type": "markdown",
   "metadata": {},
   "source": [
    "`As we have scene that ids are long but there are only 10 unique values, so lets map them with some ordinal variable.`"
   ]
  },
  {
   "cell_type": "code",
   "execution_count": 57,
   "metadata": {},
   "outputs": [],
   "source": [
    "df_cleaned_copy = df_cleaned.copy()"
   ]
  },
  {
   "cell_type": "code",
   "execution_count": 58,
   "metadata": {},
   "outputs": [],
   "source": [
    "temp = pd.Series(df_cleaned_copy.offer_id.unique())\n",
    "offer_dictionary = {}\n",
    "for key,value in temp.to_dict().items():\n",
    "    offer_dictionary[value]=key"
   ]
  },
  {
   "cell_type": "code",
   "execution_count": 59,
   "metadata": {},
   "outputs": [
    {
     "data": {
      "text/plain": [
       "0         0.0\n",
       "1         0.0\n",
       "2         NaN\n",
       "3         0.0\n",
       "4         NaN\n",
       "         ... \n",
       "306529    9.0\n",
       "306530    9.0\n",
       "306531    9.0\n",
       "306532    9.0\n",
       "306533    NaN\n",
       "Name: offer_id, Length: 306534, dtype: float64"
      ]
     },
     "execution_count": 59,
     "metadata": {},
     "output_type": "execute_result"
    }
   ],
   "source": [
    "df_cleaned_copy['offer_id']=df_cleaned_copy['offer_id'].map(offer_dictionary)\n",
    "df_cleaned_copy['offer_id'].replace(1,np.nan)"
   ]
  },
  {
   "cell_type": "code",
   "execution_count": 60,
   "metadata": {},
   "outputs": [
    {
     "data": {
      "text/html": [
       "<div>\n",
       "<style scoped>\n",
       "    .dataframe tbody tr th:only-of-type {\n",
       "        vertical-align: middle;\n",
       "    }\n",
       "\n",
       "    .dataframe tbody tr th {\n",
       "        vertical-align: top;\n",
       "    }\n",
       "\n",
       "    .dataframe thead th {\n",
       "        text-align: right;\n",
       "    }\n",
       "</style>\n",
       "<table border=\"1\" class=\"dataframe\">\n",
       "  <thead>\n",
       "    <tr style=\"text-align: right;\">\n",
       "      <th></th>\n",
       "      <th>id</th>\n",
       "      <th>event</th>\n",
       "      <th>time</th>\n",
       "      <th>offer-completed</th>\n",
       "      <th>offer-received</th>\n",
       "      <th>offer-viewed</th>\n",
       "      <th>transaction</th>\n",
       "      <th>offer_id</th>\n",
       "      <th>amount</th>\n",
       "      <th>gender</th>\n",
       "      <th>...</th>\n",
       "      <th>became_member_on</th>\n",
       "      <th>income</th>\n",
       "      <th>reward</th>\n",
       "      <th>difficulty</th>\n",
       "      <th>duration</th>\n",
       "      <th>offer_type</th>\n",
       "      <th>email</th>\n",
       "      <th>mobile</th>\n",
       "      <th>social</th>\n",
       "      <th>web</th>\n",
       "    </tr>\n",
       "  </thead>\n",
       "  <tbody>\n",
       "    <tr>\n",
       "      <th>0</th>\n",
       "      <td>78afa995795e4d85b5d9ceeca43f5fef</td>\n",
       "      <td>offer-received</td>\n",
       "      <td>0</td>\n",
       "      <td>0</td>\n",
       "      <td>1</td>\n",
       "      <td>0</td>\n",
       "      <td>0</td>\n",
       "      <td>0</td>\n",
       "      <td>NaN</td>\n",
       "      <td>F</td>\n",
       "      <td>...</td>\n",
       "      <td>2017-05-09</td>\n",
       "      <td>100000.0</td>\n",
       "      <td>5.0</td>\n",
       "      <td>5.0</td>\n",
       "      <td>7.0</td>\n",
       "      <td>bogo</td>\n",
       "      <td>1.0</td>\n",
       "      <td>1.0</td>\n",
       "      <td>0.0</td>\n",
       "      <td>1.0</td>\n",
       "    </tr>\n",
       "    <tr>\n",
       "      <th>1</th>\n",
       "      <td>78afa995795e4d85b5d9ceeca43f5fef</td>\n",
       "      <td>offer-viewed</td>\n",
       "      <td>6</td>\n",
       "      <td>0</td>\n",
       "      <td>0</td>\n",
       "      <td>1</td>\n",
       "      <td>0</td>\n",
       "      <td>0</td>\n",
       "      <td>NaN</td>\n",
       "      <td>F</td>\n",
       "      <td>...</td>\n",
       "      <td>2017-05-09</td>\n",
       "      <td>100000.0</td>\n",
       "      <td>5.0</td>\n",
       "      <td>5.0</td>\n",
       "      <td>7.0</td>\n",
       "      <td>bogo</td>\n",
       "      <td>1.0</td>\n",
       "      <td>1.0</td>\n",
       "      <td>0.0</td>\n",
       "      <td>1.0</td>\n",
       "    </tr>\n",
       "    <tr>\n",
       "      <th>2</th>\n",
       "      <td>78afa995795e4d85b5d9ceeca43f5fef</td>\n",
       "      <td>transaction</td>\n",
       "      <td>132</td>\n",
       "      <td>0</td>\n",
       "      <td>0</td>\n",
       "      <td>0</td>\n",
       "      <td>1</td>\n",
       "      <td>1</td>\n",
       "      <td>19.89</td>\n",
       "      <td>F</td>\n",
       "      <td>...</td>\n",
       "      <td>2017-05-09</td>\n",
       "      <td>100000.0</td>\n",
       "      <td>NaN</td>\n",
       "      <td>NaN</td>\n",
       "      <td>NaN</td>\n",
       "      <td>NaN</td>\n",
       "      <td>NaN</td>\n",
       "      <td>NaN</td>\n",
       "      <td>NaN</td>\n",
       "      <td>NaN</td>\n",
       "    </tr>\n",
       "    <tr>\n",
       "      <th>3</th>\n",
       "      <td>78afa995795e4d85b5d9ceeca43f5fef</td>\n",
       "      <td>offer-completed</td>\n",
       "      <td>132</td>\n",
       "      <td>1</td>\n",
       "      <td>0</td>\n",
       "      <td>0</td>\n",
       "      <td>0</td>\n",
       "      <td>0</td>\n",
       "      <td>NaN</td>\n",
       "      <td>F</td>\n",
       "      <td>...</td>\n",
       "      <td>2017-05-09</td>\n",
       "      <td>100000.0</td>\n",
       "      <td>5.0</td>\n",
       "      <td>5.0</td>\n",
       "      <td>7.0</td>\n",
       "      <td>bogo</td>\n",
       "      <td>1.0</td>\n",
       "      <td>1.0</td>\n",
       "      <td>0.0</td>\n",
       "      <td>1.0</td>\n",
       "    </tr>\n",
       "  </tbody>\n",
       "</table>\n",
       "<p>4 rows × 21 columns</p>\n",
       "</div>"
      ],
      "text/plain": [
       "                                 id            event  time  offer-completed  \\\n",
       "0  78afa995795e4d85b5d9ceeca43f5fef   offer-received     0                0   \n",
       "1  78afa995795e4d85b5d9ceeca43f5fef     offer-viewed     6                0   \n",
       "2  78afa995795e4d85b5d9ceeca43f5fef      transaction   132                0   \n",
       "3  78afa995795e4d85b5d9ceeca43f5fef  offer-completed   132                1   \n",
       "\n",
       "   offer-received  offer-viewed  transaction  offer_id  amount gender  ...  \\\n",
       "0               1             0            0         0     NaN      F  ...   \n",
       "1               0             1            0         0     NaN      F  ...   \n",
       "2               0             0            1         1   19.89      F  ...   \n",
       "3               0             0            0         0     NaN      F  ...   \n",
       "\n",
       "   became_member_on    income  reward  difficulty  duration  offer_type email  \\\n",
       "0        2017-05-09  100000.0     5.0         5.0       7.0        bogo   1.0   \n",
       "1        2017-05-09  100000.0     5.0         5.0       7.0        bogo   1.0   \n",
       "2        2017-05-09  100000.0     NaN         NaN       NaN         NaN   NaN   \n",
       "3        2017-05-09  100000.0     5.0         5.0       7.0        bogo   1.0   \n",
       "\n",
       "   mobile  social  web  \n",
       "0     1.0     0.0  1.0  \n",
       "1     1.0     0.0  1.0  \n",
       "2     NaN     NaN  NaN  \n",
       "3     1.0     0.0  1.0  \n",
       "\n",
       "[4 rows x 21 columns]"
      ]
     },
     "execution_count": 60,
     "metadata": {},
     "output_type": "execute_result"
    }
   ],
   "source": [
    "df_cleaned_copy.head(4)"
   ]
  },
  {
   "cell_type": "markdown",
   "metadata": {},
   "source": [
    "> In the above whole process we just replaced string into some categorical variables"
   ]
  },
  {
   "cell_type": "markdown",
   "metadata": {},
   "source": [
    "`Similar scenario is for event, but i want to preserve it, so we can create one extra column which maps event`"
   ]
  },
  {
   "cell_type": "code",
   "execution_count": 61,
   "metadata": {},
   "outputs": [],
   "source": [
    "temp = pd.Series(df_cleaned_copy.event.unique())\n",
    "event_dictionary = {}\n",
    "for key,value in temp.to_dict().items():\n",
    "    event_dictionary[value]=key\n",
    "    \n",
    "df_cleaned_copy['event_id']=df_cleaned_copy['event'].map(event_dictionary)"
   ]
  },
  {
   "cell_type": "markdown",
   "metadata": {},
   "source": [
    "> Here we added a new column called `event_id` which is just a categorical representation of `event`"
   ]
  },
  {
   "cell_type": "code",
   "execution_count": 62,
   "metadata": {},
   "outputs": [
    {
     "data": {
      "text/html": [
       "<div>\n",
       "<style scoped>\n",
       "    .dataframe tbody tr th:only-of-type {\n",
       "        vertical-align: middle;\n",
       "    }\n",
       "\n",
       "    .dataframe tbody tr th {\n",
       "        vertical-align: top;\n",
       "    }\n",
       "\n",
       "    .dataframe thead th {\n",
       "        text-align: right;\n",
       "    }\n",
       "</style>\n",
       "<table border=\"1\" class=\"dataframe\">\n",
       "  <thead>\n",
       "    <tr style=\"text-align: right;\">\n",
       "      <th></th>\n",
       "      <th>id</th>\n",
       "      <th>event</th>\n",
       "      <th>time</th>\n",
       "      <th>offer-completed</th>\n",
       "      <th>offer-received</th>\n",
       "      <th>offer-viewed</th>\n",
       "      <th>transaction</th>\n",
       "      <th>offer_id</th>\n",
       "      <th>amount</th>\n",
       "      <th>gender</th>\n",
       "      <th>...</th>\n",
       "      <th>income</th>\n",
       "      <th>reward</th>\n",
       "      <th>difficulty</th>\n",
       "      <th>duration</th>\n",
       "      <th>offer_type</th>\n",
       "      <th>email</th>\n",
       "      <th>mobile</th>\n",
       "      <th>social</th>\n",
       "      <th>web</th>\n",
       "      <th>event_id</th>\n",
       "    </tr>\n",
       "  </thead>\n",
       "  <tbody>\n",
       "    <tr>\n",
       "      <th>0</th>\n",
       "      <td>78afa995795e4d85b5d9ceeca43f5fef</td>\n",
       "      <td>offer-received</td>\n",
       "      <td>0</td>\n",
       "      <td>0</td>\n",
       "      <td>1</td>\n",
       "      <td>0</td>\n",
       "      <td>0</td>\n",
       "      <td>0</td>\n",
       "      <td>NaN</td>\n",
       "      <td>F</td>\n",
       "      <td>...</td>\n",
       "      <td>100000.0</td>\n",
       "      <td>5.0</td>\n",
       "      <td>5.0</td>\n",
       "      <td>7.0</td>\n",
       "      <td>bogo</td>\n",
       "      <td>1.0</td>\n",
       "      <td>1.0</td>\n",
       "      <td>0.0</td>\n",
       "      <td>1.0</td>\n",
       "      <td>0</td>\n",
       "    </tr>\n",
       "    <tr>\n",
       "      <th>1</th>\n",
       "      <td>78afa995795e4d85b5d9ceeca43f5fef</td>\n",
       "      <td>offer-viewed</td>\n",
       "      <td>6</td>\n",
       "      <td>0</td>\n",
       "      <td>0</td>\n",
       "      <td>1</td>\n",
       "      <td>0</td>\n",
       "      <td>0</td>\n",
       "      <td>NaN</td>\n",
       "      <td>F</td>\n",
       "      <td>...</td>\n",
       "      <td>100000.0</td>\n",
       "      <td>5.0</td>\n",
       "      <td>5.0</td>\n",
       "      <td>7.0</td>\n",
       "      <td>bogo</td>\n",
       "      <td>1.0</td>\n",
       "      <td>1.0</td>\n",
       "      <td>0.0</td>\n",
       "      <td>1.0</td>\n",
       "      <td>1</td>\n",
       "    </tr>\n",
       "    <tr>\n",
       "      <th>2</th>\n",
       "      <td>78afa995795e4d85b5d9ceeca43f5fef</td>\n",
       "      <td>transaction</td>\n",
       "      <td>132</td>\n",
       "      <td>0</td>\n",
       "      <td>0</td>\n",
       "      <td>0</td>\n",
       "      <td>1</td>\n",
       "      <td>1</td>\n",
       "      <td>19.89</td>\n",
       "      <td>F</td>\n",
       "      <td>...</td>\n",
       "      <td>100000.0</td>\n",
       "      <td>NaN</td>\n",
       "      <td>NaN</td>\n",
       "      <td>NaN</td>\n",
       "      <td>NaN</td>\n",
       "      <td>NaN</td>\n",
       "      <td>NaN</td>\n",
       "      <td>NaN</td>\n",
       "      <td>NaN</td>\n",
       "      <td>2</td>\n",
       "    </tr>\n",
       "  </tbody>\n",
       "</table>\n",
       "<p>3 rows × 22 columns</p>\n",
       "</div>"
      ],
      "text/plain": [
       "                                 id           event  time  offer-completed  \\\n",
       "0  78afa995795e4d85b5d9ceeca43f5fef  offer-received     0                0   \n",
       "1  78afa995795e4d85b5d9ceeca43f5fef    offer-viewed     6                0   \n",
       "2  78afa995795e4d85b5d9ceeca43f5fef     transaction   132                0   \n",
       "\n",
       "   offer-received  offer-viewed  transaction  offer_id  amount gender  ...  \\\n",
       "0               1             0            0         0     NaN      F  ...   \n",
       "1               0             1            0         0     NaN      F  ...   \n",
       "2               0             0            1         1   19.89      F  ...   \n",
       "\n",
       "     income reward  difficulty  duration  offer_type  email mobile  social  \\\n",
       "0  100000.0    5.0         5.0       7.0        bogo    1.0    1.0     0.0   \n",
       "1  100000.0    5.0         5.0       7.0        bogo    1.0    1.0     0.0   \n",
       "2  100000.0    NaN         NaN       NaN         NaN    NaN    NaN     NaN   \n",
       "\n",
       "   web  event_id  \n",
       "0  1.0         0  \n",
       "1  1.0         1  \n",
       "2  NaN         2  \n",
       "\n",
       "[3 rows x 22 columns]"
      ]
     },
     "execution_count": 62,
     "metadata": {},
     "output_type": "execute_result"
    }
   ],
   "source": [
    "df_cleaned_copy.head(3)"
   ]
  },
  {
   "cell_type": "code",
   "execution_count": 63,
   "metadata": {},
   "outputs": [
    {
     "name": "stdout",
     "output_type": "stream",
     "text": [
      "<class 'pandas.core.frame.DataFrame'>\n",
      "Int64Index: 306534 entries, 0 to 306533\n",
      "Data columns (total 22 columns):\n",
      " #   Column            Non-Null Count   Dtype         \n",
      "---  ------            --------------   -----         \n",
      " 0   id                306534 non-null  object        \n",
      " 1   event             306534 non-null  object        \n",
      " 2   time              306534 non-null  int64         \n",
      " 3   offer-completed   306534 non-null  uint8         \n",
      " 4   offer-received    306534 non-null  uint8         \n",
      " 5   offer-viewed      306534 non-null  uint8         \n",
      " 6   transaction       306534 non-null  uint8         \n",
      " 7   offer_id          306534 non-null  int64         \n",
      " 8   amount            138953 non-null  float64       \n",
      " 9   gender            272762 non-null  object        \n",
      " 10  age               272762 non-null  float64       \n",
      " 11  became_member_on  306534 non-null  datetime64[ns]\n",
      " 12  income            272762 non-null  float64       \n",
      " 13  reward            167581 non-null  float64       \n",
      " 14  difficulty        167581 non-null  float64       \n",
      " 15  duration          167581 non-null  float64       \n",
      " 16  offer_type        167581 non-null  object        \n",
      " 17  email             167581 non-null  float64       \n",
      " 18  mobile            167581 non-null  float64       \n",
      " 19  social            167581 non-null  float64       \n",
      " 20  web               167581 non-null  float64       \n",
      " 21  event_id          306534 non-null  int64         \n",
      "dtypes: datetime64[ns](1), float64(10), int64(3), object(4), uint8(4)\n",
      "memory usage: 45.6+ MB\n"
     ]
    }
   ],
   "source": [
    "df_cleaned_copy.info()"
   ]
  },
  {
   "cell_type": "code",
   "execution_count": 64,
   "metadata": {},
   "outputs": [
    {
     "data": {
      "text/html": [
       "<div>\n",
       "<style scoped>\n",
       "    .dataframe tbody tr th:only-of-type {\n",
       "        vertical-align: middle;\n",
       "    }\n",
       "\n",
       "    .dataframe tbody tr th {\n",
       "        vertical-align: top;\n",
       "    }\n",
       "\n",
       "    .dataframe thead th {\n",
       "        text-align: right;\n",
       "    }\n",
       "</style>\n",
       "<table border=\"1\" class=\"dataframe\">\n",
       "  <thead>\n",
       "    <tr style=\"text-align: right;\">\n",
       "      <th></th>\n",
       "      <th>time</th>\n",
       "      <th>offer-completed</th>\n",
       "      <th>offer-received</th>\n",
       "      <th>offer-viewed</th>\n",
       "      <th>transaction</th>\n",
       "      <th>offer_id</th>\n",
       "      <th>amount</th>\n",
       "      <th>age</th>\n",
       "      <th>income</th>\n",
       "      <th>reward</th>\n",
       "      <th>difficulty</th>\n",
       "      <th>duration</th>\n",
       "      <th>email</th>\n",
       "      <th>mobile</th>\n",
       "      <th>social</th>\n",
       "      <th>web</th>\n",
       "      <th>event_id</th>\n",
       "    </tr>\n",
       "  </thead>\n",
       "  <tbody>\n",
       "    <tr>\n",
       "      <th>count</th>\n",
       "      <td>306534.000000</td>\n",
       "      <td>306534.000000</td>\n",
       "      <td>306534.000000</td>\n",
       "      <td>306534.000000</td>\n",
       "      <td>306534.000000</td>\n",
       "      <td>306534.000000</td>\n",
       "      <td>138953.000000</td>\n",
       "      <td>272762.000000</td>\n",
       "      <td>272762.000000</td>\n",
       "      <td>167581.00000</td>\n",
       "      <td>167581.000000</td>\n",
       "      <td>167581.000000</td>\n",
       "      <td>167581.0</td>\n",
       "      <td>167581.000000</td>\n",
       "      <td>167581.000000</td>\n",
       "      <td>167581.000000</td>\n",
       "      <td>306534.000000</td>\n",
       "    </tr>\n",
       "    <tr>\n",
       "      <th>mean</th>\n",
       "      <td>366.382940</td>\n",
       "      <td>0.109544</td>\n",
       "      <td>0.248837</td>\n",
       "      <td>0.188315</td>\n",
       "      <td>0.453304</td>\n",
       "      <td>3.507862</td>\n",
       "      <td>12.777356</td>\n",
       "      <td>53.840696</td>\n",
       "      <td>64337.000755</td>\n",
       "      <td>4.41991</td>\n",
       "      <td>7.850401</td>\n",
       "      <td>6.610737</td>\n",
       "      <td>1.0</td>\n",
       "      <td>0.917944</td>\n",
       "      <td>0.656996</td>\n",
       "      <td>0.806858</td>\n",
       "      <td>1.423555</td>\n",
       "    </tr>\n",
       "    <tr>\n",
       "      <th>std</th>\n",
       "      <td>200.326314</td>\n",
       "      <td>0.312321</td>\n",
       "      <td>0.432340</td>\n",
       "      <td>0.390964</td>\n",
       "      <td>0.497815</td>\n",
       "      <td>3.240048</td>\n",
       "      <td>30.250529</td>\n",
       "      <td>17.551337</td>\n",
       "      <td>21243.762941</td>\n",
       "      <td>3.37336</td>\n",
       "      <td>5.048944</td>\n",
       "      <td>2.136130</td>\n",
       "      <td>0.0</td>\n",
       "      <td>0.274451</td>\n",
       "      <td>0.474714</td>\n",
       "      <td>0.394765</td>\n",
       "      <td>0.980266</td>\n",
       "    </tr>\n",
       "    <tr>\n",
       "      <th>min</th>\n",
       "      <td>0.000000</td>\n",
       "      <td>0.000000</td>\n",
       "      <td>0.000000</td>\n",
       "      <td>0.000000</td>\n",
       "      <td>0.000000</td>\n",
       "      <td>0.000000</td>\n",
       "      <td>0.050000</td>\n",
       "      <td>18.000000</td>\n",
       "      <td>30000.000000</td>\n",
       "      <td>0.00000</td>\n",
       "      <td>0.000000</td>\n",
       "      <td>3.000000</td>\n",
       "      <td>1.0</td>\n",
       "      <td>0.000000</td>\n",
       "      <td>0.000000</td>\n",
       "      <td>0.000000</td>\n",
       "      <td>0.000000</td>\n",
       "    </tr>\n",
       "    <tr>\n",
       "      <th>25%</th>\n",
       "      <td>186.000000</td>\n",
       "      <td>0.000000</td>\n",
       "      <td>0.000000</td>\n",
       "      <td>0.000000</td>\n",
       "      <td>0.000000</td>\n",
       "      <td>1.000000</td>\n",
       "      <td>2.780000</td>\n",
       "      <td>41.000000</td>\n",
       "      <td>48000.000000</td>\n",
       "      <td>2.00000</td>\n",
       "      <td>5.000000</td>\n",
       "      <td>5.000000</td>\n",
       "      <td>1.0</td>\n",
       "      <td>1.000000</td>\n",
       "      <td>0.000000</td>\n",
       "      <td>1.000000</td>\n",
       "      <td>1.000000</td>\n",
       "    </tr>\n",
       "    <tr>\n",
       "      <th>50%</th>\n",
       "      <td>408.000000</td>\n",
       "      <td>0.000000</td>\n",
       "      <td>0.000000</td>\n",
       "      <td>0.000000</td>\n",
       "      <td>0.000000</td>\n",
       "      <td>1.000000</td>\n",
       "      <td>8.890000</td>\n",
       "      <td>55.000000</td>\n",
       "      <td>62000.000000</td>\n",
       "      <td>5.00000</td>\n",
       "      <td>10.000000</td>\n",
       "      <td>7.000000</td>\n",
       "      <td>1.0</td>\n",
       "      <td>1.000000</td>\n",
       "      <td>1.000000</td>\n",
       "      <td>1.000000</td>\n",
       "      <td>2.000000</td>\n",
       "    </tr>\n",
       "    <tr>\n",
       "      <th>75%</th>\n",
       "      <td>528.000000</td>\n",
       "      <td>0.000000</td>\n",
       "      <td>0.000000</td>\n",
       "      <td>0.000000</td>\n",
       "      <td>1.000000</td>\n",
       "      <td>6.000000</td>\n",
       "      <td>18.070000</td>\n",
       "      <td>66.000000</td>\n",
       "      <td>78000.000000</td>\n",
       "      <td>5.00000</td>\n",
       "      <td>10.000000</td>\n",
       "      <td>7.000000</td>\n",
       "      <td>1.0</td>\n",
       "      <td>1.000000</td>\n",
       "      <td>1.000000</td>\n",
       "      <td>1.000000</td>\n",
       "      <td>2.000000</td>\n",
       "    </tr>\n",
       "    <tr>\n",
       "      <th>max</th>\n",
       "      <td>714.000000</td>\n",
       "      <td>1.000000</td>\n",
       "      <td>1.000000</td>\n",
       "      <td>1.000000</td>\n",
       "      <td>1.000000</td>\n",
       "      <td>10.000000</td>\n",
       "      <td>1062.280000</td>\n",
       "      <td>101.000000</td>\n",
       "      <td>120000.000000</td>\n",
       "      <td>10.00000</td>\n",
       "      <td>20.000000</td>\n",
       "      <td>10.000000</td>\n",
       "      <td>1.0</td>\n",
       "      <td>1.000000</td>\n",
       "      <td>1.000000</td>\n",
       "      <td>1.000000</td>\n",
       "      <td>3.000000</td>\n",
       "    </tr>\n",
       "  </tbody>\n",
       "</table>\n",
       "</div>"
      ],
      "text/plain": [
       "                time  offer-completed  offer-received   offer-viewed  \\\n",
       "count  306534.000000    306534.000000   306534.000000  306534.000000   \n",
       "mean      366.382940         0.109544        0.248837       0.188315   \n",
       "std       200.326314         0.312321        0.432340       0.390964   \n",
       "min         0.000000         0.000000        0.000000       0.000000   \n",
       "25%       186.000000         0.000000        0.000000       0.000000   \n",
       "50%       408.000000         0.000000        0.000000       0.000000   \n",
       "75%       528.000000         0.000000        0.000000       0.000000   \n",
       "max       714.000000         1.000000        1.000000       1.000000   \n",
       "\n",
       "         transaction       offer_id         amount            age  \\\n",
       "count  306534.000000  306534.000000  138953.000000  272762.000000   \n",
       "mean        0.453304       3.507862      12.777356      53.840696   \n",
       "std         0.497815       3.240048      30.250529      17.551337   \n",
       "min         0.000000       0.000000       0.050000      18.000000   \n",
       "25%         0.000000       1.000000       2.780000      41.000000   \n",
       "50%         0.000000       1.000000       8.890000      55.000000   \n",
       "75%         1.000000       6.000000      18.070000      66.000000   \n",
       "max         1.000000      10.000000    1062.280000     101.000000   \n",
       "\n",
       "              income        reward     difficulty       duration     email  \\\n",
       "count  272762.000000  167581.00000  167581.000000  167581.000000  167581.0   \n",
       "mean    64337.000755       4.41991       7.850401       6.610737       1.0   \n",
       "std     21243.762941       3.37336       5.048944       2.136130       0.0   \n",
       "min     30000.000000       0.00000       0.000000       3.000000       1.0   \n",
       "25%     48000.000000       2.00000       5.000000       5.000000       1.0   \n",
       "50%     62000.000000       5.00000      10.000000       7.000000       1.0   \n",
       "75%     78000.000000       5.00000      10.000000       7.000000       1.0   \n",
       "max    120000.000000      10.00000      20.000000      10.000000       1.0   \n",
       "\n",
       "              mobile         social            web       event_id  \n",
       "count  167581.000000  167581.000000  167581.000000  306534.000000  \n",
       "mean        0.917944       0.656996       0.806858       1.423555  \n",
       "std         0.274451       0.474714       0.394765       0.980266  \n",
       "min         0.000000       0.000000       0.000000       0.000000  \n",
       "25%         1.000000       0.000000       1.000000       1.000000  \n",
       "50%         1.000000       1.000000       1.000000       2.000000  \n",
       "75%         1.000000       1.000000       1.000000       2.000000  \n",
       "max         1.000000       1.000000       1.000000       3.000000  "
      ]
     },
     "execution_count": 64,
     "metadata": {},
     "output_type": "execute_result"
    }
   ],
   "source": [
    "df_cleaned_copy.describe()"
   ]
  },
  {
   "cell_type": "code",
   "execution_count": 65,
   "metadata": {},
   "outputs": [
    {
     "name": "stdout",
     "output_type": "stream",
     "text": [
      "The shape of our dataset now :  (306534, 22)\n",
      "Columns :  Index(['id', 'event', 'time', 'offer-completed', 'offer-received',\n",
      "       'offer-viewed', 'transaction', 'offer_id', 'amount', 'gender', 'age',\n",
      "       'became_member_on', 'income', 'reward', 'difficulty', 'duration',\n",
      "       'offer_type', 'email', 'mobile', 'social', 'web', 'event_id'],\n",
      "      dtype='object')\n"
     ]
    }
   ],
   "source": [
    "print(\"The shape of our dataset now : \", df_cleaned_copy.shape)\n",
    "print(\"Columns : \", df_cleaned_copy.columns)"
   ]
  },
  {
   "cell_type": "markdown",
   "metadata": {},
   "source": [
    "## Copying our dataframe and Storing as csv file"
   ]
  },
  {
   "cell_type": "code",
   "execution_count": 66,
   "metadata": {},
   "outputs": [],
   "source": [
    "df_cleaned_final = df_cleaned_copy.copy()"
   ]
  },
  {
   "cell_type": "code",
   "execution_count": 67,
   "metadata": {},
   "outputs": [],
   "source": [
    "df_cleaned_final.to_csv('df_cleaned_final.csv', index=False)"
   ]
  },
  {
   "cell_type": "markdown",
   "metadata": {},
   "source": [
    "> Data is copied and saved as `df_cleaned_final.csv` in same directory"
   ]
  },
  {
   "cell_type": "markdown",
   "metadata": {},
   "source": [
    "# Exploratory Data Analysis and Visualization :"
   ]
  },
  {
   "cell_type": "code",
   "execution_count": 68,
   "metadata": {},
   "outputs": [],
   "source": [
    "df_cleaned_final = pd.read_csv('df_cleaned_final.csv')"
   ]
  },
  {
   "cell_type": "markdown",
   "metadata": {},
   "source": [
    "> Reading from stored dataset"
   ]
  },
  {
   "cell_type": "code",
   "execution_count": 69,
   "metadata": {},
   "outputs": [
    {
     "data": {
      "image/png": "[encoded data removed]",
      "text/plain": [
       "<Figure size 864x864 with 20 Axes>"
      ]
     },
     "metadata": {
      "needs_background": "light"
     },
     "output_type": "display_data"
    }
   ],
   "source": [
    "df_cleaned_final.hist(figsize = (12,12), bins=50);"
   ]
  },
  {
   "cell_type": "markdown",
   "metadata": {},
   "source": [
    "> After having a quick look over the plot we have an idea about data graphically. Most of the variables are in discrete form(those who are having spikes at some points), while three variables have proper distribution. Here i cant say that any distribution is left skewed or right skewed at this point as it is very abstract to say that, let's discuss as we go further"
   ]
  },
  {
   "cell_type": "code",
   "execution_count": 70,
   "metadata": {},
   "outputs": [
    {
     "data": {
      "text/plain": [
       "<AxesSubplot:>"
      ]
     },
     "execution_count": 70,
     "metadata": {},
     "output_type": "execute_result"
    },
    {
     "data": {
      "image/png": "[encoded data removed]",
      "text/plain": [
       "<Figure size 720x720 with 2 Axes>"
      ]
     },
     "metadata": {
      "needs_background": "light"
     },
     "output_type": "display_data"
    }
   ],
   "source": [
    "# plot the heatmap\n",
    "fig, ax = plt.subplots(figsize=(10,10))         # Sample figsize in inches\n",
    "corr = df_cleaned_final.corr()\n",
    "\n",
    "sns.heatmap(corr, \n",
    "        xticklabels=corr.columns,\n",
    "        yticklabels=corr.columns,linewidths=.5, ax=ax)"
   ]
  },
  {
   "cell_type": "markdown",
   "metadata": {},
   "source": [
    "> Above is the correlation heatmap among variables, we can see covariances corresponding to event_id, offer_completed, offer_viewed, offer_received is very high, so these variables might be important while predection, we can get general idea about how intensely one covariate depends on other."
   ]
  },
  {
   "cell_type": "code",
   "execution_count": 71,
   "metadata": {},
   "outputs": [],
   "source": [
    "def label_graph(labelx ,labely, title):\n",
    "    plt.xlabel(labelx) #give names to x axis\n",
    "    plt.ylabel(labely) #give names to y axis\n",
    "    plt.title(title) #give title to graph."
   ]
  },
  {
   "cell_type": "code",
   "execution_count": 72,
   "metadata": {},
   "outputs": [
    {
     "name": "stderr",
     "output_type": "stream",
     "text": [
      "D:\\Programs\\Anaconda3\\lib\\site-packages\\seaborn\\distributions.py:2557: FutureWarning: `distplot` is a deprecated function and will be removed in a future version. Please adapt your code to use either `displot` (a figure-level function with similar flexibility) or `histplot` (an axes-level function for histograms).\n",
      "  warnings.warn(msg, FutureWarning)\n",
      "D:\\Programs\\Anaconda3\\lib\\site-packages\\seaborn\\distributions.py:2056: FutureWarning: The `axis` variable is no longer used and will be removed. Instead, assign variables directly to `x` or `y`.\n",
      "  warnings.warn(msg, FutureWarning)\n"
     ]
    },
    {
     "data": {
      "image/png": "[encoded data removed]",
      "text/plain": [
       "<Figure size 432x288 with 1 Axes>"
      ]
     },
     "metadata": {
      "needs_background": "light"
     },
     "output_type": "display_data"
    }
   ],
   "source": [
    "# See histogram of customers income (binning steps of 2000)\n",
    "sns.distplot(\n",
    "    x=df_cleaned_final[\"income\"].dropna(), \n",
    "    bins=[i * 2_000 for i in range(0, 70)], \n",
    "    rug=True\n",
    ").set_title(\"Customers vs Income\");"
   ]
  },
  {
   "cell_type": "code",
   "execution_count": 73,
   "metadata": {},
   "outputs": [
    {
     "data": {
      "image/png": "[encoded data removed]",
      "text/plain": [
       "<Figure size 432x288 with 1 Axes>"
      ]
     },
     "metadata": {
      "needs_background": "light"
     },
     "output_type": "display_data"
    }
   ],
   "source": [
    "df_cleaned_final.income.hist(bins = 30);\n",
    "label_graph('Income Range','Count','Income Range Distribution')"
   ]
  },
  {
   "cell_type": "code",
   "execution_count": 74,
   "metadata": {},
   "outputs": [
    {
     "data": {
      "image/png": "[encoded data removed]",
      "text/plain": [
       "<Figure size 432x288 with 1 Axes>"
      ]
     },
     "metadata": {
      "needs_background": "light"
     },
     "output_type": "display_data"
    }
   ],
   "source": [
    "sns.violinplot(data = df_cleaned_final, y = 'income', color=\"green\");"
   ]
  },
  {
   "cell_type": "markdown",
   "metadata": {},
   "source": [
    "> Here are plots showing density of customer-income, we can see that graph is nearly gaussian(roughly having five modality), we can say that many customers has income between 40k and 80k. Attracting these customers is vey crucial as they can be great market for starbucks, while we can try giving offers personally to customers under 40k income"
   ]
  },
  {
   "cell_type": "code",
   "execution_count": 75,
   "metadata": {},
   "outputs": [
    {
     "name": "stderr",
     "output_type": "stream",
     "text": [
      "D:\\Programs\\Anaconda3\\lib\\site-packages\\seaborn\\distributions.py:2557: FutureWarning: `distplot` is a deprecated function and will be removed in a future version. Please adapt your code to use either `displot` (a figure-level function with similar flexibility) or `histplot` (an axes-level function for histograms).\n",
      "  warnings.warn(msg, FutureWarning)\n",
      "D:\\Programs\\Anaconda3\\lib\\site-packages\\seaborn\\distributions.py:2056: FutureWarning: The `axis` variable is no longer used and will be removed. Instead, assign variables directly to `x` or `y`.\n",
      "  warnings.warn(msg, FutureWarning)\n"
     ]
    },
    {
     "data": {
      "image/png": "[encoded data removed]",
      "text/plain": [
       "<Figure size 432x288 with 1 Axes>"
      ]
     },
     "metadata": {
      "needs_background": "light"
     },
     "output_type": "display_data"
    }
   ],
   "source": [
    "sns.distplot(\n",
    "    df_cleaned_final[\"age\"].dropna(), \n",
    "    bins=int(df_cleaned_final[\"age\"].max() - df_cleaned_final[\"age\"].min() + 1), \n",
    "    rug=True\n",
    ").set_title(\"customers vs age\");"
   ]
  },
  {
   "cell_type": "markdown",
   "metadata": {},
   "source": [
    "> This plot seems intersting, at first i felt we need not to analyse the age, but in marketing age plays major role. Here we can see most people are within age group of [40-70], so we cannot sell only fast food to them, we need to be more careful about rolling out combo packages. One idea is we can include soup, vegetable salad etc like stuffs with traditional starbucks food to attract them, so in this way for different audience we might have different packages, and through this plot we can easily infer that"
   ]
  },
  {
   "cell_type": "code",
   "execution_count": 76,
   "metadata": {},
   "outputs": [
    {
     "data": {
      "image/png": "[encoded data removed]",
      "text/plain": [
       "<Figure size 432x288 with 1 Axes>"
      ]
     },
     "metadata": {
      "needs_background": "light"
     },
     "output_type": "display_data"
    }
   ],
   "source": [
    "df_ = df_cleaned_final.gender.value_counts()\n",
    "df_.plot(kind='bar',color=\"orange\")\n",
    "label_graph('Gender','Number of People','Gender Distribution')"
   ]
  },
  {
   "cell_type": "markdown",
   "metadata": {},
   "source": [
    "> Just like above gender might be factor for giving adds and offers. We can see that ratio between male and female is approximately 3:2"
   ]
  },
  {
   "cell_type": "code",
   "execution_count": 77,
   "metadata": {},
   "outputs": [
    {
     "data": {
      "image/png": "[encoded data removed]",
      "text/plain": [
       "<Figure size 1080x360 with 1 Axes>"
      ]
     },
     "metadata": {
      "needs_background": "light"
     },
     "output_type": "display_data"
    }
   ],
   "source": [
    "offer_received = df_cleaned_final[df_cleaned_final['offer-received'] == 1].offer_type.value_counts()\n",
    "offer_received.plot(kind='bar', figsize=(15,5), color=\"pink\")\n",
    "label_graph('Offer Type','counts','Offer received w.r.t Offer Type')"
   ]
  },
  {
   "cell_type": "code",
   "execution_count": 78,
   "metadata": {},
   "outputs": [
    {
     "data": {
      "text/plain": [
       "<AxesSubplot:ylabel='offer_type'>"
      ]
     },
     "execution_count": 78,
     "metadata": {},
     "output_type": "execute_result"
    },
    {
     "data": {
      "image/png": "[encoded data removed]",
      "text/plain": [
       "<Figure size 432x288 with 1 Axes>"
      ]
     },
     "metadata": {},
     "output_type": "display_data"
    }
   ],
   "source": [
    "offer_received.plot(kind='pie')"
   ]
  },
  {
   "cell_type": "markdown",
   "metadata": {},
   "source": [
    "> We can see above barplot as well as pie-plot to see the contribution of each offer type in the dataset. Let's do some paper-work to get more insights."
   ]
  },
  {
   "cell_type": "code",
   "execution_count": 79,
   "metadata": {},
   "outputs": [
    {
     "name": "stdout",
     "output_type": "stream",
     "text": [
      "discount         30543\n",
      "bogo             30499\n",
      "informational    15235\n",
      "Name: offer_type, dtype: int64\n"
     ]
    }
   ],
   "source": [
    "print(offer_received)"
   ]
  },
  {
   "cell_type": "markdown",
   "metadata": {},
   "source": [
    "> It can be clearly seen that dicount offer is most popular, bogo offer is very close to it. Informational is least popular by starbucks"
   ]
  },
  {
   "cell_type": "code",
   "execution_count": 80,
   "metadata": {},
   "outputs": [
    {
     "data": {
      "image/png": "[encoded data removed]",
      "text/plain": [
       "<Figure size 1080x360 with 1 Axes>"
      ]
     },
     "metadata": {
      "needs_background": "light"
     },
     "output_type": "display_data"
    }
   ],
   "source": [
    "offer_viewed = df_cleaned_final[df_cleaned_final['offer-viewed'] == 1].offer_type.value_counts()\n",
    "offer_viewed.plot(kind='bar' , figsize=(15,5), color=\"blue\")\n",
    "label_graph('Offer Type','counts','Offer viewed w.r.t Offer Type')"
   ]
  },
  {
   "cell_type": "code",
   "execution_count": 81,
   "metadata": {},
   "outputs": [
    {
     "data": {
      "text/plain": [
       "<AxesSubplot:ylabel='offer_type'>"
      ]
     },
     "execution_count": 81,
     "metadata": {},
     "output_type": "execute_result"
    },
    {
     "data": {
      "image/png": "[encoded data removed]",
      "text/plain": [
       "<Figure size 432x288 with 1 Axes>"
      ]
     },
     "metadata": {},
     "output_type": "display_data"
    }
   ],
   "source": [
    "offer_viewed.plot(kind='pie')"
   ]
  },
  {
   "cell_type": "markdown",
   "metadata": {},
   "source": [
    "> We can see above barplot as well as pie-plot to see the contribution of each offer type in the dataset. Let's see more statistical information below"
   ]
  },
  {
   "cell_type": "code",
   "execution_count": 82,
   "metadata": {},
   "outputs": [
    {
     "name": "stdout",
     "output_type": "stream",
     "text": [
      "bogo             25449\n",
      "discount         21445\n",
      "informational    10831\n",
      "Name: offer_type, dtype: int64\n"
     ]
    }
   ],
   "source": [
    "print(offer_viewed)"
   ]
  },
  {
   "cell_type": "markdown",
   "metadata": {},
   "source": [
    "> It can be clearly seen that when offer viewed is to be concerned then bogo offer is most popular, discount offer is second. Informational is least popular by starbucks"
   ]
  },
  {
   "cell_type": "code",
   "execution_count": 83,
   "metadata": {},
   "outputs": [
    {
     "data": {
      "image/png": "[encoded data removed]",
      "text/plain": [
       "<Figure size 1080x360 with 1 Axes>"
      ]
     },
     "metadata": {
      "needs_background": "light"
     },
     "output_type": "display_data"
    }
   ],
   "source": [
    "offer_completed = df_cleaned_final[df_cleaned_final['offer-completed'] == 1].offer_type.value_counts()\n",
    "offer_completed.plot(kind='bar' , figsize=(15,5), color=\"green\")\n",
    "label_graph('Offer Type','counts','Offer completed received w.r.t Offer Type')"
   ]
  },
  {
   "cell_type": "code",
   "execution_count": 84,
   "metadata": {},
   "outputs": [
    {
     "data": {
      "text/plain": [
       "<AxesSubplot:ylabel='offer_type'>"
      ]
     },
     "execution_count": 84,
     "metadata": {},
     "output_type": "execute_result"
    },
    {
     "data": {
      "image/png": "[encoded data removed]",
      "text/plain": [
       "<Figure size 432x288 with 1 Axes>"
      ]
     },
     "metadata": {},
     "output_type": "display_data"
    }
   ],
   "source": [
    "offer_completed.plot(kind='pie')"
   ]
  },
  {
   "cell_type": "markdown",
   "metadata": {},
   "source": [
    "> We can see above barplot as well as pie-plot to see the contribution of each offer type in the dataset(here no contribution of informational). Let's see more statistical information below"
   ]
  },
  {
   "cell_type": "code",
   "execution_count": 85,
   "metadata": {},
   "outputs": [
    {
     "name": "stdout",
     "output_type": "stream",
     "text": [
      "discount    17910\n",
      "bogo        15669\n",
      "Name: offer_type, dtype: int64\n"
     ]
    }
   ],
   "source": [
    "print(offer_completed)"
   ]
  },
  {
   "cell_type": "markdown",
   "metadata": {},
   "source": [
    "> It can be clearly seen that when offer completed is to be concerned then discount offer is most popular, bogo offer is very close. Informational gets zero marks here."
   ]
  },
  {
   "cell_type": "markdown",
   "metadata": {},
   "source": [
    "`Let's summarize offer_type by aggregating the above results`"
   ]
  },
  {
   "cell_type": "code",
   "execution_count": 86,
   "metadata": {},
   "outputs": [
    {
     "name": "stdout",
     "output_type": "stream",
     "text": [
      "Let's see overall popularity of Discount offers :  69898\n",
      "Let's see overall popularity of Bogo offers :  71617\n"
     ]
    }
   ],
   "source": [
    "print(\"Let's see overall popularity of Discount offers : \",offer_received.discount+offer_viewed.discount+offer_completed.discount)\n",
    "print(\"Let's see overall popularity of Bogo offers : \",offer_received.bogo+offer_viewed.bogo+offer_completed.bogo)"
   ]
  },
  {
   "cell_type": "markdown",
   "metadata": {},
   "source": [
    "This is result:\n",
    "* BOGO offers are highly demanding. \n",
    "* Discount offers are also not lagging behind much."
   ]
  },
  {
   "cell_type": "code",
   "execution_count": 87,
   "metadata": {},
   "outputs": [
    {
     "data": {
      "image/png": "[encoded data removed]",
      "text/plain": [
       "<Figure size 1080x360 with 1 Axes>"
      ]
     },
     "metadata": {
      "needs_background": "light"
     },
     "output_type": "display_data"
    }
   ],
   "source": [
    "offer_received_ = df_cleaned_final[df_cleaned_final['offer-received'] == 1].offer_id.value_counts()\n",
    "offer_received_.plot(kind='bar', figsize=(15,5), color=\"grey\")\n",
    "label_graph('Offer Id','counts','Offer received w.r.t Offer Id')"
   ]
  },
  {
   "cell_type": "markdown",
   "metadata": {},
   "source": [
    "> We can see easily that every offer has equal chances of recieving, as the graph is completely uniform(discretely)"
   ]
  },
  {
   "cell_type": "code",
   "execution_count": 88,
   "metadata": {},
   "outputs": [
    {
     "data": {
      "image/png": "[encoded data removed]",
      "text/plain": [
       "<Figure size 1080x360 with 1 Axes>"
      ]
     },
     "metadata": {
      "needs_background": "light"
     },
     "output_type": "display_data"
    }
   ],
   "source": [
    "offer_viewed_ = df_cleaned_final[df_cleaned_final['offer-viewed'] == 1].offer_id.value_counts()\n",
    "offer_viewed_.plot(kind='bar' , figsize=(15,5), color=\"lightgreen\")\n",
    "label_graph('Offer Id','counts','Offer viewed w.r.t Offer Id')"
   ]
  },
  {
   "cell_type": "markdown",
   "metadata": {},
   "source": [
    "> Here is the plot of offer viewed, we can clearly see that it is not uniform(kind of midely right skewed), so different offer_id have different probability of being viewed, this kinda makes sense because this might depends on user interest, interesting offers attracts more customers(and users view only those)"
   ]
  },
  {
   "cell_type": "code",
   "execution_count": 89,
   "metadata": {},
   "outputs": [
    {
     "data": {
      "image/png": "[encoded data removed]",
      "text/plain": [
       "<Figure size 1080x360 with 1 Axes>"
      ]
     },
     "metadata": {
      "needs_background": "light"
     },
     "output_type": "display_data"
    }
   ],
   "source": [
    "offer_completed_ = df_cleaned_final[df_cleaned_final['offer-completed'] == 1].offer_id.value_counts()\n",
    "offer_completed_.plot(kind='bar' , figsize=(15,5), color=\"purple\")\n",
    "label_graph('Offer Id','counts','Offer completed received w.r.t Offer Id')"
   ]
  },
  {
   "cell_type": "markdown",
   "metadata": {},
   "source": [
    "> Here is the plot of offer completed, we can clearly see that it is not uniform(overall decreasing height) just as previous one, so different offer_id have different probability of being completely, this kinda makes sense as this is somehow related to offer_viewed and i was expected similar behaviour, because this might depends on user interest, interesting offers attracts more customers(and users view and buy only those). **BY THE WAY OFFER COMPLETION RATE IS VERY DECENT, THAT's WHY STARBUCKS MAKES GREAT PROFIT**"
   ]
  },
  {
   "cell_type": "code",
   "execution_count": 90,
   "metadata": {},
   "outputs": [
    {
     "data": {
      "image/png": "[encoded data removed]",
      "text/plain": [
       "<Figure size 432x288 with 1 Axes>"
      ]
     },
     "metadata": {
      "needs_background": "light"
     },
     "output_type": "display_data"
    }
   ],
   "source": [
    "temp1 = df_cleaned_final[df_cleaned_final['offer_type']=='bogo']\n",
    "temp1.groupby('id')['offer-received'].count().hist(color=\"lightblue\");\n",
    "plt.title('User receiving BOGO Offer');"
   ]
  },
  {
   "cell_type": "markdown",
   "metadata": {},
   "source": [
    "> Bogo offers as we have already seen, has great response among users, so this plot kind of confirms that, further the graph is little bit right skewed, aroung 4500-4800 users are interested in this at some point."
   ]
  },
  {
   "cell_type": "code",
   "execution_count": 91,
   "metadata": {},
   "outputs": [
    {
     "data": {
      "image/png": "[encoded data removed]",
      "text/plain": [
       "<Figure size 432x288 with 1 Axes>"
      ]
     },
     "metadata": {
      "needs_background": "light"
     },
     "output_type": "display_data"
    }
   ],
   "source": [
    "temp2 = df_cleaned_final[df_cleaned_final['offer_type']=='informational']\n",
    "temp2.groupby('id')['offer-received'].count().hist(color=\"orange\");\n",
    "plt.title('User receiving Informational Offer');"
   ]
  },
  {
   "cell_type": "markdown",
   "metadata": {},
   "source": [
    "> Informational offers are not that popular as compared to bogo(see the area of plot) as we have already seen, further the graph is little bit right skewed, aroung 4500-4800 users backs up this at some point(very less)."
   ]
  },
  {
   "cell_type": "code",
   "execution_count": 92,
   "metadata": {},
   "outputs": [
    {
     "data": {
      "image/png": "[encoded data removed]",
      "text/plain": [
       "<Figure size 432x288 with 1 Axes>"
      ]
     },
     "metadata": {
      "needs_background": "light"
     },
     "output_type": "display_data"
    }
   ],
   "source": [
    "temp3 = df_cleaned_final[df_cleaned_final['offer_type']=='discount']\n",
    "temp3.groupby('id')['offer-received'].count().hist(color=\"grey\");\n",
    "plt.title('User receiving Discount');"
   ]
  },
  {
   "cell_type": "markdown",
   "metadata": {},
   "source": [
    "> Discount offers as we have already seen, has great response among users, so this plot kind of confirms that, further the graph is little bit right skewed, remeber that area is less than bogo offers which is completely inclined with our previous analysis results, further aroung 4500-4800 users are interested in this at some point."
   ]
  },
  {
   "cell_type": "markdown",
   "metadata": {},
   "source": [
    "## SUMMARY:\n",
    "\n",
    "Going through all the above plots and discussions let's bring them together:<br>\n",
    "1. Many customers has income between 40k and 80k. Attracting these customers is vey crucial as they can be great market for starbucks, while we can try giving offers personally to customers under 40k income.\n",
    "2. Most people are within age group of [40-70], so we cannot sell only fast food to them, we need to be more careful about rolling out combo packages. One idea is we can include soup, vegetable salad etc like stuffs with traditional starbucks food to attract them.\n",
    "3. Gender might be factor for giving adds and offers. We can see that ratio between male and female is approximately 3:2, e.g. let's say female like deserts so we can do that for them.\n",
    "4. Bogo offers are most recieved followed by dicount offers, in general too Bogo offers are very popular.\n",
    "5. Dicount offer are most viewed followed by bogo offer, this makes sense naturally as attrative discounts indeed catch more people.\n",
    "6. Different offer_id have different probability of being viewed, this kinda makes sense because this might depends on user interest, interesting offers attracts more customers(and users view only those).\n",
    "\n",
    "So different offer were given to different section of people depending upon locations, gender etc, and change in market hugely depend upon it. Offer recieved for some region might be different from others similarly offer viewed depends upon this and various other factors. The outcome of these is certainly transaction done/completed or cancelled."
   ]
  },
  {
   "cell_type": "markdown",
   "metadata": {},
   "source": [
    "# Modeling and Predictions :"
   ]
  },
  {
   "cell_type": "markdown",
   "metadata": {},
   "source": [
    "## Feature Engineering :\n",
    "> This section includes feature transformation and selection, so that it works well during prediction."
   ]
  },
  {
   "cell_type": "code",
   "execution_count": 126,
   "metadata": {},
   "outputs": [],
   "source": [
    "df_cleaned_final_copy = df_cleaned_final.copy()"
   ]
  },
  {
   "cell_type": "markdown",
   "metadata": {},
   "source": [
    "> Creating a copy of dataset and naming it as `df_cleaned_final_copy`"
   ]
  },
  {
   "cell_type": "code",
   "execution_count": 127,
   "metadata": {},
   "outputs": [
    {
     "name": "stdout",
     "output_type": "stream",
     "text": [
      "Done\n"
     ]
    }
   ],
   "source": [
    "offers_ = {'bogo': 0, 'discount': 1, 'informational': 2}\n",
    "df_cleaned_final_copy['offer_type'] = df_cleaned_final_copy['offer_type'].map(offers_)\n",
    "\n",
    "genders = {'O': 0, 'M': 1, 'F': 2}\n",
    "df_cleaned_final_copy['gender'] = df_cleaned_final_copy['gender'].map(genders)\n",
    "print(\"Done\")"
   ]
  },
  {
   "cell_type": "markdown",
   "metadata": {},
   "source": [
    "> For prediction and model fitting(using various classifier) i am trying to make categorical variable as ordinal"
   ]
  },
  {
   "cell_type": "code",
   "execution_count": 128,
   "metadata": {},
   "outputs": [
    {
     "name": "stdout",
     "output_type": "stream",
     "text": [
      "Replacement Done\n"
     ]
    }
   ],
   "source": [
    "df_cleaned_final_copy.replace([np.inf, -np.inf], np.nan)\n",
    "print(\"Replacement Done\")"
   ]
  },
  {
   "cell_type": "markdown",
   "metadata": {},
   "source": [
    "> Replacing all `-oo` or `+oo` terms as they might hamper model training, so i have decided to replace all these terms with NaN"
   ]
  },
  {
   "cell_type": "code",
   "execution_count": 129,
   "metadata": {},
   "outputs": [
    {
     "data": {
      "text/plain": [
       "id                  True\n",
       "event               True\n",
       "time                True\n",
       "offer-completed     True\n",
       "offer-received      True\n",
       "offer-viewed        True\n",
       "transaction         True\n",
       "offer_id            True\n",
       "amount              True\n",
       "gender              True\n",
       "age                 True\n",
       "became_member_on    True\n",
       "income              True\n",
       "reward              True\n",
       "difficulty          True\n",
       "duration            True\n",
       "offer_type          True\n",
       "email               True\n",
       "mobile              True\n",
       "social              True\n",
       "web                 True\n",
       "event_id            True\n",
       "dtype: bool"
      ]
     },
     "execution_count": 129,
     "metadata": {},
     "output_type": "execute_result"
    }
   ],
   "source": [
    "np.isfinite(df_cleaned_final_copy.all())"
   ]
  },
  {
   "cell_type": "markdown",
   "metadata": {},
   "source": [
    "> After doing this we can see everything is finite"
   ]
  },
  {
   "cell_type": "code",
   "execution_count": 130,
   "metadata": {},
   "outputs": [],
   "source": [
    "h_parameter = 1\n",
    "df_cleaned_final_copy.fillna(h_parameter, inplace=True)"
   ]
  },
  {
   "cell_type": "markdown",
   "metadata": {},
   "source": [
    "> Replacing each NaN terms with h_parameter, which i got after standarization and taking mean."
   ]
  },
  {
   "cell_type": "code",
   "execution_count": 131,
   "metadata": {},
   "outputs": [
    {
     "data": {
      "text/html": [
       "<div>\n",
       "<style scoped>\n",
       "    .dataframe tbody tr th:only-of-type {\n",
       "        vertical-align: middle;\n",
       "    }\n",
       "\n",
       "    .dataframe tbody tr th {\n",
       "        vertical-align: top;\n",
       "    }\n",
       "\n",
       "    .dataframe thead th {\n",
       "        text-align: right;\n",
       "    }\n",
       "</style>\n",
       "<table border=\"1\" class=\"dataframe\">\n",
       "  <thead>\n",
       "    <tr style=\"text-align: right;\">\n",
       "      <th></th>\n",
       "      <th>time</th>\n",
       "      <th>offer-completed</th>\n",
       "      <th>offer-received</th>\n",
       "      <th>offer-viewed</th>\n",
       "      <th>transaction</th>\n",
       "      <th>offer_id</th>\n",
       "      <th>amount</th>\n",
       "      <th>gender</th>\n",
       "      <th>age</th>\n",
       "      <th>income</th>\n",
       "      <th>reward</th>\n",
       "      <th>difficulty</th>\n",
       "      <th>duration</th>\n",
       "      <th>offer_type</th>\n",
       "      <th>email</th>\n",
       "      <th>mobile</th>\n",
       "      <th>social</th>\n",
       "      <th>web</th>\n",
       "      <th>event_id</th>\n",
       "    </tr>\n",
       "  </thead>\n",
       "  <tbody>\n",
       "    <tr>\n",
       "      <th>time</th>\n",
       "      <td>1.000000</td>\n",
       "      <td>0.060702</td>\n",
       "      <td>-0.097121</td>\n",
       "      <td>-0.029075</td>\n",
       "      <td>0.069098</td>\n",
       "      <td>-0.045975</td>\n",
       "      <td>0.022162</td>\n",
       "      <td>0.001751</td>\n",
       "      <td>0.004637</td>\n",
       "      <td>0.000975</td>\n",
       "      <td>-0.035630</td>\n",
       "      <td>-0.034429</td>\n",
       "      <td>-0.051171</td>\n",
       "      <td>0.008925</td>\n",
       "      <td>NaN</td>\n",
       "      <td>0.003532</td>\n",
       "      <td>0.023273</td>\n",
       "      <td>0.032311</td>\n",
       "      <td>0.116606</td>\n",
       "    </tr>\n",
       "    <tr>\n",
       "      <th>offer-completed</th>\n",
       "      <td>0.060702</td>\n",
       "      <td>1.000000</td>\n",
       "      <td>-0.201873</td>\n",
       "      <td>-0.168942</td>\n",
       "      <td>-0.319382</td>\n",
       "      <td>0.257104</td>\n",
       "      <td>-0.088351</td>\n",
       "      <td>0.062476</td>\n",
       "      <td>0.089228</td>\n",
       "      <td>0.121405</td>\n",
       "      <td>0.236296</td>\n",
       "      <td>0.313872</td>\n",
       "      <td>0.356229</td>\n",
       "      <td>-0.204824</td>\n",
       "      <td>NaN</td>\n",
       "      <td>-0.096566</td>\n",
       "      <td>-0.147029</td>\n",
       "      <td>-0.004840</td>\n",
       "      <td>0.564058</td>\n",
       "    </tr>\n",
       "    <tr>\n",
       "      <th>offer-received</th>\n",
       "      <td>-0.097121</td>\n",
       "      <td>-0.201873</td>\n",
       "      <td>1.000000</td>\n",
       "      <td>-0.277229</td>\n",
       "      <td>-0.524097</td>\n",
       "      <td>0.335274</td>\n",
       "      <td>-0.144982</td>\n",
       "      <td>-0.009195</td>\n",
       "      <td>-0.012045</td>\n",
       "      <td>-0.005174</td>\n",
       "      <td>0.253859</td>\n",
       "      <td>0.337239</td>\n",
       "      <td>0.437011</td>\n",
       "      <td>-0.054441</td>\n",
       "      <td>NaN</td>\n",
       "      <td>-0.154789</td>\n",
       "      <td>-0.314923</td>\n",
       "      <td>-0.177324</td>\n",
       "      <td>-0.835837</td>\n",
       "    </tr>\n",
       "    <tr>\n",
       "      <th>offer-viewed</th>\n",
       "      <td>-0.029075</td>\n",
       "      <td>-0.168942</td>\n",
       "      <td>-0.277229</td>\n",
       "      <td>1.000000</td>\n",
       "      <td>-0.438602</td>\n",
       "      <td>0.321298</td>\n",
       "      <td>-0.121331</td>\n",
       "      <td>-0.008884</td>\n",
       "      <td>-0.014065</td>\n",
       "      <td>-0.006408</td>\n",
       "      <td>0.248349</td>\n",
       "      <td>0.235120</td>\n",
       "      <td>0.340536</td>\n",
       "      <td>-0.092544</td>\n",
       "      <td>NaN</td>\n",
       "      <td>-0.002962</td>\n",
       "      <td>-0.091313</td>\n",
       "      <td>-0.198423</td>\n",
       "      <td>-0.208121</td>\n",
       "    </tr>\n",
       "    <tr>\n",
       "      <th>transaction</th>\n",
       "      <td>0.069098</td>\n",
       "      <td>-0.319382</td>\n",
       "      <td>-0.524097</td>\n",
       "      <td>-0.438602</td>\n",
       "      <td>1.000000</td>\n",
       "      <td>-0.704814</td>\n",
       "      <td>0.276632</td>\n",
       "      <td>-0.024234</td>\n",
       "      <td>-0.034474</td>\n",
       "      <td>-0.066641</td>\n",
       "      <td>-0.563761</td>\n",
       "      <td>-0.674456</td>\n",
       "      <td>-0.870468</td>\n",
       "      <td>0.248465</td>\n",
       "      <td>NaN</td>\n",
       "      <td>0.197340</td>\n",
       "      <td>0.437459</td>\n",
       "      <td>0.312871</td>\n",
       "      <td>0.535471</td>\n",
       "    </tr>\n",
       "    <tr>\n",
       "      <th>offer_id</th>\n",
       "      <td>-0.045975</td>\n",
       "      <td>0.257104</td>\n",
       "      <td>0.335274</td>\n",
       "      <td>0.321298</td>\n",
       "      <td>-0.704814</td>\n",
       "      <td>1.000000</td>\n",
       "      <td>-0.194974</td>\n",
       "      <td>0.017004</td>\n",
       "      <td>0.025565</td>\n",
       "      <td>0.049253</td>\n",
       "      <td>0.370181</td>\n",
       "      <td>0.619084</td>\n",
       "      <td>0.691759</td>\n",
       "      <td>-0.066087</td>\n",
       "      <td>NaN</td>\n",
       "      <td>-0.099805</td>\n",
       "      <td>-0.123958</td>\n",
       "      <td>0.100725</td>\n",
       "      <td>-0.341970</td>\n",
       "    </tr>\n",
       "    <tr>\n",
       "      <th>amount</th>\n",
       "      <td>0.022162</td>\n",
       "      <td>-0.088351</td>\n",
       "      <td>-0.144982</td>\n",
       "      <td>-0.121331</td>\n",
       "      <td>0.276632</td>\n",
       "      <td>-0.194974</td>\n",
       "      <td>1.000000</td>\n",
       "      <td>0.063113</td>\n",
       "      <td>0.084313</td>\n",
       "      <td>0.136672</td>\n",
       "      <td>-0.155954</td>\n",
       "      <td>-0.186576</td>\n",
       "      <td>-0.240799</td>\n",
       "      <td>0.068733</td>\n",
       "      <td>NaN</td>\n",
       "      <td>0.054591</td>\n",
       "      <td>0.121015</td>\n",
       "      <td>0.086550</td>\n",
       "      <td>0.148128</td>\n",
       "    </tr>\n",
       "    <tr>\n",
       "      <th>gender</th>\n",
       "      <td>0.001751</td>\n",
       "      <td>0.062476</td>\n",
       "      <td>-0.009195</td>\n",
       "      <td>-0.008884</td>\n",
       "      <td>-0.024234</td>\n",
       "      <td>0.017004</td>\n",
       "      <td>0.063113</td>\n",
       "      <td>1.000000</td>\n",
       "      <td>0.265325</td>\n",
       "      <td>0.311031</td>\n",
       "      <td>0.023083</td>\n",
       "      <td>0.025184</td>\n",
       "      <td>0.024123</td>\n",
       "      <td>-0.016557</td>\n",
       "      <td>NaN</td>\n",
       "      <td>-0.011683</td>\n",
       "      <td>-0.014196</td>\n",
       "      <td>-0.004349</td>\n",
       "      <td>0.031560</td>\n",
       "    </tr>\n",
       "    <tr>\n",
       "      <th>age</th>\n",
       "      <td>0.004637</td>\n",
       "      <td>0.089228</td>\n",
       "      <td>-0.012045</td>\n",
       "      <td>-0.014065</td>\n",
       "      <td>-0.034474</td>\n",
       "      <td>0.025565</td>\n",
       "      <td>0.084313</td>\n",
       "      <td>0.265325</td>\n",
       "      <td>1.000000</td>\n",
       "      <td>0.650161</td>\n",
       "      <td>0.028121</td>\n",
       "      <td>0.035629</td>\n",
       "      <td>0.036598</td>\n",
       "      <td>-0.019417</td>\n",
       "      <td>NaN</td>\n",
       "      <td>-0.016422</td>\n",
       "      <td>-0.017871</td>\n",
       "      <td>-0.006097</td>\n",
       "      <td>0.044663</td>\n",
       "    </tr>\n",
       "    <tr>\n",
       "      <th>income</th>\n",
       "      <td>0.000975</td>\n",
       "      <td>0.121405</td>\n",
       "      <td>-0.005174</td>\n",
       "      <td>-0.006408</td>\n",
       "      <td>-0.066641</td>\n",
       "      <td>0.049253</td>\n",
       "      <td>0.136672</td>\n",
       "      <td>0.311031</td>\n",
       "      <td>0.650161</td>\n",
       "      <td>1.000000</td>\n",
       "      <td>0.052101</td>\n",
       "      <td>0.063604</td>\n",
       "      <td>0.066878</td>\n",
       "      <td>-0.033466</td>\n",
       "      <td>NaN</td>\n",
       "      <td>-0.027059</td>\n",
       "      <td>-0.035065</td>\n",
       "      <td>-0.013736</td>\n",
       "      <td>0.045800</td>\n",
       "    </tr>\n",
       "    <tr>\n",
       "      <th>reward</th>\n",
       "      <td>-0.035630</td>\n",
       "      <td>0.236296</td>\n",
       "      <td>0.253859</td>\n",
       "      <td>0.248349</td>\n",
       "      <td>-0.563761</td>\n",
       "      <td>0.370181</td>\n",
       "      <td>-0.155954</td>\n",
       "      <td>0.023083</td>\n",
       "      <td>0.028121</td>\n",
       "      <td>0.052101</td>\n",
       "      <td>1.000000</td>\n",
       "      <td>0.639853</td>\n",
       "      <td>0.511032</td>\n",
       "      <td>-0.810882</td>\n",
       "      <td>NaN</td>\n",
       "      <td>-0.152882</td>\n",
       "      <td>-0.045246</td>\n",
       "      <td>-0.308419</td>\n",
       "      <td>-0.247690</td>\n",
       "    </tr>\n",
       "    <tr>\n",
       "      <th>difficulty</th>\n",
       "      <td>-0.034429</td>\n",
       "      <td>0.313872</td>\n",
       "      <td>0.337239</td>\n",
       "      <td>0.235120</td>\n",
       "      <td>-0.674456</td>\n",
       "      <td>0.619084</td>\n",
       "      <td>-0.186576</td>\n",
       "      <td>0.025184</td>\n",
       "      <td>0.035629</td>\n",
       "      <td>0.063604</td>\n",
       "      <td>0.639853</td>\n",
       "      <td>1.000000</td>\n",
       "      <td>0.866312</td>\n",
       "      <td>-0.383092</td>\n",
       "      <td>NaN</td>\n",
       "      <td>-0.653843</td>\n",
       "      <td>-0.398276</td>\n",
       "      <td>-0.056761</td>\n",
       "      <td>-0.291246</td>\n",
       "    </tr>\n",
       "    <tr>\n",
       "      <th>duration</th>\n",
       "      <td>-0.051171</td>\n",
       "      <td>0.356229</td>\n",
       "      <td>0.437011</td>\n",
       "      <td>0.340536</td>\n",
       "      <td>-0.870468</td>\n",
       "      <td>0.691759</td>\n",
       "      <td>-0.240799</td>\n",
       "      <td>0.024123</td>\n",
       "      <td>0.036598</td>\n",
       "      <td>0.066878</td>\n",
       "      <td>0.511032</td>\n",
       "      <td>0.866312</td>\n",
       "      <td>1.000000</td>\n",
       "      <td>-0.282606</td>\n",
       "      <td>NaN</td>\n",
       "      <td>-0.400688</td>\n",
       "      <td>-0.454625</td>\n",
       "      <td>-0.124725</td>\n",
       "      <td>-0.407801</td>\n",
       "    </tr>\n",
       "    <tr>\n",
       "      <th>offer_type</th>\n",
       "      <td>0.008925</td>\n",
       "      <td>-0.204824</td>\n",
       "      <td>-0.054441</td>\n",
       "      <td>-0.092544</td>\n",
       "      <td>0.248465</td>\n",
       "      <td>-0.066087</td>\n",
       "      <td>0.068733</td>\n",
       "      <td>-0.016557</td>\n",
       "      <td>-0.019417</td>\n",
       "      <td>-0.033466</td>\n",
       "      <td>-0.810882</td>\n",
       "      <td>-0.383092</td>\n",
       "      <td>-0.282606</td>\n",
       "      <td>1.000000</td>\n",
       "      <td>NaN</td>\n",
       "      <td>-0.059134</td>\n",
       "      <td>-0.062932</td>\n",
       "      <td>-0.020520</td>\n",
       "      <td>0.019673</td>\n",
       "    </tr>\n",
       "    <tr>\n",
       "      <th>email</th>\n",
       "      <td>NaN</td>\n",
       "      <td>NaN</td>\n",
       "      <td>NaN</td>\n",
       "      <td>NaN</td>\n",
       "      <td>NaN</td>\n",
       "      <td>NaN</td>\n",
       "      <td>NaN</td>\n",
       "      <td>NaN</td>\n",
       "      <td>NaN</td>\n",
       "      <td>NaN</td>\n",
       "      <td>NaN</td>\n",
       "      <td>NaN</td>\n",
       "      <td>NaN</td>\n",
       "      <td>NaN</td>\n",
       "      <td>NaN</td>\n",
       "      <td>NaN</td>\n",
       "      <td>NaN</td>\n",
       "      <td>NaN</td>\n",
       "      <td>NaN</td>\n",
       "    </tr>\n",
       "    <tr>\n",
       "      <th>mobile</th>\n",
       "      <td>0.003532</td>\n",
       "      <td>-0.096566</td>\n",
       "      <td>-0.154789</td>\n",
       "      <td>-0.002962</td>\n",
       "      <td>0.197340</td>\n",
       "      <td>-0.099805</td>\n",
       "      <td>0.054591</td>\n",
       "      <td>-0.011683</td>\n",
       "      <td>-0.016422</td>\n",
       "      <td>-0.027059</td>\n",
       "      <td>-0.152882</td>\n",
       "      <td>-0.653843</td>\n",
       "      <td>-0.400688</td>\n",
       "      <td>-0.059134</td>\n",
       "      <td>NaN</td>\n",
       "      <td>1.000000</td>\n",
       "      <td>0.451105</td>\n",
       "      <td>-0.074463</td>\n",
       "      <td>0.106952</td>\n",
       "    </tr>\n",
       "    <tr>\n",
       "      <th>social</th>\n",
       "      <td>0.023273</td>\n",
       "      <td>-0.147029</td>\n",
       "      <td>-0.314923</td>\n",
       "      <td>-0.091313</td>\n",
       "      <td>0.437459</td>\n",
       "      <td>-0.123958</td>\n",
       "      <td>0.121015</td>\n",
       "      <td>-0.014196</td>\n",
       "      <td>-0.017871</td>\n",
       "      <td>-0.035065</td>\n",
       "      <td>-0.045246</td>\n",
       "      <td>-0.398276</td>\n",
       "      <td>-0.454625</td>\n",
       "      <td>-0.062932</td>\n",
       "      <td>NaN</td>\n",
       "      <td>0.451105</td>\n",
       "      <td>1.000000</td>\n",
       "      <td>-0.165067</td>\n",
       "      <td>0.267363</td>\n",
       "    </tr>\n",
       "    <tr>\n",
       "      <th>web</th>\n",
       "      <td>0.032311</td>\n",
       "      <td>-0.004840</td>\n",
       "      <td>-0.177324</td>\n",
       "      <td>-0.198423</td>\n",
       "      <td>0.312871</td>\n",
       "      <td>0.100725</td>\n",
       "      <td>0.086550</td>\n",
       "      <td>-0.004349</td>\n",
       "      <td>-0.006097</td>\n",
       "      <td>-0.013736</td>\n",
       "      <td>-0.308419</td>\n",
       "      <td>-0.056761</td>\n",
       "      <td>-0.124725</td>\n",
       "      <td>-0.020520</td>\n",
       "      <td>NaN</td>\n",
       "      <td>-0.074463</td>\n",
       "      <td>-0.165067</td>\n",
       "      <td>1.000000</td>\n",
       "      <td>0.234011</td>\n",
       "    </tr>\n",
       "    <tr>\n",
       "      <th>event_id</th>\n",
       "      <td>0.116606</td>\n",
       "      <td>0.564058</td>\n",
       "      <td>-0.835837</td>\n",
       "      <td>-0.208121</td>\n",
       "      <td>0.535471</td>\n",
       "      <td>-0.341970</td>\n",
       "      <td>0.148128</td>\n",
       "      <td>0.031560</td>\n",
       "      <td>0.044663</td>\n",
       "      <td>0.045800</td>\n",
       "      <td>-0.247690</td>\n",
       "      <td>-0.291246</td>\n",
       "      <td>-0.407801</td>\n",
       "      <td>0.019673</td>\n",
       "      <td>NaN</td>\n",
       "      <td>0.106952</td>\n",
       "      <td>0.267363</td>\n",
       "      <td>0.234011</td>\n",
       "      <td>1.000000</td>\n",
       "    </tr>\n",
       "  </tbody>\n",
       "</table>\n",
       "</div>"
      ],
      "text/plain": [
       "                     time  offer-completed  offer-received  offer-viewed  \\\n",
       "time             1.000000         0.060702       -0.097121     -0.029075   \n",
       "offer-completed  0.060702         1.000000       -0.201873     -0.168942   \n",
       "offer-received  -0.097121        -0.201873        1.000000     -0.277229   \n",
       "offer-viewed    -0.029075        -0.168942       -0.277229      1.000000   \n",
       "transaction      0.069098        -0.319382       -0.524097     -0.438602   \n",
       "offer_id        -0.045975         0.257104        0.335274      0.321298   \n",
       "amount           0.022162        -0.088351       -0.144982     -0.121331   \n",
       "gender           0.001751         0.062476       -0.009195     -0.008884   \n",
       "age              0.004637         0.089228       -0.012045     -0.014065   \n",
       "income           0.000975         0.121405       -0.005174     -0.006408   \n",
       "reward          -0.035630         0.236296        0.253859      0.248349   \n",
       "difficulty      -0.034429         0.313872        0.337239      0.235120   \n",
       "duration        -0.051171         0.356229        0.437011      0.340536   \n",
       "offer_type       0.008925        -0.204824       -0.054441     -0.092544   \n",
       "email                 NaN              NaN             NaN           NaN   \n",
       "mobile           0.003532        -0.096566       -0.154789     -0.002962   \n",
       "social           0.023273        -0.147029       -0.314923     -0.091313   \n",
       "web              0.032311        -0.004840       -0.177324     -0.198423   \n",
       "event_id         0.116606         0.564058       -0.835837     -0.208121   \n",
       "\n",
       "                 transaction  offer_id    amount    gender       age  \\\n",
       "time                0.069098 -0.045975  0.022162  0.001751  0.004637   \n",
       "offer-completed    -0.319382  0.257104 -0.088351  0.062476  0.089228   \n",
       "offer-received     -0.524097  0.335274 -0.144982 -0.009195 -0.012045   \n",
       "offer-viewed       -0.438602  0.321298 -0.121331 -0.008884 -0.014065   \n",
       "transaction         1.000000 -0.704814  0.276632 -0.024234 -0.034474   \n",
       "offer_id           -0.704814  1.000000 -0.194974  0.017004  0.025565   \n",
       "amount              0.276632 -0.194974  1.000000  0.063113  0.084313   \n",
       "gender             -0.024234  0.017004  0.063113  1.000000  0.265325   \n",
       "age                -0.034474  0.025565  0.084313  0.265325  1.000000   \n",
       "income             -0.066641  0.049253  0.136672  0.311031  0.650161   \n",
       "reward             -0.563761  0.370181 -0.155954  0.023083  0.028121   \n",
       "difficulty         -0.674456  0.619084 -0.186576  0.025184  0.035629   \n",
       "duration           -0.870468  0.691759 -0.240799  0.024123  0.036598   \n",
       "offer_type          0.248465 -0.066087  0.068733 -0.016557 -0.019417   \n",
       "email                    NaN       NaN       NaN       NaN       NaN   \n",
       "mobile              0.197340 -0.099805  0.054591 -0.011683 -0.016422   \n",
       "social              0.437459 -0.123958  0.121015 -0.014196 -0.017871   \n",
       "web                 0.312871  0.100725  0.086550 -0.004349 -0.006097   \n",
       "event_id            0.535471 -0.341970  0.148128  0.031560  0.044663   \n",
       "\n",
       "                   income    reward  difficulty  duration  offer_type  email  \\\n",
       "time             0.000975 -0.035630   -0.034429 -0.051171    0.008925    NaN   \n",
       "offer-completed  0.121405  0.236296    0.313872  0.356229   -0.204824    NaN   \n",
       "offer-received  -0.005174  0.253859    0.337239  0.437011   -0.054441    NaN   \n",
       "offer-viewed    -0.006408  0.248349    0.235120  0.340536   -0.092544    NaN   \n",
       "transaction     -0.066641 -0.563761   -0.674456 -0.870468    0.248465    NaN   \n",
       "offer_id         0.049253  0.370181    0.619084  0.691759   -0.066087    NaN   \n",
       "amount           0.136672 -0.155954   -0.186576 -0.240799    0.068733    NaN   \n",
       "gender           0.311031  0.023083    0.025184  0.024123   -0.016557    NaN   \n",
       "age              0.650161  0.028121    0.035629  0.036598   -0.019417    NaN   \n",
       "income           1.000000  0.052101    0.063604  0.066878   -0.033466    NaN   \n",
       "reward           0.052101  1.000000    0.639853  0.511032   -0.810882    NaN   \n",
       "difficulty       0.063604  0.639853    1.000000  0.866312   -0.383092    NaN   \n",
       "duration         0.066878  0.511032    0.866312  1.000000   -0.282606    NaN   \n",
       "offer_type      -0.033466 -0.810882   -0.383092 -0.282606    1.000000    NaN   \n",
       "email                 NaN       NaN         NaN       NaN         NaN    NaN   \n",
       "mobile          -0.027059 -0.152882   -0.653843 -0.400688   -0.059134    NaN   \n",
       "social          -0.035065 -0.045246   -0.398276 -0.454625   -0.062932    NaN   \n",
       "web             -0.013736 -0.308419   -0.056761 -0.124725   -0.020520    NaN   \n",
       "event_id         0.045800 -0.247690   -0.291246 -0.407801    0.019673    NaN   \n",
       "\n",
       "                   mobile    social       web  event_id  \n",
       "time             0.003532  0.023273  0.032311  0.116606  \n",
       "offer-completed -0.096566 -0.147029 -0.004840  0.564058  \n",
       "offer-received  -0.154789 -0.314923 -0.177324 -0.835837  \n",
       "offer-viewed    -0.002962 -0.091313 -0.198423 -0.208121  \n",
       "transaction      0.197340  0.437459  0.312871  0.535471  \n",
       "offer_id        -0.099805 -0.123958  0.100725 -0.341970  \n",
       "amount           0.054591  0.121015  0.086550  0.148128  \n",
       "gender          -0.011683 -0.014196 -0.004349  0.031560  \n",
       "age             -0.016422 -0.017871 -0.006097  0.044663  \n",
       "income          -0.027059 -0.035065 -0.013736  0.045800  \n",
       "reward          -0.152882 -0.045246 -0.308419 -0.247690  \n",
       "difficulty      -0.653843 -0.398276 -0.056761 -0.291246  \n",
       "duration        -0.400688 -0.454625 -0.124725 -0.407801  \n",
       "offer_type      -0.059134 -0.062932 -0.020520  0.019673  \n",
       "email                 NaN       NaN       NaN       NaN  \n",
       "mobile           1.000000  0.451105 -0.074463  0.106952  \n",
       "social           0.451105  1.000000 -0.165067  0.267363  \n",
       "web             -0.074463 -0.165067  1.000000  0.234011  \n",
       "event_id         0.106952  0.267363  0.234011  1.000000  "
      ]
     },
     "execution_count": 131,
     "metadata": {},
     "output_type": "execute_result"
    }
   ],
   "source": [
    "df_cleaned_final_copy.corr()"
   ]
  },
  {
   "cell_type": "markdown",
   "metadata": {},
   "source": [
    "> After analysing the correlation of covariates i decided to drop 'event', 'became_member_on', 'offer-completed', 'offer-received', 'offer-viewed', 'transaction'. Further i will drop 'id' too as it will become my label.<br>\n",
    "> `So my data-set is X and label is y.`"
   ]
  },
  {
   "cell_type": "markdown",
   "metadata": {},
   "source": [
    "## Final Dataset Created"
   ]
  },
  {
   "cell_type": "code",
   "execution_count": 132,
   "metadata": {},
   "outputs": [],
   "source": [
    "X = df_cleaned_final_copy.drop(['id', 'event_id' , 'event' , 'became_member_on','offer-completed', 'offer-received',\n",
    "       'offer-viewed', 'transaction'], axis=1)\n",
    "y = df_cleaned_final_copy['event_id']"
   ]
  },
  {
   "cell_type": "markdown",
   "metadata": {},
   "source": [
    ">`Dataset Created!`"
   ]
  },
  {
   "cell_type": "markdown",
   "metadata": {},
   "source": [
    "## Training Phase\n",
    "\n",
    "### In this phase i will be creating three models, and give comparision between models."
   ]
  },
  {
   "cell_type": "code",
   "execution_count": 133,
   "metadata": {},
   "outputs": [],
   "source": [
    "from sklearn.tree import DecisionTreeClassifier\n",
    "from sklearn.model_selection import train_test_split\n",
    "from sklearn.neighbors import KNeighborsClassifier\n",
    "from sklearn.svm import SVC\n",
    "from sklearn.ensemble import RandomForestClassifier\n",
    "from sklearn.metrics import classification_report, confusion_matrix\n",
    "import tensorflow as tf\n",
    "import keras\n",
    "from keras.layers import Dense, Dropout, Flatten"
   ]
  },
  {
   "cell_type": "markdown",
   "metadata": {},
   "source": [
    "> All necessary libraries are imported for prediction"
   ]
  },
  {
   "cell_type": "code",
   "execution_count": 134,
   "metadata": {},
   "outputs": [],
   "source": [
    "X_train, X_test, y_train, y_test = train_test_split(X, y, test_size=0.3)"
   ]
  },
  {
   "cell_type": "markdown",
   "metadata": {},
   "source": [
    "> Using train_test_split, and creating test-dataset, 30% dataset is used for prediction and remaining for training"
   ]
  },
  {
   "cell_type": "markdown",
   "metadata": {},
   "source": [
    "## MODEL I : Neural Net with one Layer "
   ]
  },
  {
   "cell_type": "code",
   "execution_count": 135,
   "metadata": {},
   "outputs": [],
   "source": [
    "X_train_value = X_train.values\n",
    "X_test_value = X_test.values\n",
    "y_train_value = y_train.values\n",
    "y_test_value = y_test.values"
   ]
  },
  {
   "cell_type": "markdown",
   "metadata": {},
   "source": [
    "> Converting dataframe to numpy arrays"
   ]
  },
  {
   "cell_type": "code",
   "execution_count": 136,
   "metadata": {},
   "outputs": [
    {
     "name": "stdout",
     "output_type": "stream",
     "text": [
      "Train on 214573 samples, validate on 91961 samples\n",
      "Epoch 1/50\n",
      "214573/214573 [==============================] - 2s 9us/step - loss: 2159.9024 - accuracy: 0.4514 - val_loss: 3.5626 - val_accuracy: 0.6071\n",
      "Epoch 2/50\n",
      "214573/214573 [==============================] - 2s 9us/step - loss: 4.5860 - accuracy: 0.5862 - val_loss: 7.0116 - val_accuracy: 0.5878\n",
      "Epoch 3/50\n",
      "214573/214573 [==============================] - 2s 9us/step - loss: 4.7048 - accuracy: 0.6036 - val_loss: 3.6912 - val_accuracy: 0.6845\n",
      "Epoch 4/50\n",
      "214573/214573 [==============================] - 2s 9us/step - loss: 4.4136 - accuracy: 0.6214 - val_loss: 4.8220 - val_accuracy: 0.6194\n",
      "Epoch 5/50\n",
      "214573/214573 [==============================] - 2s 9us/step - loss: 4.6126 - accuracy: 0.6294 - val_loss: 3.0763 - val_accuracy: 0.6787\n",
      "Epoch 6/50\n",
      "214573/214573 [==============================] - 2s 9us/step - loss: 4.8109 - accuracy: 0.6320 - val_loss: 6.8710 - val_accuracy: 0.6157\n",
      "Epoch 7/50\n",
      "214573/214573 [==============================] - 2s 9us/step - loss: 4.8573 - accuracy: 0.6398 - val_loss: 9.0958 - val_accuracy: 0.6464\n",
      "Epoch 8/50\n",
      "214573/214573 [==============================] - 2s 9us/step - loss: 4.1499 - accuracy: 0.6458 - val_loss: 1.9781 - val_accuracy: 0.6185\n",
      "Epoch 9/50\n",
      "214573/214573 [==============================] - 2s 9us/step - loss: 4.7939 - accuracy: 0.6447 - val_loss: 1.0273 - val_accuracy: 0.6864\n",
      "Epoch 10/50\n",
      "214573/214573 [==============================] - 2s 9us/step - loss: 4.5605 - accuracy: 0.6504 - val_loss: 7.9505 - val_accuracy: 0.6185\n",
      "Epoch 11/50\n",
      "214573/214573 [==============================] - 2s 9us/step - loss: 4.8315 - accuracy: 0.6494 - val_loss: 1.9345 - val_accuracy: 0.6522\n",
      "Epoch 12/50\n",
      "214573/214573 [==============================] - 2s 9us/step - loss: 4.5053 - accuracy: 0.6526 - val_loss: 12.8686 - val_accuracy: 0.6958\n",
      "Epoch 13/50\n",
      "214573/214573 [==============================] - 2s 9us/step - loss: 5.2588 - accuracy: 0.6525 - val_loss: 1.4432 - val_accuracy: 0.6625\n",
      "Epoch 14/50\n",
      "214573/214573 [==============================] - 2s 9us/step - loss: 4.4261 - accuracy: 0.6581 - val_loss: 0.8833 - val_accuracy: 0.6667\n",
      "Epoch 15/50\n",
      "214573/214573 [==============================] - 3s 12us/step - loss: 4.0449 - accuracy: 0.6600 - val_loss: 2.4973 - val_accuracy: 0.6504\n",
      "Epoch 16/50\n",
      "214573/214573 [==============================] - 2s 11us/step - loss: 4.6330 - accuracy: 0.6566 - val_loss: 6.2983 - val_accuracy: 0.5439\n",
      "Epoch 17/50\n",
      "214573/214573 [==============================] - 2s 11us/step - loss: 4.5251 - accuracy: 0.6577 - val_loss: 3.2677 - val_accuracy: 0.6490\n",
      "Epoch 18/50\n",
      "214573/214573 [==============================] - 2s 10us/step - loss: 4.4651 - accuracy: 0.6621 - val_loss: 7.2448 - val_accuracy: 0.6983\n",
      "Epoch 19/50\n",
      "214573/214573 [==============================] - 2s 10us/step - loss: 4.8333 - accuracy: 0.6593 - val_loss: 6.8078 - val_accuracy: 0.6893\n",
      "Epoch 20/50\n",
      "214573/214573 [==============================] - 2s 9us/step - loss: 4.4946 - accuracy: 0.6588 - val_loss: 7.4084 - val_accuracy: 0.6487\n",
      "Epoch 21/50\n",
      "214573/214573 [==============================] - 2s 9us/step - loss: 4.6619 - accuracy: 0.6614 - val_loss: 3.5196 - val_accuracy: 0.7008\n",
      "Epoch 22/50\n",
      "214573/214573 [==============================] - 2s 9us/step - loss: 4.7648 - accuracy: 0.6623 - val_loss: 3.9452 - val_accuracy: 0.7019\n",
      "Epoch 23/50\n",
      "214573/214573 [==============================] - 2s 9us/step - loss: 4.8089 - accuracy: 0.6625 - val_loss: 8.6733 - val_accuracy: 0.5934\n",
      "Epoch 24/50\n",
      "214573/214573 [==============================] - 2s 9us/step - loss: 4.6938 - accuracy: 0.6617 - val_loss: 2.3075 - val_accuracy: 0.6998\n",
      "Epoch 25/50\n",
      "214573/214573 [==============================] - 2s 9us/step - loss: 4.3303 - accuracy: 0.6649 - val_loss: 2.8594 - val_accuracy: 0.6423\n",
      "Epoch 26/50\n",
      "214573/214573 [==============================] - 2s 9us/step - loss: 4.3309 - accuracy: 0.6664 - val_loss: 8.6805 - val_accuracy: 0.7018\n",
      "Epoch 27/50\n",
      "214573/214573 [==============================] - 2s 9us/step - loss: 4.5596 - accuracy: 0.6622 - val_loss: 5.0218 - val_accuracy: 0.6472\n",
      "Epoch 28/50\n",
      "214573/214573 [==============================] - 2s 9us/step - loss: 4.4820 - accuracy: 0.6659 - val_loss: 3.8012 - val_accuracy: 0.7016\n",
      "Epoch 29/50\n",
      "214573/214573 [==============================] - 2s 9us/step - loss: 4.2893 - accuracy: 0.6660 - val_loss: 2.4434 - val_accuracy: 0.6924\n",
      "Epoch 30/50\n",
      "214573/214573 [==============================] - 2s 9us/step - loss: 4.4415 - accuracy: 0.6644 - val_loss: 2.7154 - val_accuracy: 0.7018\n",
      "Epoch 31/50\n",
      "214573/214573 [==============================] - 2s 9us/step - loss: 4.2472 - accuracy: 0.6654 - val_loss: 2.3400 - val_accuracy: 0.6458\n",
      "Epoch 32/50\n",
      "214573/214573 [==============================] - 2s 9us/step - loss: 4.5624 - accuracy: 0.6654 - val_loss: 0.9036 - val_accuracy: 0.7018\n",
      "Epoch 33/50\n",
      "214573/214573 [==============================] - 2s 9us/step - loss: 4.4309 - accuracy: 0.6643 - val_loss: 7.0981 - val_accuracy: 0.7013\n",
      "Epoch 34/50\n",
      "214573/214573 [==============================] - 2s 9us/step - loss: 4.3623 - accuracy: 0.6652 - val_loss: 5.2577 - val_accuracy: 0.6155\n",
      "Epoch 35/50\n",
      "214573/214573 [==============================] - 2s 9us/step - loss: 4.2883 - accuracy: 0.6669 - val_loss: 5.7517 - val_accuracy: 0.7018\n",
      "Epoch 36/50\n",
      "214573/214573 [==============================] - 2s 8us/step - loss: 4.6172 - accuracy: 0.6657 - val_loss: 2.3770 - val_accuracy: 0.7004\n",
      "Epoch 37/50\n",
      "214573/214573 [==============================] - 2s 8us/step - loss: 4.3871 - accuracy: 0.6668 - val_loss: 6.3689 - val_accuracy: 0.7015\n",
      "Epoch 38/50\n",
      "214573/214573 [==============================] - 2s 8us/step - loss: 4.3541 - accuracy: 0.6668 - val_loss: 2.6107 - val_accuracy: 0.6537\n",
      "Epoch 39/50\n",
      "214573/214573 [==============================] - 2s 9us/step - loss: 4.7386 - accuracy: 0.6645 - val_loss: 1.5964 - val_accuracy: 0.7018\n",
      "Epoch 40/50\n",
      "214573/214573 [==============================] - 2s 10us/step - loss: 3.9806 - accuracy: 0.6688 - val_loss: 7.0353 - val_accuracy: 0.6483\n",
      "Epoch 41/50\n",
      "214573/214573 [==============================] - 2s 10us/step - loss: 4.2070 - accuracy: 0.6660 - val_loss: 1.4484 - val_accuracy: 0.6573\n",
      "Epoch 42/50\n",
      "214573/214573 [==============================] - 2s 11us/step - loss: 4.4444 - accuracy: 0.6638 - val_loss: 5.5721 - val_accuracy: 0.6956\n",
      "Epoch 43/50\n",
      "214573/214573 [==============================] - 2s 10us/step - loss: 4.5523 - accuracy: 0.6664 - val_loss: 5.5791 - val_accuracy: 0.7018\n",
      "Epoch 44/50\n",
      "214573/214573 [==============================] - 2s 9us/step - loss: 4.1528 - accuracy: 0.6688 - val_loss: 1.7002 - val_accuracy: 0.7026\n",
      "Epoch 45/50\n",
      "214573/214573 [==============================] - 2s 9us/step - loss: 4.9886 - accuracy: 0.6659 - val_loss: 4.1212 - val_accuracy: 0.6477\n",
      "Epoch 46/50\n",
      "214573/214573 [==============================] - 2s 9us/step - loss: 4.1292 - accuracy: 0.6703 - val_loss: 2.3233 - val_accuracy: 0.7025\n",
      "Epoch 47/50\n",
      "214573/214573 [==============================] - 2s 9us/step - loss: 4.6696 - accuracy: 0.6684 - val_loss: 9.9824 - val_accuracy: 0.6446\n",
      "Epoch 48/50\n",
      "214573/214573 [==============================] - 2s 9us/step - loss: 4.5318 - accuracy: 0.6687 - val_loss: 2.9058 - val_accuracy: 0.6478\n",
      "Epoch 49/50\n",
      "214573/214573 [==============================] - 2s 11us/step - loss: 4.3809 - accuracy: 0.6676 - val_loss: 5.1343 - val_accuracy: 0.6186\n",
      "Epoch 50/50\n",
      "214573/214573 [==============================] - 2s 9us/step - loss: 4.6151 - accuracy: 0.6667 - val_loss: 6.8867 - val_accuracy: 0.6473\n"
     ]
    }
   ],
   "source": [
    "model1 = keras.models.Sequential()\n",
    "model1.add(keras.layers.Dense(4, activation = 'softmax'))\n",
    "model1.compile(optimizer = 'adam', \n",
    "            loss = 'sparse_categorical_crossentropy', \n",
    "            metrics = ['accuracy'])\n",
    "model1_history = model1.fit(X_train_value, y_train_value, \n",
    "                            validation_data=(X_test_value, y_test_value), \n",
    "                            epochs=50, batch_size=100)"
   ]
  },
  {
   "cell_type": "markdown",
   "metadata": {},
   "source": [
    "> We can see that validation accuracy is around 63-64% (it might change when you run), let's try to add more layers and see whether accuracy increases or not"
   ]
  },
  {
   "cell_type": "markdown",
   "metadata": {},
   "source": [
    "## MODEL II: Neural Nets with four layers"
   ]
  },
  {
   "cell_type": "code",
   "execution_count": 141,
   "metadata": {
    "scrolled": false
   },
   "outputs": [
    {
     "name": "stdout",
     "output_type": "stream",
     "text": [
      "Train on 214573 samples, validate on 91961 samples\n",
      "Epoch 1/50\n",
      "214573/214573 [==============================] - 3s 16us/step - loss: 101.5175 - accuracy: 0.4219 - val_loss: 1.2600 - val_accuracy: 0.4557\n",
      "Epoch 2/50\n",
      "214573/214573 [==============================] - 3s 15us/step - loss: 1.4920 - accuracy: 0.4519 - val_loss: 1.2601 - val_accuracy: 0.4557\n",
      "Epoch 3/50\n",
      "214573/214573 [==============================] - 4s 19us/step - loss: 1.3468 - accuracy: 0.4532 - val_loss: 1.2577 - val_accuracy: 0.4603\n",
      "Epoch 4/50\n",
      "214573/214573 [==============================] - 4s 20us/step - loss: 1.2710 - accuracy: 0.4564 - val_loss: 1.2559 - val_accuracy: 0.4608\n",
      "Epoch 5/50\n",
      "214573/214573 [==============================] - 4s 17us/step - loss: 1.2615 - accuracy: 0.4596 - val_loss: 1.2415 - val_accuracy: 0.4757\n",
      "Epoch 6/50\n",
      "214573/214573 [==============================] - 3s 15us/step - loss: 1.2400 - accuracy: 0.4747 - val_loss: 1.2255 - val_accuracy: 0.4842\n",
      "Epoch 7/50\n",
      "214573/214573 [==============================] - 3s 15us/step - loss: 1.2198 - accuracy: 0.4806 - val_loss: 1.1806 - val_accuracy: 0.4870\n",
      "Epoch 8/50\n",
      "214573/214573 [==============================] - 3s 15us/step - loss: 1.1922 - accuracy: 0.4824 - val_loss: 1.1795 - val_accuracy: 0.4870\n",
      "Epoch 9/50\n",
      "214573/214573 [==============================] - 3s 15us/step - loss: 1.1853 - accuracy: 0.4832 - val_loss: 1.1797 - val_accuracy: 0.4870\n",
      "Epoch 10/50\n",
      "214573/214573 [==============================] - 3s 15us/step - loss: 1.1836 - accuracy: 0.4833 - val_loss: 1.1786 - val_accuracy: 0.4870\n",
      "Epoch 11/50\n",
      "214573/214573 [==============================] - 3s 15us/step - loss: 1.1848 - accuracy: 0.4835 - val_loss: 1.1788 - val_accuracy: 0.4870\n",
      "Epoch 12/50\n",
      "214573/214573 [==============================] - 3s 14us/step - loss: 1.1864 - accuracy: 0.4834 - val_loss: 1.1784 - val_accuracy: 0.4870\n",
      "Epoch 13/50\n",
      "214573/214573 [==============================] - 3s 15us/step - loss: 1.1851 - accuracy: 0.4835 - val_loss: 1.1784 - val_accuracy: 0.4870\n",
      "Epoch 14/50\n",
      "214573/214573 [==============================] - 3s 15us/step - loss: 1.1822 - accuracy: 0.4836 - val_loss: 1.1786 - val_accuracy: 0.4870\n",
      "Epoch 15/50\n",
      "214573/214573 [==============================] - 3s 15us/step - loss: 1.1834 - accuracy: 0.4836 - val_loss: 1.1782 - val_accuracy: 0.4870\n",
      "Epoch 16/50\n",
      "214573/214573 [==============================] - 3s 15us/step - loss: 1.1816 - accuracy: 0.4837 - val_loss: 1.1773 - val_accuracy: 0.4870\n",
      "Epoch 17/50\n",
      "214573/214573 [==============================] - 3s 15us/step - loss: 1.1816 - accuracy: 0.4834 - val_loss: 1.1778 - val_accuracy: 0.4870\n",
      "Epoch 18/50\n",
      "214573/214573 [==============================] - 3s 15us/step - loss: 1.1842 - accuracy: 0.4835 - val_loss: 1.1807 - val_accuracy: 0.4870\n",
      "Epoch 19/50\n",
      "214573/214573 [==============================] - 3s 15us/step - loss: 1.1819 - accuracy: 0.4835 - val_loss: 1.1777 - val_accuracy: 0.4870\n",
      "Epoch 20/50\n",
      "214573/214573 [==============================] - 3s 15us/step - loss: 1.1987 - accuracy: 0.4838 - val_loss: 1.1768 - val_accuracy: 0.4870\n",
      "Epoch 21/50\n",
      "214573/214573 [==============================] - 3s 15us/step - loss: 1.1826 - accuracy: 0.4835 - val_loss: 1.1770 - val_accuracy: 0.4870\n",
      "Epoch 22/50\n",
      "214573/214573 [==============================] - 3s 15us/step - loss: 1.1843 - accuracy: 0.4834 - val_loss: 1.1768 - val_accuracy: 0.4871\n",
      "Epoch 23/50\n",
      "214573/214573 [==============================] - 3s 15us/step - loss: 1.1903 - accuracy: 0.4833 - val_loss: 1.1770 - val_accuracy: 0.4870\n",
      "Epoch 24/50\n",
      "214573/214573 [==============================] - 3s 15us/step - loss: 1.1846 - accuracy: 0.4836 - val_loss: 1.1768 - val_accuracy: 0.4870\n",
      "Epoch 25/50\n",
      "214573/214573 [==============================] - 3s 14us/step - loss: 1.1811 - accuracy: 0.4836 - val_loss: 1.1774 - val_accuracy: 0.4870\n",
      "Epoch 26/50\n",
      "214573/214573 [==============================] - 3s 14us/step - loss: 1.1805 - accuracy: 0.4837 - val_loss: 1.1768 - val_accuracy: 0.4870\n",
      "Epoch 27/50\n",
      "214573/214573 [==============================] - 3s 15us/step - loss: 1.1875 - accuracy: 0.4836 - val_loss: 1.1774 - val_accuracy: 0.4872\n",
      "Epoch 28/50\n",
      "214573/214573 [==============================] - 3s 15us/step - loss: 1.1801 - accuracy: 0.4837 - val_loss: 1.1764 - val_accuracy: 0.4873\n",
      "Epoch 29/50\n",
      "214573/214573 [==============================] - 3s 15us/step - loss: 1.1797 - accuracy: 0.4844 - val_loss: 1.1772 - val_accuracy: 0.4876\n",
      "Epoch 30/50\n",
      "214573/214573 [==============================] - 3s 15us/step - loss: 1.1810 - accuracy: 0.4836 - val_loss: 1.1765 - val_accuracy: 0.4872\n",
      "Epoch 31/50\n",
      "214573/214573 [==============================] - 3s 15us/step - loss: 1.1901 - accuracy: 0.4838 - val_loss: 1.1772 - val_accuracy: 0.4870\n",
      "Epoch 32/50\n",
      "214573/214573 [==============================] - 3s 15us/step - loss: 1.1998 - accuracy: 0.4838 - val_loss: 1.1772 - val_accuracy: 0.4875\n",
      "Epoch 33/50\n",
      "214573/214573 [==============================] - 3s 14us/step - loss: 1.1807 - accuracy: 0.4843 - val_loss: 1.1775 - val_accuracy: 0.4876\n",
      "Epoch 34/50\n",
      "214573/214573 [==============================] - 3s 15us/step - loss: 1.1899 - accuracy: 0.4841 - val_loss: 1.1766 - val_accuracy: 0.4875\n",
      "Epoch 35/50\n",
      "214573/214573 [==============================] - 3s 15us/step - loss: 1.1807 - accuracy: 0.4841 - val_loss: 1.1774 - val_accuracy: 0.4870\n",
      "Epoch 36/50\n",
      "214573/214573 [==============================] - 3s 15us/step - loss: 1.1809 - accuracy: 0.4839 - val_loss: 1.1766 - val_accuracy: 0.4874\n",
      "Epoch 37/50\n",
      "214573/214573 [==============================] - 3s 15us/step - loss: 1.1801 - accuracy: 0.4841 - val_loss: 1.1765 - val_accuracy: 0.4876\n",
      "Epoch 38/50\n",
      "214573/214573 [==============================] - 3s 15us/step - loss: 1.1804 - accuracy: 0.4844 - val_loss: 1.1765 - val_accuracy: 0.4896\n",
      "Epoch 39/50\n",
      "214573/214573 [==============================] - 3s 15us/step - loss: 1.1809 - accuracy: 0.4852 - val_loss: 1.1757 - val_accuracy: 0.4899\n",
      "Epoch 40/50\n",
      "214573/214573 [==============================] - 3s 15us/step - loss: 1.1789 - accuracy: 0.4858 - val_loss: 1.1760 - val_accuracy: 0.4892\n",
      "Epoch 41/50\n",
      "214573/214573 [==============================] - 3s 15us/step - loss: 1.1793 - accuracy: 0.4855 - val_loss: 1.1759 - val_accuracy: 0.4901\n",
      "Epoch 42/50\n",
      "214573/214573 [==============================] - 3s 15us/step - loss: 1.1887 - accuracy: 0.4861 - val_loss: 1.1748 - val_accuracy: 0.4900\n",
      "Epoch 43/50\n",
      "214573/214573 [==============================] - 3s 15us/step - loss: 1.1785 - accuracy: 0.4860 - val_loss: 1.1748 - val_accuracy: 0.4900\n",
      "Epoch 44/50\n",
      "214573/214573 [==============================] - 3s 15us/step - loss: 1.1780 - accuracy: 0.4862 - val_loss: 1.1745 - val_accuracy: 0.4898\n",
      "Epoch 45/50\n",
      "214573/214573 [==============================] - 3s 15us/step - loss: 1.1780 - accuracy: 0.4860 - val_loss: 1.1746 - val_accuracy: 0.4897\n",
      "Epoch 46/50\n",
      "214573/214573 [==============================] - 3s 15us/step - loss: 1.1882 - accuracy: 0.4863 - val_loss: 1.1743 - val_accuracy: 0.4901\n",
      "Epoch 47/50\n",
      "214573/214573 [==============================] - 3s 14us/step - loss: 1.1787 - accuracy: 0.4863 - val_loss: 1.1746 - val_accuracy: 0.4895\n",
      "Epoch 48/50\n",
      "214573/214573 [==============================] - 3s 15us/step - loss: 1.1786 - accuracy: 0.4863 - val_loss: 1.1748 - val_accuracy: 0.4902\n",
      "Epoch 49/50\n",
      "214573/214573 [==============================] - 3s 15us/step - loss: 1.1884 - accuracy: 0.4859 - val_loss: 1.1742 - val_accuracy: 0.4902\n",
      "Epoch 50/50\n",
      "214573/214573 [==============================] - 3s 14us/step - loss: 1.1850 - accuracy: 0.4864 - val_loss: 1.1745 - val_accuracy: 0.4902\n"
     ]
    }
   ],
   "source": [
    "model2 = keras.models.Sequential()\n",
    "model2.add(keras.layers.Dense(32, activation='relu'))\n",
    "model2.add(Dropout(0.2))\n",
    "model2.add(keras.layers.Dense(16, activation='relu'))\n",
    "model2.add(Dropout(0.2))\n",
    "model2.add(keras.layers.Dense(8, activation='relu'))\n",
    "model2.add(Dropout(0.1))\n",
    "model2.add(keras.layers.Dense(4, activation = 'softmax'))\n",
    "model2.compile(optimizer = 'adam', \n",
    "            loss = 'sparse_categorical_crossentropy', \n",
    "            metrics = ['accuracy'])\n",
    "model2_history = model2.fit(X_train_value, y_train_value, \n",
    "                            validation_data=(X_test_value, y_test_value),\n",
    "                            epochs=50, batch_size=100)                                 "
   ]
  },
  {
   "cell_type": "markdown",
   "metadata": {},
   "source": [
    "> Adding more layers reduces the validation accuracy, what could be the reasons ?<br>\n",
    "    1. We added dropout here which act as regularizer so model might underfits.<br>\n",
    "    2. Since adding more layers leads to more parameters so in order to train them, we might not be able to provide adequate quantity of training dataset.<br>\n",
    "    3. Dataset might be simpler and such complex model are not needed.<br>\n",
    "\n",
    "Indeed option 3 needs to be checked, that's my next models, i will try fitting the dataset in random forest as well as decision tree."
   ]
  },
  {
   "cell_type": "markdown",
   "metadata": {},
   "source": [
    "## MODEL III: Random Forest Classifier"
   ]
  },
  {
   "cell_type": "code",
   "execution_count": 143,
   "metadata": {},
   "outputs": [
    {
     "data": {
      "text/plain": [
       "RandomForestClassifier(random_state=42)"
      ]
     },
     "execution_count": 143,
     "metadata": {},
     "output_type": "execute_result"
    }
   ],
   "source": [
    "model3 = RandomForestClassifier(random_state=42)\n",
    "model3.fit(X_train, y_train)"
   ]
  },
  {
   "cell_type": "markdown",
   "metadata": {},
   "source": [
    "> Here i am fitting the data in random forest classifier, random state is set to 42(after hyperparameter tuning)"
   ]
  },
  {
   "cell_type": "code",
   "execution_count": 144,
   "metadata": {},
   "outputs": [
    {
     "name": "stdout",
     "output_type": "stream",
     "text": [
      "The score by MODEL III is  0.782038037863877\n"
     ]
    }
   ],
   "source": [
    "print(\"The score by MODEL III is \",model3.score(X_test,y_test))"
   ]
  },
  {
   "cell_type": "code",
   "execution_count": 146,
   "metadata": {},
   "outputs": [
    {
     "name": "stdout",
     "output_type": "stream",
     "text": [
      "Printing Confusion Matrix below :\n",
      "\n",
      "\n",
      "\n",
      "[[18705  3369     0   646]\n",
      " [ 5137  7826     0  4276]\n",
      " [    0     0 41905     0]\n",
      " [ 1464  5152     0  3481]]\n",
      "\n",
      "\n",
      "\n",
      "\n",
      "Classification Report Below :\n",
      "\n",
      "\n",
      "\n",
      "              precision    recall  f1-score   support\n",
      "\n",
      "           0       0.74      0.82      0.78     22720\n",
      "           1       0.48      0.45      0.47     17239\n",
      "           2       1.00      1.00      1.00     41905\n",
      "           3       0.41      0.34      0.38     10097\n",
      "\n",
      "    accuracy                           0.78     91961\n",
      "   macro avg       0.66      0.66      0.66     91961\n",
      "weighted avg       0.77      0.78      0.78     91961\n",
      "\n"
     ]
    }
   ],
   "source": [
    "y_pred = model3.predict(X_test)\n",
    "print(\"Printing Confusion Matrix below :\\n\\n\\n\")\n",
    "print(confusion_matrix(y_test, y_pred))\n",
    "print(\"\\n\\n\\n\")\n",
    "print(\"Classification Report Below :\\n\\n\\n\")\n",
    "print(classification_report(y_test, y_pred))"
   ]
  },
  {
   "cell_type": "markdown",
   "metadata": {},
   "source": [
    "> Random Forest is giving accuracy better than the above two models, accuracy is around 78%(might change while you run)"
   ]
  },
  {
   "cell_type": "markdown",
   "metadata": {},
   "source": [
    "## MODEL IV: Decision Tree Classifier"
   ]
  },
  {
   "cell_type": "code",
   "execution_count": 147,
   "metadata": {},
   "outputs": [
    {
     "data": {
      "text/plain": [
       "DecisionTreeClassifier(random_state=42)"
      ]
     },
     "execution_count": 147,
     "metadata": {},
     "output_type": "execute_result"
    }
   ],
   "source": [
    "model4 = DecisionTreeClassifier(random_state=42)\n",
    "model4.fit(X_train, y_train)"
   ]
  },
  {
   "cell_type": "markdown",
   "metadata": {},
   "source": [
    "> Here i am fitting the data in decision tree, random state is set to 42(after hyperparameter tuning)"
   ]
  },
  {
   "cell_type": "code",
   "execution_count": 148,
   "metadata": {},
   "outputs": [
    {
     "name": "stdout",
     "output_type": "stream",
     "text": [
      "The score by MODEL IV is  0.8138558736855841\n"
     ]
    }
   ],
   "source": [
    "print(\"The score by MODEL IV is \",model4.score(X_test,y_test))"
   ]
  },
  {
   "cell_type": "code",
   "execution_count": 149,
   "metadata": {},
   "outputs": [
    {
     "name": "stdout",
     "output_type": "stream",
     "text": [
      "Printing Confusion Matrix below :\n",
      "\n",
      "\n",
      "\n",
      "[[19174  2961     0   585]\n",
      " [ 3718  9128     0  4393]\n",
      " [    0     0 41905     0]\n",
      " [  805  4656     0  4636]]\n",
      "\n",
      "\n",
      "\n",
      "\n",
      "Classification Report Below :\n",
      "\n",
      "\n",
      "\n",
      "              precision    recall  f1-score   support\n",
      "\n",
      "           0       0.81      0.84      0.83     22720\n",
      "           1       0.55      0.53      0.54     17239\n",
      "           2       1.00      1.00      1.00     41905\n",
      "           3       0.48      0.46      0.47     10097\n",
      "\n",
      "    accuracy                           0.81     91961\n",
      "   macro avg       0.71      0.71      0.71     91961\n",
      "weighted avg       0.81      0.81      0.81     91961\n",
      "\n"
     ]
    }
   ],
   "source": [
    "y_pred = model4.predict(X_test)\n",
    "print(\"Printing Confusion Matrix below :\\n\\n\\n\")\n",
    "print(confusion_matrix(y_test, y_pred))\n",
    "print(\"\\n\\n\\n\")\n",
    "print(\"Classification Report Below :\\n\\n\\n\")\n",
    "print(classification_report(y_test, y_pred))"
   ]
  },
  {
   "cell_type": "markdown",
   "metadata": {},
   "source": [
    "Decision Tree is giving accuracy better than the above three models, accuracy is around 81%(might change while you run)"
   ]
  },
  {
   "cell_type": "code",
   "execution_count": 156,
   "metadata": {},
   "outputs": [],
   "source": [
    "def find_parameters(X,y):\n",
    "    '''\n",
    "    input:\n",
    "    - X,y: training datasets for X and y\n",
    "    output:\n",
    "    - dictionary with best parameters for random forest model\n",
    "    '''\n",
    "    \n",
    "    param_grid={'max_features': ['auto', 'sqrt'],\n",
    "                'max_depth' : [2,4,8],\n",
    "                'n_estimators': [2,4,8],\n",
    "                'min_samples_split': [2, 4, 8],\n",
    "                'min_samples_leaf': [2,4,6,8],\n",
    "                }\n",
    "    grid_search = GridSearchCV(RandomForestClassifier(random_state=42), param_grid)\n",
    "    grid_search.fit(X, y)\n",
    "    grid_search.best_params_\n",
    "    return grid_search.best_params_"
   ]
  },
  {
   "cell_type": "code",
   "execution_count": 157,
   "metadata": {},
   "outputs": [
    {
     "data": {
      "text/plain": [
       "{'max_depth': 8,\n",
       " 'max_features': 'auto',\n",
       " 'min_samples_leaf': 2,\n",
       " 'min_samples_split': 2,\n",
       " 'n_estimators': 2}"
      ]
     },
     "execution_count": 157,
     "metadata": {},
     "output_type": "execute_result"
    }
   ],
   "source": [
    "# DON'T RUN IT, UNLESS REQUIRED AS IT WILL TAKE SOME TIME\n",
    "# find_parameters(X_train, y_train)"
   ]
  },
  {
   "cell_type": "markdown",
   "metadata": {},
   "source": [
    "> To be more specific we can also use grid search to find parameters, but here i have already used to, please try not to run the find_parameters() function as it might take some time.<br>\n",
    "> If one should select random forest if max depth would be 8 then min split would be 2 and min sample leaf will also be 2"
   ]
  },
  {
   "cell_type": "markdown",
   "metadata": {},
   "source": [
    "## About Evalution Criteria\n",
    "\n",
    "I am using F1-score most of the time for evaluation, as it also takes into consideration the distribution, accuracy blindly calculate the score and do not take into consideration the internal architecture of dataset. To explain this i am taking an example consider a binary classification task where data set has 100 samples with 90 negative sample and 10 positive sample. <br>\n",
    "**BAD CLASSIFIER** : Suppose i made one line classifier who predicts only negative samples, i.e., even if we have positive dataset it will be predicted as negative. See how bad this classifier is, but it's accuracy is 90%, while its F1 score is 0.<br><br>"
   ]
  },
  {
   "cell_type": "markdown",
   "metadata": {},
   "source": [
    "## Saving the best model"
   ]
  },
  {
   "cell_type": "code",
   "execution_count": 150,
   "metadata": {},
   "outputs": [],
   "source": [
    "import pickle\n",
    "# Only use it when required changing\n",
    "# pickle.dump(model4,open('model', 'wb'))"
   ]
  },
  {
   "cell_type": "markdown",
   "metadata": {},
   "source": [
    "> Please `comment off` the above line to overwrite the model."
   ]
  },
  {
   "cell_type": "markdown",
   "metadata": {},
   "source": [
    "## SUMMARY :\n",
    "\n",
    "So in this section we trained four different models and we can say overall that these models had incresing complexity, but it turns out that simplest model outperforms all others in terms of accuracy. <br>\n",
    "Further this might happens because our data-set after cleaning became close to ideal, that's why data-preprocessing is crucial step. Also if we will use more complex model then we might also fullfill the requirement of data, to train those parameters. Further regularization also plays major role in accuracy, here since the dataset and covariates were simple and complementing each other so excessive use of regularizer might produce negative effect: e.g., model 2 has lower accuracy than model1 since we added dropouts, similarly model 3 has lower accuracy than model 4 as random forests are ensemble of decision tree with inherent regularization effect inside them. <br><br>\n",
    "\n",
    " 1. We concluded that when we get enough data like transaction', 'offer_id', 'amount', 'gender', 'age', 'income' we can easly target audience with respectable accuracy, that's how starbuck is working i guess.<br><br>\n",
    " 2. There may be many improvements in terms of predictions, potential improvements which i could think of are using higher order features, using features has combination of others, selecting different model pipeline(maybe using gridsearch), doing something different with respect to data-cleaning, adding more features or deleting some."
   ]
  },
  {
   "cell_type": "markdown",
   "metadata": {},
   "source": [
    "# CONCLUSION\n",
    "\n",
    "I firstly like to thanks udacity team for this awesome project, also i would like to thanks the grader who will be grading this project. I found some part of project challenging specially data cleaning part and model training part. The `transcript` dataset was really challenging and my most of the time consumes in cleaning that bit, but overall the experience was really nice. <br>\n",
    "\n",
    "## END TO END PROJECT DESCRIPTION\n",
    "\n",
    "1. Data exploration, here i did finding of NaNs, Inf and other abnormal values, observing the data-types and categories of dataset.\n",
    "2. Data cleaning/preprocessing, here i first changes names of some columns so that it is helpful in merging, further i managed categorical data-type by mapping them to int(ordinal) so that classifier do not make errors in them. Further i replaced all Inf values and NaN by the mean of dataset. Also i splitted multiple valued columns into single columns, basically i changed the dataset to 3NF.\n",
    "3. Exploratory data analysis, here i saw correlation between features and then selected some features for training, also i plotted some features just to see how their distribution is. Further from their got to know few statistics result like how many persons are male, how many are getting discount offers etc.\n",
    "4. Finally i trained four models based on feature selection, and used hyperparameter tuning especially for random forest classifier. My criteria of model selection was validation accuracy, and i managed decision tree model with validation accuracy 81%.\n",
    "\n",
    "## BRIEF OVERVIEW(REFLECTIONS)\n",
    "\n",
    "The quandary that I opted to solve was to build a model that checks whether a customer will respond to an offer. My strategy for solving this problem has overall four steps(talking abstarct). Firstly, I coalesced offer portfolio, customer profile, and transaction data. Secondly, I had done feature selection and data cleaning related to that(feature selection), i have used correlation matrix too. Thirdly, I assessed the precision and F1-score of a problem model that postulates all offers. Finally, I compared the performance of neural nets, random forest, and decision models. This analysis suggests that an decision tree model has the best training data precision and F1-score(around 0.81). I also refined random forest model hyperparameters utilizing a grid search but still decision tree was overall best for my analysis.<br>\n",
    "\n",
    "\n",
    "`1. How an offer works in starbucks in general? What are the top offers provided by them?`<br>\n",
    "The ads/offers are sent through different forms(multiple channels), one can easily see from the plots and data analysis above that different populations have different ads/offers(at least differing by gender, age, income and/or since they are customers). Also top offers are completely subjective to particular population, let's again see the scenario since most people are within age group of [40-70], so we cannot sell only fast food to them, we need to be more careful about rolling out combo packages.  One idea is we can include soup, vegetable salad etc like stuffs with traditional starbucks food to attract them. So for them top offers will be this combo.\n",
    "Gender might be factor for giving adds and offers. We can see that ratio between male and female is approximately 3:2, e.g. let's say female like deserts so this might be top feature for them.<br>\n",
    "\n",
    "`2. What is change in market of starbucks when some offer is there?`<br>\n",
    "Market is highely depends uponn offers as we have already seen this in Exploratory data analysis, we have seen that different offer_id have different probability of being viewed, this kinda makes sense because this might depends on user interest, interesting offers attracts more customers(and users view only those).<br>\n",
    "\n",
    "`3. How user action parameters(say viewed, offer recieved, transaction done, cancelled, completed) are related to demographic attributes or other attributes that company floats?`<br>\n",
    "I was thinking that there will be no relation between these, i.e., customers will not be influenced by these attributes but after analysing the plots and model i realized that there was some gap in my thought, different offer were given to different section of people depending upon locations, gender etc, and change in market hugely depend upon it. Offer recieved for some region might be different from others similarly offer viewed depends upon this and various other factors. The outcome of these is certainly transaction done/completed or cancelled.\n",
    "\n",
    "\n",
    "## POTENTIAL IMPROVEMENTS\n",
    "\n",
    "1. One can think of using multiple features or higher order features for better prediction accuracy. \n",
    "2. Data cleaning could be performed more aggresively, e.g., handling missing value can be done using some heuristics made after doing deep analysis of dataset.\n",
    "3. I didn't used all the features because i didn't find any use of them, maybe these features could give hidden insights, e.g., I could not think of additional features using the time data.\n",
    "4. Choice of model, one might think more complex Neural nets with suitable dropouts, Boosted Trees, Naive Bayes model or may try SVM. Hyperparameters and number of epochs specially in neural networks could be increased."
   ]
  },
  {
   "cell_type": "markdown",
   "metadata": {},
   "source": [
    "# REFERENCES\n",
    "\n",
    "\n",
    "1. https://stackoverflow.com/questions/37600711/pandas-split-column-into-multiple-columns-by-comma\n",
    "2. https://pandas.pydata.org/pandas-docs/version/0.23.4/generated/pandas.merge.html\n",
    "3. https://pandas.pydata.org/pandas-docs/stable/reference/api/pandas.DataFrame.replace.html\n",
    "4. https://www.analyticsvidhya.com/blog/2020/04/feature-scaling-machine-learning-normalization-standardization/\n",
    "5. https://www.tensorflow.org/tutorials/keras/classification\n",
    "\n"
   ]
  },
  {
   "cell_type": "code",
   "execution_count": null,
   "metadata": {},
   "outputs": [],
   "source": []
  }
 ],
 "metadata": {
  "kernelspec": {
   "display_name": "Python 3",
   "language": "python",
   "name": "python3"
  },
  "language_info": {
   "codemirror_mode": {
    "name": "ipython",
    "version": 3
   },
   "file_extension": ".py",
   "mimetype": "text/x-python",
   "name": "python",
   "nbconvert_exporter": "python",
   "pygments_lexer": "ipython3",
   "version": "3.7.10"
  }
 },
 "nbformat": 4,
 "nbformat_minor": 2
}
